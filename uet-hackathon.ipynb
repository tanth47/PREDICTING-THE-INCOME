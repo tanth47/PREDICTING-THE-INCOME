{
 "cells": [
  {
   "cell_type": "code",
   "execution_count": 1,
   "id": "146b65da",
   "metadata": {
    "_cell_guid": "b1076dfc-b9ad-4769-8c92-a6c4dae69d19",
    "_uuid": "8f2839f25d086af736a60e9eeb907d3b93b6e0e5",
    "execution": {
     "iopub.execute_input": "2023-02-02T16:29:21.971993Z",
     "iopub.status.busy": "2023-02-02T16:29:21.971657Z",
     "iopub.status.idle": "2023-02-02T16:29:24.531516Z",
     "shell.execute_reply": "2023-02-02T16:29:24.530491Z"
    },
    "papermill": {
     "duration": 2.592005,
     "end_time": "2023-02-02T16:29:24.534254",
     "exception": false,
     "start_time": "2023-02-02T16:29:21.942249",
     "status": "completed"
    },
    "tags": []
   },
   "outputs": [],
   "source": [
    "# This Python 3 environment comes with many helpful analytics libraries installed\n",
    "# It is defined by the kaggle/python Docker image: https://github.com/kaggle/docker-python\n",
    "# For example, here's several helpful packages to load\n",
    "\n",
    "import numpy as np # linear algebra\n",
    "import pandas as pd # data processing, CSV file I/O (e.g. pd.read_csv)\n",
    "\n",
    "# Input data files are available in the read-only \"../input/\" directory\n",
    "# For example, running this (by clicking run or pressing Shift+Enter) will list all files under the input directory\n",
    "\n",
    "\n",
    "import gc\n",
    "import os\n",
    "import sklearn\n",
    "import datetime\n",
    "import seaborn as sns\n",
    "import numpy as np\n",
    "import pandas as pd\n",
    "from matplotlib import pyplot as plt\n",
    "\n",
    "BASE_PATH = '../input/uet-hackathon-2022-data-science'\n",
    "DS_PATH = '../'\n",
    "OUTPUT_PATH = f'./model/{datetime.datetime.now().strftime(\"%Y%m%d%H%M%S\")}'\n",
    "N_FOLD = 5\n",
    "SEED = 42\n",
    "NOT_FOUND_RANK = 35.5\n",
    "\n",
    "# try:\n",
    "#     os.makedirs(OUTPUT_PATH)\n",
    "# except:\n",
    "#     pass\n",
    "\n",
    "\n",
    "info_test_df: pd.DataFrame =  pd.read_csv(f'{BASE_PATH}/info_test.csv')\n",
    "info_train_df: pd.DataFrame =  pd.read_csv(f'{BASE_PATH}/info_train.csv')\n",
    "\n",
    "label_test_df: pd.DataFrame = pd.read_csv(f'{BASE_PATH}/label_test.csv')\n",
    "label_train_df: pd.DataFrame = pd.read_csv(f'{BASE_PATH}/label_train.csv')\n",
    "\n",
    "work_test_df: pd.DataFrame = pd.read_csv(f'{BASE_PATH}/work_test.csv')\n",
    "work_train_df: pd.DataFrame = pd.read_csv(f'{BASE_PATH}/work_train.csv')\n",
    "    \n",
    "rank_df = pd.read_csv('../input/city-rank/city_rank.csv')\n",
    "\n",
    "        \n",
    "# You can write up to 20GB to the current directory (/kaggle/working/) that gets preserved as output when you create a version using \"Save & Run All\" \n",
    "# You can also write temporary files to /kaggle/temp/, but they won't be saved outside of the current session\n"
   ]
  },
  {
   "cell_type": "code",
   "execution_count": 2,
   "id": "84504931",
   "metadata": {
    "execution": {
     "iopub.execute_input": "2023-02-02T16:29:24.591925Z",
     "iopub.status.busy": "2023-02-02T16:29:24.591591Z",
     "iopub.status.idle": "2023-02-02T16:29:24.737475Z",
     "shell.execute_reply": "2023-02-02T16:29:24.736839Z"
    },
    "papermill": {
     "duration": 0.176807,
     "end_time": "2023-02-02T16:29:24.740155",
     "exception": false,
     "start_time": "2023-02-02T16:29:24.563348",
     "status": "completed"
    },
    "tags": []
   },
   "outputs": [
    {
     "data": {
      "text/html": [
       "<div>\n",
       "<style scoped>\n",
       "    .dataframe tbody tr th:only-of-type {\n",
       "        vertical-align: middle;\n",
       "    }\n",
       "\n",
       "    .dataframe tbody tr th {\n",
       "        vertical-align: top;\n",
       "    }\n",
       "\n",
       "    .dataframe thead th {\n",
       "        text-align: right;\n",
       "    }\n",
       "</style>\n",
       "<table border=\"1\" class=\"dataframe\">\n",
       "  <thead>\n",
       "    <tr style=\"text-align: right;\">\n",
       "      <th></th>\n",
       "      <th>id</th>\n",
       "      <th>id_bh</th>\n",
       "      <th>id_management</th>\n",
       "      <th>id_office</th>\n",
       "      <th>company_type</th>\n",
       "      <th>job/role</th>\n",
       "      <th>from_date</th>\n",
       "      <th>to_date</th>\n",
       "      <th>employee_lv</th>\n",
       "      <th>address</th>\n",
       "    </tr>\n",
       "  </thead>\n",
       "  <tbody>\n",
       "    <tr>\n",
       "      <th>1</th>\n",
       "      <td>1</td>\n",
       "      <td>113039360</td>\n",
       "      <td>106</td>\n",
       "      <td>TF2212F</td>\n",
       "      <td>-1</td>\n",
       "      <td>Giám đốc</td>\n",
       "      <td>20160100</td>\n",
       "      <td>20220400</td>\n",
       "      <td>10.0</td>\n",
       "      <td>Hà Nội</td>\n",
       "    </tr>\n",
       "    <tr>\n",
       "      <th>3</th>\n",
       "      <td>2</td>\n",
       "      <td>116074930</td>\n",
       "      <td>102</td>\n",
       "      <td>TB16010</td>\n",
       "      <td>-1</td>\n",
       "      <td>Nhân viên lễ tân</td>\n",
       "      <td>20170100</td>\n",
       "      <td>20170300</td>\n",
       "      <td>8.0</td>\n",
       "      <td>Hà Nội</td>\n",
       "    </tr>\n",
       "    <tr>\n",
       "      <th>5</th>\n",
       "      <td>2</td>\n",
       "      <td>116074930</td>\n",
       "      <td>102</td>\n",
       "      <td>TB16010</td>\n",
       "      <td>-1</td>\n",
       "      <td>Nhân viên Sales Admin</td>\n",
       "      <td>20170800</td>\n",
       "      <td>20191200</td>\n",
       "      <td>8.0</td>\n",
       "      <td>Hà Nội</td>\n",
       "    </tr>\n",
       "    <tr>\n",
       "      <th>6</th>\n",
       "      <td>2</td>\n",
       "      <td>116074930</td>\n",
       "      <td>102</td>\n",
       "      <td>TB16010</td>\n",
       "      <td>-1</td>\n",
       "      <td>Nhân viên Sales Admin</td>\n",
       "      <td>20200100</td>\n",
       "      <td>20200600</td>\n",
       "      <td>9.0</td>\n",
       "      <td>Việt Nam</td>\n",
       "    </tr>\n",
       "    <tr>\n",
       "      <th>7</th>\n",
       "      <td>2</td>\n",
       "      <td>116074930</td>\n",
       "      <td>102</td>\n",
       "      <td>TB16010</td>\n",
       "      <td>-1</td>\n",
       "      <td>NaN</td>\n",
       "      <td>20200700</td>\n",
       "      <td>20201200</td>\n",
       "      <td>9.0</td>\n",
       "      <td>NaN</td>\n",
       "    </tr>\n",
       "    <tr>\n",
       "      <th>...</th>\n",
       "      <td>...</td>\n",
       "      <td>...</td>\n",
       "      <td>...</td>\n",
       "      <td>...</td>\n",
       "      <td>...</td>\n",
       "      <td>...</td>\n",
       "      <td>...</td>\n",
       "      <td>...</td>\n",
       "      <td>...</td>\n",
       "      <td>...</td>\n",
       "    </tr>\n",
       "    <tr>\n",
       "      <th>247547</th>\n",
       "      <td>55006</td>\n",
       "      <td>7516183730</td>\n",
       "      <td>7509</td>\n",
       "      <td>YN0168I</td>\n",
       "      <td>-1</td>\n",
       "      <td>CN Máy Ép Nhựa</td>\n",
       "      <td>20180600</td>\n",
       "      <td>20181200</td>\n",
       "      <td>8.0</td>\n",
       "      <td>Đồng Nai</td>\n",
       "    </tr>\n",
       "    <tr>\n",
       "      <th>247548</th>\n",
       "      <td>55006</td>\n",
       "      <td>7516183730</td>\n",
       "      <td>7509</td>\n",
       "      <td>YN0168I</td>\n",
       "      <td>-1</td>\n",
       "      <td>CÔNG NHÂN  Máy Ép Nhựa</td>\n",
       "      <td>20190100</td>\n",
       "      <td>20191200</td>\n",
       "      <td>9.0</td>\n",
       "      <td>Đồng Nai</td>\n",
       "    </tr>\n",
       "    <tr>\n",
       "      <th>247549</th>\n",
       "      <td>55006</td>\n",
       "      <td>7516183730</td>\n",
       "      <td>7509</td>\n",
       "      <td>YN0168I</td>\n",
       "      <td>-1</td>\n",
       "      <td>CÔNG NHÂN  Máy Ép Nhựa</td>\n",
       "      <td>20200100</td>\n",
       "      <td>20220400</td>\n",
       "      <td>10.0</td>\n",
       "      <td>Đồng Nai</td>\n",
       "    </tr>\n",
       "    <tr>\n",
       "      <th>247557</th>\n",
       "      <td>55008</td>\n",
       "      <td>2616117553</td>\n",
       "      <td>2600</td>\n",
       "      <td>TZ0085Z</td>\n",
       "      <td>1</td>\n",
       "      <td>Phụ kho</td>\n",
       "      <td>20180100</td>\n",
       "      <td>20191200</td>\n",
       "      <td>8.0</td>\n",
       "      <td>Vĩnh Phúc</td>\n",
       "    </tr>\n",
       "    <tr>\n",
       "      <th>247558</th>\n",
       "      <td>55008</td>\n",
       "      <td>2616117553</td>\n",
       "      <td>2600</td>\n",
       "      <td>TZ0085Z</td>\n",
       "      <td>1</td>\n",
       "      <td>Phụ kho</td>\n",
       "      <td>20200100</td>\n",
       "      <td>20210200</td>\n",
       "      <td>9.0</td>\n",
       "      <td>Vĩnh Phúc</td>\n",
       "    </tr>\n",
       "  </tbody>\n",
       "</table>\n",
       "<p>119138 rows × 10 columns</p>\n",
       "</div>"
      ],
      "text/plain": [
       "           id       id_bh  id_management id_office  company_type  \\\n",
       "1           1   113039360            106   TF2212F            -1   \n",
       "3           2   116074930            102   TB16010            -1   \n",
       "5           2   116074930            102   TB16010            -1   \n",
       "6           2   116074930            102   TB16010            -1   \n",
       "7           2   116074930            102   TB16010            -1   \n",
       "...       ...         ...            ...       ...           ...   \n",
       "247547  55006  7516183730           7509   YN0168I            -1   \n",
       "247548  55006  7516183730           7509   YN0168I            -1   \n",
       "247549  55006  7516183730           7509   YN0168I            -1   \n",
       "247557  55008  2616117553           2600   TZ0085Z             1   \n",
       "247558  55008  2616117553           2600   TZ0085Z             1   \n",
       "\n",
       "                      job/role  from_date   to_date  employee_lv    address  \n",
       "1                     Giám đốc   20160100  20220400         10.0     Hà Nội  \n",
       "3             Nhân viên lễ tân   20170100  20170300          8.0     Hà Nội  \n",
       "5        Nhân viên Sales Admin   20170800  20191200          8.0     Hà Nội  \n",
       "6        Nhân viên Sales Admin   20200100  20200600          9.0   Việt Nam  \n",
       "7                          NaN   20200700  20201200          9.0        NaN  \n",
       "...                        ...        ...       ...          ...        ...  \n",
       "247547          CN Máy Ép Nhựa   20180600  20181200          8.0   Đồng Nai  \n",
       "247548  CÔNG NHÂN  Máy Ép Nhựa   20190100  20191200          9.0   Đồng Nai  \n",
       "247549  CÔNG NHÂN  Máy Ép Nhựa   20200100  20220400         10.0   Đồng Nai  \n",
       "247557                 Phụ kho   20180100  20191200          8.0  Vĩnh Phúc  \n",
       "247558                 Phụ kho   20200100  20210200          9.0  Vĩnh Phúc  \n",
       "\n",
       "[119138 rows x 10 columns]"
      ]
     },
     "execution_count": 2,
     "metadata": {},
     "output_type": "execute_result"
    }
   ],
   "source": [
    "info_train_df.describe()\n",
    "label_train_df.describe()\n",
    "work_train_df.describe()\n",
    "work_train_df[work_train_df['employee_lv'] > 7]\n",
    "# work_train_df.info()"
   ]
  },
  {
   "cell_type": "code",
   "execution_count": 3,
   "id": "a0338f75",
   "metadata": {
    "execution": {
     "iopub.execute_input": "2023-02-02T16:29:24.794457Z",
     "iopub.status.busy": "2023-02-02T16:29:24.794135Z",
     "iopub.status.idle": "2023-02-02T16:29:24.901508Z",
     "shell.execute_reply": "2023-02-02T16:29:24.900588Z"
    },
    "papermill": {
     "duration": 0.136913,
     "end_time": "2023-02-02T16:29:24.903606",
     "exception": false,
     "start_time": "2023-02-02T16:29:24.766693",
     "status": "completed"
    },
    "tags": []
   },
   "outputs": [
    {
     "data": {
      "text/html": [
       "<div>\n",
       "<style scoped>\n",
       "    .dataframe tbody tr th:only-of-type {\n",
       "        vertical-align: middle;\n",
       "    }\n",
       "\n",
       "    .dataframe tbody tr th {\n",
       "        vertical-align: top;\n",
       "    }\n",
       "\n",
       "    .dataframe thead th {\n",
       "        text-align: right;\n",
       "    }\n",
       "</style>\n",
       "<table border=\"1\" class=\"dataframe\">\n",
       "  <thead>\n",
       "    <tr style=\"text-align: right;\">\n",
       "      <th></th>\n",
       "      <th>id</th>\n",
       "      <th>id_bh</th>\n",
       "      <th>id_management</th>\n",
       "      <th>id_office</th>\n",
       "      <th>company_type</th>\n",
       "      <th>job/role</th>\n",
       "      <th>from_date</th>\n",
       "      <th>to_date</th>\n",
       "      <th>employee_lv</th>\n",
       "      <th>address</th>\n",
       "    </tr>\n",
       "  </thead>\n",
       "  <tbody>\n",
       "    <tr>\n",
       "      <th>9687</th>\n",
       "      <td>2341</td>\n",
       "      <td>2297041616</td>\n",
       "      <td>2705</td>\n",
       "      <td>HZ0000Z</td>\n",
       "      <td>-1</td>\n",
       "      <td>Thợ cơ khí</td>\n",
       "      <td>19980100</td>\n",
       "      <td>19980100</td>\n",
       "      <td>331.0</td>\n",
       "      <td>NaN</td>\n",
       "    </tr>\n",
       "  </tbody>\n",
       "</table>\n",
       "</div>"
      ],
      "text/plain": [
       "        id       id_bh  id_management id_office  company_type    job/role  \\\n",
       "9687  2341  2297041616           2705   HZ0000Z            -1  Thợ cơ khí   \n",
       "\n",
       "      from_date   to_date  employee_lv address  \n",
       "9687   19980100  19980100        331.0     NaN  "
      ]
     },
     "metadata": {},
     "output_type": "display_data"
    },
    {
     "data": {
      "text/html": [
       "<div>\n",
       "<style scoped>\n",
       "    .dataframe tbody tr th:only-of-type {\n",
       "        vertical-align: middle;\n",
       "    }\n",
       "\n",
       "    .dataframe tbody tr th {\n",
       "        vertical-align: top;\n",
       "    }\n",
       "\n",
       "    .dataframe thead th {\n",
       "        text-align: right;\n",
       "    }\n",
       "</style>\n",
       "<table border=\"1\" class=\"dataframe\">\n",
       "  <thead>\n",
       "    <tr style=\"text-align: right;\">\n",
       "      <th></th>\n",
       "      <th>id</th>\n",
       "      <th>id_bh</th>\n",
       "      <th>id_management</th>\n",
       "      <th>id_office</th>\n",
       "      <th>company_type</th>\n",
       "      <th>job/role</th>\n",
       "      <th>from_date</th>\n",
       "      <th>to_date</th>\n",
       "      <th>employee_lv</th>\n",
       "      <th>address</th>\n",
       "    </tr>\n",
       "  </thead>\n",
       "  <tbody>\n",
       "    <tr>\n",
       "      <th>106441</th>\n",
       "      <td>22761</td>\n",
       "      <td>2196019940</td>\n",
       "      <td>2400</td>\n",
       "      <td>HA0031A</td>\n",
       "      <td>-1</td>\n",
       "      <td>Công Chức</td>\n",
       "      <td>19960800</td>\n",
       "      <td>19980200</td>\n",
       "      <td>369.0</td>\n",
       "      <td>NaN</td>\n",
       "    </tr>\n",
       "  </tbody>\n",
       "</table>\n",
       "</div>"
      ],
      "text/plain": [
       "           id       id_bh  id_management id_office  company_type   job/role  \\\n",
       "106441  22761  2196019940           2400   HA0031A            -1  Công Chức   \n",
       "\n",
       "        from_date   to_date  employee_lv address  \n",
       "106441   19960800  19980200        369.0     NaN  "
      ]
     },
     "metadata": {},
     "output_type": "display_data"
    }
   ],
   "source": [
    "N = 5\n",
    "info_train_df.sample(N)\n",
    "work_train_df.sample(N)\n",
    "work_train_df.describe()\n",
    "\n",
    "display(work_train_df[work_train_df['employee_lv'] > 200])\n",
    "display(work_test_df[work_test_df['employee_lv'] > 200])"
   ]
  },
  {
   "cell_type": "code",
   "execution_count": 4,
   "id": "6143f64d",
   "metadata": {
    "execution": {
     "iopub.execute_input": "2023-02-02T16:29:24.960740Z",
     "iopub.status.busy": "2023-02-02T16:29:24.960408Z",
     "iopub.status.idle": "2023-02-02T16:29:29.011674Z",
     "shell.execute_reply": "2023-02-02T16:29:29.010714Z"
    },
    "papermill": {
     "duration": 4.083033,
     "end_time": "2023-02-02T16:29:29.014222",
     "exception": false,
     "start_time": "2023-02-02T16:29:24.931189",
     "status": "completed"
    },
    "tags": []
   },
   "outputs": [
    {
     "name": "stdout",
     "output_type": "stream",
     "text": [
      "-1.0 59.0\n"
     ]
    },
    {
     "data": {
      "text/plain": [
       "<matplotlib.legend.Legend at 0x7fcab2ee24d0>"
      ]
     },
     "execution_count": 4,
     "metadata": {},
     "output_type": "execute_result"
    },
    {
     "data": {
      "image/png": "[encoded data removed]",
      "text/plain": [
       "<Figure size 1440x864 with 6 Axes>"
      ]
     },
     "metadata": {
      "needs_background": "light"
     },
     "output_type": "display_data"
    }
   ],
   "source": [
    "from sklearn.preprocessing import MinMaxScaler\n",
    "\n",
    "fig, ax = plt.subplots(2, 3, figsize=(20, 12), tight_layout=True)\n",
    "\n",
    "def scale_w_min_max(x, mi: float, ma: float):\n",
    "    return (x - mi) / (ma - mi + 0.000000001)\n",
    "\n",
    "ax[0][0].set_title('Train label distribution')\n",
    "sns.histplot(label_train_df['label'], ax=ax[0][0])\n",
    "\n",
    "ax[0][1].set_title('Age distribution')\n",
    "sns.histplot(info_train_df['bithYear'], ax=ax[0][1], label='train')\n",
    "sns.histplot(info_test_df['bithYear'], ax=ax[0][1], label='test', color='red')\n",
    "ax[0][1].legend()\n",
    "\n",
    "ax[0][2].set_title('Employee_lv distribution')\n",
    "all_lv = work_train_df['employee_lv'].append(work_test_df['employee_lv'])\n",
    "all_lv = all_lv[all_lv < 200]\n",
    "print(all_lv.min(), all_lv.max())\n",
    "sns.histplot(scale_w_min_max(work_train_df['employee_lv'], all_lv.min(), all_lv.max()), ax=ax[0][2], label='train', color='green', bins=40)\n",
    "sns.histplot(scale_w_min_max(work_test_df['employee_lv'], all_lv.min(), all_lv.max()), ax=ax[0][2], label='test', color='red', bins=40)\n",
    "# sns.histplot(work_train_df['employee_lv'], all_lv.min(), all_lv.max()), ax=ax[0][2], label='train')\n",
    "# sns.histplot(work_test_df['employee_lv'], all_lv.min(), all_lv.max()), ax=ax[0][2], label='test', color='red')\n",
    "ax[0][2].legend()\n",
    "\n",
    "ax[1][0].set_title('id_management')\n",
    "sns.histplot(work_train_df['id_management'], ax=ax[1][0], label='train')\n",
    "sns.histplot(work_test_df['id_management'], ax=ax[1][0], label='test', color='red')\n",
    "ax[1][0].legend()\n",
    "\n",
    "ax[1][1].set_title('company_type')\n",
    "sns.histplot(work_train_df['company_type'], ax=ax[1][1], label='train')\n",
    "sns.histplot(work_test_df['company_type'], ax=ax[1][1], label='test', color='red')\n",
    "ax[1][1].legend()"
   ]
  },
  {
   "cell_type": "code",
   "execution_count": 5,
   "id": "4ed34fec",
   "metadata": {
    "execution": {
     "iopub.execute_input": "2023-02-02T16:29:29.077240Z",
     "iopub.status.busy": "2023-02-02T16:29:29.076776Z",
     "iopub.status.idle": "2023-02-02T16:29:29.091544Z",
     "shell.execute_reply": "2023-02-02T16:29:29.090087Z"
    },
    "papermill": {
     "duration": 0.048848,
     "end_time": "2023-02-02T16:29:29.094118",
     "exception": false,
     "start_time": "2023-02-02T16:29:29.045270",
     "status": "completed"
    },
    "tags": []
   },
   "outputs": [
    {
     "name": "stdout",
     "output_type": "stream",
     "text": [
      "work_train.csv\n",
      "Number of unique id_bh:  27502\n",
      "Number of id_bh is not na: 247559\n",
      "\n",
      "work_test.csv\n",
      "Number of unique id_bh:  18134\n",
      "Number of id_bh is not na: 162283\n"
     ]
    }
   ],
   "source": [
    "print('work_train.csv')\n",
    "print('Number of unique id_bh: ',work_train_df['id_bh'].nunique())\n",
    "print('Number of id_bh is not na:', len(work_train_df['id_bh'].notna()))\n",
    "print('\\nwork_test.csv')\n",
    "print('Number of unique id_bh: ',work_test_df['id_bh'].nunique())\n",
    "print('Number of id_bh is not na:', len(work_test_df['id_bh'].notna()))"
   ]
  },
  {
   "cell_type": "code",
   "execution_count": 6,
   "id": "7bb75a10",
   "metadata": {
    "execution": {
     "iopub.execute_input": "2023-02-02T16:29:29.157378Z",
     "iopub.status.busy": "2023-02-02T16:29:29.156516Z",
     "iopub.status.idle": "2023-02-02T16:29:29.169777Z",
     "shell.execute_reply": "2023-02-02T16:29:29.168730Z"
    },
    "papermill": {
     "duration": 0.047129,
     "end_time": "2023-02-02T16:29:29.171949",
     "exception": false,
     "start_time": "2023-02-02T16:29:29.124820",
     "status": "completed"
    },
    "tags": []
   },
   "outputs": [],
   "source": [
    "def clean_job_role(job: str) -> str:\n",
    "    job = str(job).lower()\n",
    "    \n",
    "    abbrev = {\n",
    "        \"nv\": \"nhân viên\",\n",
    "        \"pgđ\": \"phó giám đốc\",\n",
    "        \"gđ\": \"giám đốc\",\n",
    "        \"gv\": \"giáo viên\",\n",
    "        \"ct\": \"chủ tịch\",\n",
    "        \"cn\": \"công nhân\",\n",
    "        \"cv\": \"chuyên viên\",\n",
    "        \"tgđ\": \"tổng giám đốc\",\n",
    "        \"cb\": \"cán bộ\",\n",
    "        \"sc\": \"sửa chữa\",\n",
    "        \"bqt\": \"ban quản trị\",\n",
    "        \"bv\": \"bảo vệ\",\n",
    "        \"p.\": \"phó\",\n",
    "        \"qt\": \"quản trị\",\n",
    "        \"kd\": \"kinh doanh\",\n",
    "        \"xd\": \"xây dựng\",\n",
    "        \"sx\": \"sản xuất\",\n",
    "        \"qhkh\": \"quan hệ khách hàng\",\n",
    "        \"ts\": \"tiến sĩ\",\n",
    "        'í': 'í',\n",
    "        'ậ': 'ậ',\n",
    "        'ì': 'ì',\n",
    "        'ợ': 'ợ',\n",
    "        'ĩ': 'ĩ',\n",
    "        'á': 'á',\n",
    "        'ế': 'ế',\n",
    "        'ố': 'ố',\n",
    "        'ộ': 'ộ',\n",
    "        'ð': 'đ',\n",
    "        'sĩ': 'sỹ',\n",
    "        'tóan': 'toán',\n",
    "        'tòan': 'toán',\n",
    "        'thuậ': 'thuật',\n",
    "        'thuát': 'thuật',\n",
    "        'cụng nhõn': 'công nhân',\n",
    "        'giang vien': 'giảng viên',\n",
    "        'nhấn viên': 'nhân viên',\n",
    "        'n. viên': 'nhân viên',\n",
    "        'vien': 'viên',\n",
    "        'giáo dịch': 'giao dịch',\n",
    "        'thủ quỷ': 'thủ quỹ',\n",
    "        'qỹ': 'quỹ',\n",
    "        'thu kho': 'thủ kho',\n",
    "        'kĩ': 'kỹ',\n",
    "        'kỷ': 'kỹ',\n",
    "        'thuậtt': 'thuật',\n",
    "        'ký sư': 'kỹ sư',\n",
    "        'kê toán': 'kế toán',\n",
    "        'toỏn': 'toán',\n",
    "        'nhõn': 'nhân',\n",
    "        'kếtoán': 'kế toán',\n",
    "        'kê toán': 'kế toán',\n",
    "        'viờn': 'viên',\n",
    "        'k? toán': 'kế toán',\n",
    "        'lãi xe': 'lái xe',\n",
    "        'laí': 'lái',\n",
    "        'laisi': 'lái',\n",
    "        'dựoc': 'dược',\n",
    "        'kế toan': 'kế toán',\n",
    "        'ké toán': 'kế toán',\n",
    "        'k.toán': 'kế toán',\n",
    "        'giám điốc': 'giám đốc',\n",
    "        'gíam': 'giám',\n",
    "        'giam doc': 'giám đốc',\n",
    "        'đóc': 'đốc',\n",
    "        'giam đốc': 'giám đốc',\n",
    "        'giám đôc': 'giám đốc',\n",
    "        'giao viên': 'giáo viên',\n",
    "        'giáo viêm': 'giáo viên',\n",
    "        'giáo vên': 'giáo viên',\n",
    "        'giaó viên': 'giáo viên',\n",
    "        'giáo viêc': 'giáo viên',\n",
    "        'giaos': 'giáo',\n",
    "        'giáo đốc': 'giám đốc',\n",
    "        'gíao': 'giáo',\n",
    "        'giaso': 'giáo',\n",
    "        'giỏo': 'giáo',\n",
    "        'lao đông': 'lao động',\n",
    "        'giám đèc': 'giám đốc',\n",
    "        'giỏm đốc': 'giám đốc',\n",
    "    }\n",
    "    for k, v in abbrev.items():\n",
    "        job = job.replace(k, v)\n",
    "\n",
    "#     for k, v in abbrev.items():\n",
    "#         if v in job:\n",
    "#             job = v\n",
    "        \n",
    "    return job\n",
    "\n",
    "    # HDND, to, phong, nhom, y, can bo, bi thu, technical, ky thuat, tram, lai, \n",
    "    # By Profession\n",
    "    # Ky su, bao ve, executive, marketing, lai xe, y, giao vien, bac si, it, ke toan, ngan hang, duoc, giao vien,\n",
    "    # By level\n",
    "    # truong, pho, chinh, phu, quan ly, tro ly"
   ]
  },
  {
   "cell_type": "code",
   "execution_count": 7,
   "id": "52490151",
   "metadata": {
    "execution": {
     "iopub.execute_input": "2023-02-02T16:29:29.237915Z",
     "iopub.status.busy": "2023-02-02T16:29:29.237433Z",
     "iopub.status.idle": "2023-02-02T16:29:34.677566Z",
     "shell.execute_reply": "2023-02-02T16:29:34.676523Z"
    },
    "papermill": {
     "duration": 5.476316,
     "end_time": "2023-02-02T16:29:34.679603",
     "exception": false,
     "start_time": "2023-02-02T16:29:29.203287",
     "status": "completed"
    },
    "tags": []
   },
   "outputs": [
    {
     "data": {
      "text/html": [
       "<div>\n",
       "<style scoped>\n",
       "    .dataframe tbody tr th:only-of-type {\n",
       "        vertical-align: middle;\n",
       "    }\n",
       "\n",
       "    .dataframe tbody tr th {\n",
       "        vertical-align: top;\n",
       "    }\n",
       "\n",
       "    .dataframe thead th {\n",
       "        text-align: right;\n",
       "    }\n",
       "</style>\n",
       "<table border=\"1\" class=\"dataframe\">\n",
       "  <thead>\n",
       "    <tr style=\"text-align: right;\">\n",
       "      <th></th>\n",
       "      <th>id</th>\n",
       "      <th>id_bh</th>\n",
       "      <th>id_management</th>\n",
       "      <th>id_office</th>\n",
       "      <th>company_type</th>\n",
       "      <th>job/role</th>\n",
       "      <th>from_date</th>\n",
       "      <th>to_date</th>\n",
       "      <th>employee_lv</th>\n",
       "      <th>address</th>\n",
       "    </tr>\n",
       "  </thead>\n",
       "  <tbody>\n",
       "    <tr>\n",
       "      <th>22054</th>\n",
       "      <td>5341</td>\n",
       "      <td>3314024311</td>\n",
       "      <td>3305</td>\n",
       "      <td>TE0002E</td>\n",
       "      <td>1</td>\n",
       "      <td>Công nhân vận hành máy may công nghiệp</td>\n",
       "      <td>20160100</td>\n",
       "      <td>20181200</td>\n",
       "      <td>7.0</td>\n",
       "      <td>Hưng Yên</td>\n",
       "    </tr>\n",
       "    <tr>\n",
       "      <th>171356</th>\n",
       "      <td>42406</td>\n",
       "      <td>7916266513</td>\n",
       "      <td>7900</td>\n",
       "      <td>QW0104Z</td>\n",
       "      <td>-1</td>\n",
       "      <td>Công nhân hàn điện công trình</td>\n",
       "      <td>20190100</td>\n",
       "      <td>20190800</td>\n",
       "      <td>11.0</td>\n",
       "      <td>NaN</td>\n",
       "    </tr>\n",
       "    <tr>\n",
       "      <th>73775</th>\n",
       "      <td>22664</td>\n",
       "      <td>2410012347</td>\n",
       "      <td>2400</td>\n",
       "      <td>NA0018A</td>\n",
       "      <td>7</td>\n",
       "      <td>Giáo viên</td>\n",
       "      <td>20101100</td>\n",
       "      <td>20130400</td>\n",
       "      <td>5.0</td>\n",
       "      <td>NaN</td>\n",
       "    </tr>\n",
       "    <tr>\n",
       "      <th>18027</th>\n",
       "      <td>4609</td>\n",
       "      <td>8707003071</td>\n",
       "      <td>3304</td>\n",
       "      <td>YN0095D</td>\n",
       "      <td>-1</td>\n",
       "      <td>Kỹ sư thủy lợi</td>\n",
       "      <td>20080200</td>\n",
       "      <td>20080300</td>\n",
       "      <td>3.0</td>\n",
       "      <td>Hưng Yên</td>\n",
       "    </tr>\n",
       "    <tr>\n",
       "      <th>16058</th>\n",
       "      <td>4119</td>\n",
       "      <td>7022255685</td>\n",
       "      <td>7408</td>\n",
       "      <td>YN0008H</td>\n",
       "      <td>-1</td>\n",
       "      <td>Công nhân phổ thông</td>\n",
       "      <td>20180600</td>\n",
       "      <td>20190200</td>\n",
       "      <td>11.0</td>\n",
       "      <td>Việt Nam</td>\n",
       "    </tr>\n",
       "  </tbody>\n",
       "</table>\n",
       "</div>"
      ],
      "text/plain": [
       "           id       id_bh  id_management id_office  company_type  \\\n",
       "22054    5341  3314024311           3305   TE0002E             1   \n",
       "171356  42406  7916266513           7900   QW0104Z            -1   \n",
       "73775   22664  2410012347           2400   NA0018A             7   \n",
       "18027    4609  8707003071           3304   YN0095D            -1   \n",
       "16058    4119  7022255685           7408   YN0008H            -1   \n",
       "\n",
       "                                      job/role  from_date   to_date  \\\n",
       "22054   Công nhân vận hành máy may công nghiệp   20160100  20181200   \n",
       "171356           Công nhân hàn điện công trình   20190100  20190800   \n",
       "73775                                Giáo viên   20101100  20130400   \n",
       "18027                           Kỹ sư thủy lợi   20080200  20080300   \n",
       "16058                      Công nhân phổ thông   20180600  20190200   \n",
       "\n",
       "        employee_lv   address  \n",
       "22054           7.0  Hưng Yên  \n",
       "171356         11.0       NaN  \n",
       "73775           5.0       NaN  \n",
       "18027           3.0  Hưng Yên  \n",
       "16058          11.0  Việt Nam  "
      ]
     },
     "metadata": {},
     "output_type": "display_data"
    },
    {
     "name": "stdout",
     "output_type": "stream",
     "text": [
      "247559\n",
      "28355\n",
      "23930\n"
     ]
    }
   ],
   "source": [
    "display(work_train_df.sample(N))\n",
    "print(len(work_train_df))\n",
    "# Original: 28355\n",
    "print(work_train_df['job/role'].nunique())\n",
    "\n",
    "# Original: 28355\n",
    "print(work_train_df['job/role'].map(clean_job_role).nunique())\n",
    "\n",
    "# for name, count in work_train_df['job/role'].map(clean_job_role).value_counts().iteritems():\n",
    "#     print(name, count)"
   ]
  },
  {
   "cell_type": "code",
   "execution_count": 8,
   "id": "86754dc4",
   "metadata": {
    "execution": {
     "iopub.execute_input": "2023-02-02T16:29:34.746229Z",
     "iopub.status.busy": "2023-02-02T16:29:34.745780Z",
     "iopub.status.idle": "2023-02-02T16:29:35.066370Z",
     "shell.execute_reply": "2023-02-02T16:29:35.065599Z"
    },
    "papermill": {
     "duration": 0.356341,
     "end_time": "2023-02-02T16:29:35.068459",
     "exception": false,
     "start_time": "2023-02-02T16:29:34.712118",
     "status": "completed"
    },
    "tags": []
   },
   "outputs": [
    {
     "data": {
      "text/html": [
       "<div>\n",
       "<style scoped>\n",
       "    .dataframe tbody tr th:only-of-type {\n",
       "        vertical-align: middle;\n",
       "    }\n",
       "\n",
       "    .dataframe tbody tr th {\n",
       "        vertical-align: top;\n",
       "    }\n",
       "\n",
       "    .dataframe thead th {\n",
       "        text-align: right;\n",
       "    }\n",
       "</style>\n",
       "<table border=\"1\" class=\"dataframe\">\n",
       "  <thead>\n",
       "    <tr style=\"text-align: right;\">\n",
       "      <th></th>\n",
       "      <th>bithYear</th>\n",
       "      <th>gender</th>\n",
       "      <th>address</th>\n",
       "      <th>id_bh</th>\n",
       "      <th>id</th>\n",
       "      <th>id_management</th>\n",
       "      <th>id_office</th>\n",
       "      <th>company_type</th>\n",
       "      <th>job/role</th>\n",
       "      <th>from_date</th>\n",
       "      <th>to_date</th>\n",
       "      <th>employee_lv</th>\n",
       "      <th>address_work</th>\n",
       "      <th>label</th>\n",
       "    </tr>\n",
       "  </thead>\n",
       "  <tbody>\n",
       "    <tr>\n",
       "      <th>26349</th>\n",
       "      <td>1991</td>\n",
       "      <td>MALE</td>\n",
       "      <td>Vĩnh Phúc</td>\n",
       "      <td>2615008572</td>\n",
       "      <td>53082</td>\n",
       "      <td>2600</td>\n",
       "      <td>YN0161Z</td>\n",
       "      <td>-1</td>\n",
       "      <td>Công nhân sản xuất</td>\n",
       "      <td>20160100</td>\n",
       "      <td>20160200</td>\n",
       "      <td>7.0</td>\n",
       "      <td>Vĩnh Phúc</td>\n",
       "      <td>2</td>\n",
       "    </tr>\n",
       "    <tr>\n",
       "      <th>10440</th>\n",
       "      <td>1966</td>\n",
       "      <td>MALE</td>\n",
       "      <td>Bắc Giang</td>\n",
       "      <td>8499001714</td>\n",
       "      <td>24262</td>\n",
       "      <td>2402</td>\n",
       "      <td>FB0009Z</td>\n",
       "      <td>6</td>\n",
       "      <td>Văn phòng-Thống kê</td>\n",
       "      <td>20151000</td>\n",
       "      <td>20180300</td>\n",
       "      <td>9.0</td>\n",
       "      <td>Bắc Giang</td>\n",
       "      <td>4</td>\n",
       "    </tr>\n",
       "    <tr>\n",
       "      <th>13096</th>\n",
       "      <td>1989</td>\n",
       "      <td>MALE</td>\n",
       "      <td>Nghệ An</td>\n",
       "      <td>4014000109</td>\n",
       "      <td>28644</td>\n",
       "      <td>4013</td>\n",
       "      <td>NM11376</td>\n",
       "      <td>7</td>\n",
       "      <td>Nhân viên</td>\n",
       "      <td>20160100</td>\n",
       "      <td>20181200</td>\n",
       "      <td>5.0</td>\n",
       "      <td>Nghệ An</td>\n",
       "      <td>2</td>\n",
       "    </tr>\n",
       "    <tr>\n",
       "      <th>7710</th>\n",
       "      <td>1995</td>\n",
       "      <td>FEMALE</td>\n",
       "      <td>Nghệ An</td>\n",
       "      <td>1915830779</td>\n",
       "      <td>19721</td>\n",
       "      <td>1908</td>\n",
       "      <td>YN0002H</td>\n",
       "      <td>-1</td>\n",
       "      <td>Nhân viên sản xuất</td>\n",
       "      <td>20160300</td>\n",
       "      <td>20180200</td>\n",
       "      <td>9.0</td>\n",
       "      <td>Thái Nguyên</td>\n",
       "      <td>4</td>\n",
       "    </tr>\n",
       "    <tr>\n",
       "      <th>23294</th>\n",
       "      <td>1986</td>\n",
       "      <td>MALE</td>\n",
       "      <td>Vĩnh Phúc</td>\n",
       "      <td>2610004893</td>\n",
       "      <td>48100</td>\n",
       "      <td>2600</td>\n",
       "      <td>TZ0016Z</td>\n",
       "      <td>1</td>\n",
       "      <td>Công nhân</td>\n",
       "      <td>20090900</td>\n",
       "      <td>20100200</td>\n",
       "      <td>2.0</td>\n",
       "      <td>Vĩnh Phúc</td>\n",
       "      <td>5</td>\n",
       "    </tr>\n",
       "  </tbody>\n",
       "</table>\n",
       "</div>"
      ],
      "text/plain": [
       "       bithYear  gender    address       id_bh     id  id_management  \\\n",
       "26349      1991    MALE  Vĩnh Phúc  2615008572  53082           2600   \n",
       "10440      1966    MALE  Bắc Giang  8499001714  24262           2402   \n",
       "13096      1989    MALE    Nghệ An  4014000109  28644           4013   \n",
       "7710       1995  FEMALE    Nghệ An  1915830779  19721           1908   \n",
       "23294      1986    MALE  Vĩnh Phúc  2610004893  48100           2600   \n",
       "\n",
       "      id_office  company_type            job/role  from_date   to_date  \\\n",
       "26349   YN0161Z            -1  Công nhân sản xuất   20160100  20160200   \n",
       "10440   FB0009Z             6  Văn phòng-Thống kê   20151000  20180300   \n",
       "13096   NM11376             7           Nhân viên   20160100  20181200   \n",
       "7710    YN0002H            -1  Nhân viên sản xuất   20160300  20180200   \n",
       "23294   TZ0016Z             1           Công nhân   20090900  20100200   \n",
       "\n",
       "       employee_lv address_work  label  \n",
       "26349          7.0    Vĩnh Phúc      2  \n",
       "10440          9.0    Bắc Giang      4  \n",
       "13096          5.0      Nghệ An      2  \n",
       "7710           9.0  Thái Nguyên      4  \n",
       "23294          2.0    Vĩnh Phúc      5  "
      ]
     },
     "metadata": {},
     "output_type": "display_data"
    },
    {
     "data": {
      "text/html": [
       "<div>\n",
       "<style scoped>\n",
       "    .dataframe tbody tr th:only-of-type {\n",
       "        vertical-align: middle;\n",
       "    }\n",
       "\n",
       "    .dataframe tbody tr th {\n",
       "        vertical-align: top;\n",
       "    }\n",
       "\n",
       "    .dataframe thead th {\n",
       "        text-align: right;\n",
       "    }\n",
       "</style>\n",
       "<table border=\"1\" class=\"dataframe\">\n",
       "  <thead>\n",
       "    <tr style=\"text-align: right;\">\n",
       "      <th></th>\n",
       "      <th>bithYear</th>\n",
       "      <th>id_bh</th>\n",
       "      <th>id</th>\n",
       "      <th>id_management</th>\n",
       "      <th>company_type</th>\n",
       "      <th>from_date</th>\n",
       "      <th>to_date</th>\n",
       "      <th>employee_lv</th>\n",
       "      <th>label</th>\n",
       "    </tr>\n",
       "  </thead>\n",
       "  <tbody>\n",
       "    <tr>\n",
       "      <th>count</th>\n",
       "      <td>247559.000000</td>\n",
       "      <td>2.475590e+05</td>\n",
       "      <td>247559.000000</td>\n",
       "      <td>247559.000000</td>\n",
       "      <td>247559.000000</td>\n",
       "      <td>2.475590e+05</td>\n",
       "      <td>2.475590e+05</td>\n",
       "      <td>247554.000000</td>\n",
       "      <td>247559.000000</td>\n",
       "    </tr>\n",
       "    <tr>\n",
       "      <th>mean</th>\n",
       "      <td>1983.220949</td>\n",
       "      <td>3.918404e+09</td>\n",
       "      <td>30907.532806</td>\n",
       "      <td>3553.575059</td>\n",
       "      <td>0.642344</td>\n",
       "      <td>2.014830e+07</td>\n",
       "      <td>2.015701e+07</td>\n",
       "      <td>8.109002</td>\n",
       "      <td>3.817652</td>\n",
       "    </tr>\n",
       "    <tr>\n",
       "      <th>std</th>\n",
       "      <td>8.750181</td>\n",
       "      <td>2.766890e+09</td>\n",
       "      <td>15640.046730</td>\n",
       "      <td>2361.390558</td>\n",
       "      <td>2.852458</td>\n",
       "      <td>5.792714e+04</td>\n",
       "      <td>5.538154e+04</td>\n",
       "      <td>7.025556</td>\n",
       "      <td>1.440746</td>\n",
       "    </tr>\n",
       "    <tr>\n",
       "      <th>min</th>\n",
       "      <td>1941.000000</td>\n",
       "      <td>1.000007e+08</td>\n",
       "      <td>1.000000</td>\n",
       "      <td>100.000000</td>\n",
       "      <td>-1.000000</td>\n",
       "      <td>1.971080e+07</td>\n",
       "      <td>1.977100e+07</td>\n",
       "      <td>-1.000000</td>\n",
       "      <td>1.000000</td>\n",
       "    </tr>\n",
       "    <tr>\n",
       "      <th>25%</th>\n",
       "      <td>1977.000000</td>\n",
       "      <td>2.408013e+09</td>\n",
       "      <td>20494.500000</td>\n",
       "      <td>2400.000000</td>\n",
       "      <td>-1.000000</td>\n",
       "      <td>2.012030e+07</td>\n",
       "      <td>2.013060e+07</td>\n",
       "      <td>5.000000</td>\n",
       "      <td>2.000000</td>\n",
       "    </tr>\n",
       "    <tr>\n",
       "      <th>50%</th>\n",
       "      <td>1984.000000</td>\n",
       "      <td>2.616134e+09</td>\n",
       "      <td>31084.000000</td>\n",
       "      <td>2600.000000</td>\n",
       "      <td>-1.000000</td>\n",
       "      <td>2.016100e+07</td>\n",
       "      <td>2.017070e+07</td>\n",
       "      <td>7.000000</td>\n",
       "      <td>4.000000</td>\n",
       "    </tr>\n",
       "    <tr>\n",
       "      <th>75%</th>\n",
       "      <td>1990.000000</td>\n",
       "      <td>6.822815e+09</td>\n",
       "      <td>44718.000000</td>\n",
       "      <td>4020.000000</td>\n",
       "      <td>1.000000</td>\n",
       "      <td>2.019030e+07</td>\n",
       "      <td>2.020030e+07</td>\n",
       "      <td>9.000000</td>\n",
       "      <td>5.000000</td>\n",
       "    </tr>\n",
       "    <tr>\n",
       "      <th>max</th>\n",
       "      <td>2002.000000</td>\n",
       "      <td>9.820174e+09</td>\n",
       "      <td>55008.000000</td>\n",
       "      <td>9600.000000</td>\n",
       "      <td>8.000000</td>\n",
       "      <td>2.022040e+07</td>\n",
       "      <td>2.031100e+07</td>\n",
       "      <td>331.000000</td>\n",
       "      <td>7.000000</td>\n",
       "    </tr>\n",
       "  </tbody>\n",
       "</table>\n",
       "</div>"
      ],
      "text/plain": [
       "            bithYear         id_bh             id  id_management  \\\n",
       "count  247559.000000  2.475590e+05  247559.000000  247559.000000   \n",
       "mean     1983.220949  3.918404e+09   30907.532806    3553.575059   \n",
       "std         8.750181  2.766890e+09   15640.046730    2361.390558   \n",
       "min      1941.000000  1.000007e+08       1.000000     100.000000   \n",
       "25%      1977.000000  2.408013e+09   20494.500000    2400.000000   \n",
       "50%      1984.000000  2.616134e+09   31084.000000    2600.000000   \n",
       "75%      1990.000000  6.822815e+09   44718.000000    4020.000000   \n",
       "max      2002.000000  9.820174e+09   55008.000000    9600.000000   \n",
       "\n",
       "        company_type     from_date       to_date    employee_lv          label  \n",
       "count  247559.000000  2.475590e+05  2.475590e+05  247554.000000  247559.000000  \n",
       "mean        0.642344  2.014830e+07  2.015701e+07       8.109002       3.817652  \n",
       "std         2.852458  5.792714e+04  5.538154e+04       7.025556       1.440746  \n",
       "min        -1.000000  1.971080e+07  1.977100e+07      -1.000000       1.000000  \n",
       "25%        -1.000000  2.012030e+07  2.013060e+07       5.000000       2.000000  \n",
       "50%        -1.000000  2.016100e+07  2.017070e+07       7.000000       4.000000  \n",
       "75%         1.000000  2.019030e+07  2.020030e+07       9.000000       5.000000  \n",
       "max         8.000000  2.022040e+07  2.031100e+07     331.000000       7.000000  "
      ]
     },
     "metadata": {},
     "output_type": "display_data"
    }
   ],
   "source": [
    "all_df = info_train_df.join(work_train_df.set_index('id_bh'), on='id_bh', rsuffix='_work')\n",
    "all_df = all_df.join(label_train_df.set_index('id_bh'), on='id_bh', rsuffix='_label')\n",
    "display(all_df.sample(5))\n",
    "display(all_df.describe())\n",
    "# all_df.info()"
   ]
  },
  {
   "cell_type": "code",
   "execution_count": 9,
   "id": "4edcd637",
   "metadata": {
    "execution": {
     "iopub.execute_input": "2023-02-02T16:29:35.139803Z",
     "iopub.status.busy": "2023-02-02T16:29:35.139227Z",
     "iopub.status.idle": "2023-02-02T16:29:35.216161Z",
     "shell.execute_reply": "2023-02-02T16:29:35.215238Z"
    },
    "papermill": {
     "duration": 0.115247,
     "end_time": "2023-02-02T16:29:35.218574",
     "exception": false,
     "start_time": "2023-02-02T16:29:35.103327",
     "status": "completed"
    },
    "tags": []
   },
   "outputs": [
    {
     "name": "stdout",
     "output_type": "stream",
     "text": [
      "<class 'pandas.core.frame.DataFrame'>\n",
      "Int64Index: 247559 entries, 0 to 27501\n",
      "Data columns (total 14 columns):\n",
      " #   Column         Non-Null Count   Dtype  \n",
      "---  ------         --------------   -----  \n",
      " 0   bithYear       247559 non-null  int64  \n",
      " 1   gender         247559 non-null  object \n",
      " 2   address        142906 non-null  object \n",
      " 3   id_bh          247559 non-null  int64  \n",
      " 4   id             247559 non-null  int64  \n",
      " 5   id_management  247559 non-null  int64  \n",
      " 6   id_office      235391 non-null  object \n",
      " 7   company_type   247559 non-null  int64  \n",
      " 8   job/role       214102 non-null  object \n",
      " 9   from_date      247559 non-null  int64  \n",
      " 10  to_date        247559 non-null  int64  \n",
      " 11  employee_lv    247554 non-null  float64\n",
      " 12  address_work   183528 non-null  object \n",
      " 13  label          247559 non-null  int64  \n",
      "dtypes: float64(1), int64(8), object(5)\n",
      "memory usage: 28.3+ MB\n"
     ]
    }
   ],
   "source": [
    "all_df.info()"
   ]
  },
  {
   "cell_type": "code",
   "execution_count": 10,
   "id": "c2d3957d",
   "metadata": {
    "execution": {
     "iopub.execute_input": "2023-02-02T16:29:35.292099Z",
     "iopub.status.busy": "2023-02-02T16:29:35.291826Z",
     "iopub.status.idle": "2023-02-02T16:29:36.152108Z",
     "shell.execute_reply": "2023-02-02T16:29:36.150902Z"
    },
    "papermill": {
     "duration": 0.89951,
     "end_time": "2023-02-02T16:29:36.155016",
     "exception": false,
     "start_time": "2023-02-02T16:29:35.255506",
     "status": "completed"
    },
    "tags": []
   },
   "outputs": [
    {
     "data": {
      "text/html": [
       "<div>\n",
       "<style scoped>\n",
       "    .dataframe tbody tr th:only-of-type {\n",
       "        vertical-align: middle;\n",
       "    }\n",
       "\n",
       "    .dataframe tbody tr th {\n",
       "        vertical-align: top;\n",
       "    }\n",
       "\n",
       "    .dataframe thead th {\n",
       "        text-align: right;\n",
       "    }\n",
       "</style>\n",
       "<table border=\"1\" class=\"dataframe\">\n",
       "  <thead>\n",
       "    <tr style=\"text-align: right;\">\n",
       "      <th></th>\n",
       "      <th>bithYear</th>\n",
       "      <th>gender</th>\n",
       "      <th>address</th>\n",
       "      <th>id_bh</th>\n",
       "      <th>id</th>\n",
       "      <th>id_management</th>\n",
       "      <th>id_office</th>\n",
       "      <th>company_type</th>\n",
       "      <th>job/role</th>\n",
       "      <th>from_date</th>\n",
       "      <th>to_date</th>\n",
       "      <th>employee_lv</th>\n",
       "      <th>address_work</th>\n",
       "      <th>label</th>\n",
       "      <th>from_year</th>\n",
       "      <th>from_month</th>\n",
       "      <th>to_year</th>\n",
       "      <th>to_month</th>\n",
       "    </tr>\n",
       "  </thead>\n",
       "  <tbody>\n",
       "    <tr>\n",
       "      <th>0</th>\n",
       "      <td>1971</td>\n",
       "      <td>MALE</td>\n",
       "      <td>hà Nội</td>\n",
       "      <td>113039360</td>\n",
       "      <td>1</td>\n",
       "      <td>106</td>\n",
       "      <td>TF2212F</td>\n",
       "      <td>-1</td>\n",
       "      <td>Giám đốc</td>\n",
       "      <td>20130100</td>\n",
       "      <td>20151200</td>\n",
       "      <td>7.0</td>\n",
       "      <td>Hà Nội</td>\n",
       "      <td>4</td>\n",
       "      <td>2013</td>\n",
       "      <td>1</td>\n",
       "      <td>2015</td>\n",
       "      <td>12</td>\n",
       "    </tr>\n",
       "    <tr>\n",
       "      <th>0</th>\n",
       "      <td>1971</td>\n",
       "      <td>MALE</td>\n",
       "      <td>hà Nội</td>\n",
       "      <td>113039360</td>\n",
       "      <td>1</td>\n",
       "      <td>106</td>\n",
       "      <td>TF2212F</td>\n",
       "      <td>-1</td>\n",
       "      <td>Giám đốc</td>\n",
       "      <td>20160100</td>\n",
       "      <td>20220400</td>\n",
       "      <td>10.0</td>\n",
       "      <td>Hà Nội</td>\n",
       "      <td>4</td>\n",
       "      <td>2016</td>\n",
       "      <td>1</td>\n",
       "      <td>2022</td>\n",
       "      <td>4</td>\n",
       "    </tr>\n",
       "    <tr>\n",
       "      <th>1</th>\n",
       "      <td>1993</td>\n",
       "      <td>FEMALE</td>\n",
       "      <td>Thành phố Hà Nội</td>\n",
       "      <td>116074930</td>\n",
       "      <td>2</td>\n",
       "      <td>102</td>\n",
       "      <td>TB16010</td>\n",
       "      <td>-1</td>\n",
       "      <td>Nhân viên lễ tân</td>\n",
       "      <td>20160600</td>\n",
       "      <td>20161200</td>\n",
       "      <td>7.0</td>\n",
       "      <td>Hà Nội</td>\n",
       "      <td>2</td>\n",
       "      <td>2016</td>\n",
       "      <td>6</td>\n",
       "      <td>2016</td>\n",
       "      <td>12</td>\n",
       "    </tr>\n",
       "    <tr>\n",
       "      <th>1</th>\n",
       "      <td>1993</td>\n",
       "      <td>FEMALE</td>\n",
       "      <td>Thành phố Hà Nội</td>\n",
       "      <td>116074930</td>\n",
       "      <td>2</td>\n",
       "      <td>102</td>\n",
       "      <td>TB16010</td>\n",
       "      <td>-1</td>\n",
       "      <td>Nhân viên lễ tân</td>\n",
       "      <td>20170100</td>\n",
       "      <td>20170300</td>\n",
       "      <td>8.0</td>\n",
       "      <td>Hà Nội</td>\n",
       "      <td>2</td>\n",
       "      <td>2017</td>\n",
       "      <td>1</td>\n",
       "      <td>2017</td>\n",
       "      <td>3</td>\n",
       "    </tr>\n",
       "    <tr>\n",
       "      <th>1</th>\n",
       "      <td>1993</td>\n",
       "      <td>FEMALE</td>\n",
       "      <td>Thành phố Hà Nội</td>\n",
       "      <td>116074930</td>\n",
       "      <td>2</td>\n",
       "      <td>102</td>\n",
       "      <td>NaN</td>\n",
       "      <td>-1</td>\n",
       "      <td>NaN</td>\n",
       "      <td>20170400</td>\n",
       "      <td>20170700</td>\n",
       "      <td>-1.0</td>\n",
       "      <td>NaN</td>\n",
       "      <td>2</td>\n",
       "      <td>2017</td>\n",
       "      <td>4</td>\n",
       "      <td>2017</td>\n",
       "      <td>7</td>\n",
       "    </tr>\n",
       "  </tbody>\n",
       "</table>\n",
       "</div>"
      ],
      "text/plain": [
       "   bithYear  gender           address      id_bh  id  id_management id_office  \\\n",
       "0      1971    MALE            hà Nội  113039360   1            106   TF2212F   \n",
       "0      1971    MALE            hà Nội  113039360   1            106   TF2212F   \n",
       "1      1993  FEMALE  Thành phố Hà Nội  116074930   2            102   TB16010   \n",
       "1      1993  FEMALE  Thành phố Hà Nội  116074930   2            102   TB16010   \n",
       "1      1993  FEMALE  Thành phố Hà Nội  116074930   2            102       NaN   \n",
       "\n",
       "   company_type          job/role  from_date   to_date  employee_lv  \\\n",
       "0            -1          Giám đốc   20130100  20151200          7.0   \n",
       "0            -1          Giám đốc   20160100  20220400         10.0   \n",
       "1            -1  Nhân viên lễ tân   20160600  20161200          7.0   \n",
       "1            -1  Nhân viên lễ tân   20170100  20170300          8.0   \n",
       "1            -1               NaN   20170400  20170700         -1.0   \n",
       "\n",
       "  address_work  label  from_year  from_month  to_year  to_month  \n",
       "0       Hà Nội      4       2013           1     2015        12  \n",
       "0       Hà Nội      4       2016           1     2022         4  \n",
       "1       Hà Nội      2       2016           6     2016        12  \n",
       "1       Hà Nội      2       2017           1     2017         3  \n",
       "1          NaN      2       2017           4     2017         7  "
      ]
     },
     "execution_count": 10,
     "metadata": {},
     "output_type": "execute_result"
    }
   ],
   "source": [
    "def extract_year(x):\n",
    "    try:\n",
    "        return int(str(x)[:4])\n",
    "    except:\n",
    "        return None\n",
    "    \n",
    "def extract_month(x):\n",
    "    try:\n",
    "        return int(str(x)[4:6])\n",
    "    except:\n",
    "        return None\n",
    "\n",
    "all_df['from_year'] = all_df['from_date'].map(extract_year)\n",
    "all_df['from_month'] = all_df['from_date'].map(extract_month)\n",
    "all_df['to_year'] = all_df['to_date'].map(extract_year)\n",
    "all_df['to_month'] = all_df['to_date'].map(extract_month)\n",
    "all_df.head()"
   ]
  },
  {
   "cell_type": "code",
   "execution_count": 11,
   "id": "d9d19f76",
   "metadata": {
    "execution": {
     "iopub.execute_input": "2023-02-02T16:29:36.233837Z",
     "iopub.status.busy": "2023-02-02T16:29:36.233297Z",
     "iopub.status.idle": "2023-02-02T16:29:36.250192Z",
     "shell.execute_reply": "2023-02-02T16:29:36.249110Z"
    },
    "papermill": {
     "duration": 0.056997,
     "end_time": "2023-02-02T16:29:36.252322",
     "exception": false,
     "start_time": "2023-02-02T16:29:36.195325",
     "status": "completed"
    },
    "tags": []
   },
   "outputs": [
    {
     "data": {
      "text/plain": [
       "2196007892    58\n",
       "8401000539    44\n",
       "2196007515    44\n",
       "8398003594    41\n",
       "2717077619    40\n",
       "              ..\n",
       "1716013813     1\n",
       "116347745      1\n",
       "2220984732     1\n",
       "2416016895     1\n",
       "121908876      1\n",
       "Name: id_bh, Length: 27502, dtype: int64"
      ]
     },
     "execution_count": 11,
     "metadata": {},
     "output_type": "execute_result"
    }
   ],
   "source": [
    "all_df['id_bh'].value_counts()"
   ]
  },
  {
   "cell_type": "code",
   "execution_count": 12,
   "id": "f0ebdad1",
   "metadata": {
    "execution": {
     "iopub.execute_input": "2023-02-02T16:29:36.330850Z",
     "iopub.status.busy": "2023-02-02T16:29:36.330098Z",
     "iopub.status.idle": "2023-02-02T16:29:37.615363Z",
     "shell.execute_reply": "2023-02-02T16:29:37.614754Z"
    },
    "papermill": {
     "duration": 1.32643,
     "end_time": "2023-02-02T16:29:37.617553",
     "exception": false,
     "start_time": "2023-02-02T16:29:36.291123",
     "status": "completed"
    },
    "tags": []
   },
   "outputs": [
    {
     "data": {
      "image/png": "[encoded data removed]",
      "text/plain": [
       "<Figure size 432x288 with 1 Axes>"
      ]
     },
     "metadata": {
      "needs_background": "light"
     },
     "output_type": "display_data"
    },
    {
     "data": {
      "image/png": "[encoded data removed]",
      "text/plain": [
       "<Figure size 432x288 with 1 Axes>"
      ]
     },
     "metadata": {
      "needs_background": "light"
     },
     "output_type": "display_data"
    },
    {
     "data": {
      "text/plain": [
       "12740"
      ]
     },
     "execution_count": 12,
     "metadata": {},
     "output_type": "execute_result"
    }
   ],
   "source": [
    "plt.figure()\n",
    "sns.histplot(all_df['company_type'])\n",
    "plt.show()\n",
    "\n",
    "plt.figure()\n",
    "sns.histplot(all_df['id_management'])\n",
    "plt.show()\n",
    "\n",
    "# all_df['id_office'].value_counts().sort_index().plot(kind='bar')\n",
    "# number of unique values in 'id_office'\n",
    "all_df['id_office'].nunique()"
   ]
  },
  {
   "cell_type": "code",
   "execution_count": 13,
   "id": "3f7cb2a8",
   "metadata": {
    "execution": {
     "iopub.execute_input": "2023-02-02T16:29:37.695759Z",
     "iopub.status.busy": "2023-02-02T16:29:37.695193Z",
     "iopub.status.idle": "2023-02-02T16:29:37.718715Z",
     "shell.execute_reply": "2023-02-02T16:29:37.717891Z"
    },
    "papermill": {
     "duration": 0.06464,
     "end_time": "2023-02-02T16:29:37.720883",
     "exception": false,
     "start_time": "2023-02-02T16:29:37.656243",
     "status": "completed"
    },
    "tags": []
   },
   "outputs": [],
   "source": [
    "def remove_accent(text: str) -> str:\n",
    "    import unidecode\n",
    "    return unidecode.unidecode(text)\n",
    "\n",
    "def basic_clean(address: str) -> str:\n",
    "    address = address.lower().rstrip().lstrip()\n",
    "    remove_words = [\n",
    "        'tỉnh', 't.', 'tp', 'tx', 'quận', 'huyện', 'huyện', 'thành phố', 'thành phó', 'thị xã', 'tphố', 'thànhphố', 'phố',\n",
    "    ]\n",
    "    for w in remove_words:\n",
    "        # if 'tỉnh' in address:\n",
    "        #     print(address)\n",
    "            \n",
    "        address = address.replace(w, '')\n",
    "    \n",
    "    # This affects the ones behind it\n",
    "    address = address.replace(' ', '')\n",
    "    address = address.replace('.', '')\n",
    "    \n",
    "    return address\n",
    "\n",
    "\n",
    "def to_city(address: str) -> str:\n",
    "    mapping: dict = {\n",
    "        'hàđông': 'hànội',\n",
    "        'keangnam': 'hànội',\n",
    "        'số20núitrúc': 'hànội',\n",
    "        'nhânchính': 'hànội',\n",
    "        'haibàtrưnghn': 'hànội',\n",
    "        'từliêm_hànội': 'hànội',\n",
    "        'ngõ668đườnglạclongquân': 'hànội',\n",
    "        'ngoc133nguyễntrãi': 'hànội',\n",
    "        'nghĩatân': 'hànội',\n",
    "        'ngõ210đườngngọchồi': 'hànội',\n",
    "        'ngách1/4phốđịnhcông': 'hànội',\n",
    "        'phốhuế': 'hànội',\n",
    "        'số609trươngđịnh': 'hànội',\n",
    "        'ngõ49huỳnhthúckháng': 'hànội',\n",
    "        'r5khuđôthịroyalcity72nguyễntrãi': 'hànội',\n",
    "        'cầutrắng': 'hànội',\n",
    "        'kđtlinhđàm': 'hànội',\n",
    "        'khuđôthịmớidịchvọng': 'hànội',\n",
    "        \n",
    "        # 'haibàtrưnghànội': 'hànội',\n",
    "        'hạlong': 'quảngninh',\n",
    "    }\n",
    "    \n",
    "    HNOI_DISTRICT = ['Hoàn Kiếm', 'Đống Đa', 'Ba Đình', 'Hai Bà Trưng', 'Hoàng Mai', 'Thanh Xuân', 'Long Biên', 'Nam Từ Liêm', 'Bắc Từ Liêm', 'Tây Hồ', 'Cầu Giấy', 'Hà Đông', 'câùgiấy']\n",
    "    for district in HNOI_DISTRICT:\n",
    "        if basic_clean(district) in address:\n",
    "            return 'hànội'\n",
    "        \n",
    "        mapping[basic_clean(district)] = 'hànội'\n",
    "        \n",
    "    CITIES = [\n",
    "        'nan', 'vĩnhphúc', 'bắcgiang', 'nghệan', 'hànội', 'tháinguyên',\n",
    "        'lâmđồng', 'lạngsơn', 'đăklăk', 'quảngninh', 'phúthọ', 'hòabình',\n",
    "        'bìnhphước', 'đăknông', 'bắcninh', 'tháibình', 'namđịnh', 'đàlạt',\n",
    "        'thanhhóa', 'hảidương', 'hàtây', 'quỳnhlưu', 'yênbái', 'thanhhoá',\n",
    "        'hàtĩnh', 'hànam', 'hồchíminh', 'tuyênquang', 'hưngyên', 'vĩnhphú',\n",
    "        'hảiphòng', 'ninhbình', 'đồngnai', 'bảolộc', 'diễnchâu', 'caobằng',\n",
    "        'bắckạn', 'hàbắc', 'đôlương', 'quảngngãi', 'hàgiang', 'bìnhđịnh',\n",
    "        'bìnhdương', 'hạlong', 'sơnla', 'đứctrọng', 'huế', 'krôngpăc',\n",
    "        'làocai', 'quảngbình', 'đồngtháp', 'quảngnam', 'phúyên',\n",
    "        'hđôlương', 'bàrịavũngtàu', 'yênthế', 'angiang', 'khánhhòa',\n",
    "        'bảolộclâmđồng', 'quảngtrị'\n",
    "    ]\n",
    "    \n",
    "    for city in CITIES:\n",
    "        if city in address:\n",
    "            return city\n",
    "\n",
    "    return mapping.get(address, address)\n",
    "\n",
    "\n",
    "def clean_address(address: str) -> str:\n",
    "    address = str(address)\n",
    "    address = basic_clean(address)\n",
    "        \n",
    "    abbrev = {\n",
    "        'hn': 'hànội',\n",
    "        'hànôi': 'hànội',\n",
    "        'hànôi': 'hànội',\n",
    "        'hàn?i': 'hànội',\n",
    "        'hànộ': 'hànội',\n",
    "        'hànội': 'hànội',\n",
    "        'hanoi': 'hànội',\n",
    "        'hnội': 'hànội',\n",
    "        \n",
    "        'lđ': 'lâmđồng',\n",
    "        'lamđồng': 'lâmđồng',\n",
    "        'lâmđông': 'lâmđồng',\n",
    "        'lâmđồn': 'lâmđồng',\n",
    "        \n",
    "        'bg': 'bắcgiang',\n",
    "        'bắcgian': 'bắcgiang',\n",
    "        'bắcgiangbg': 'bắcgiang',\n",
    "        'tpbg': 'bắcgiang',\n",
    "        'tbắcgiang': 'bắcgiang',\n",
    "        'băcgiang': 'bắcgiang',\n",
    "        'bácgiang': 'bắcgiang',\n",
    "        '>bắcgiang': 'bắcgiang',\n",
    "        'bắcgíang': 'bắcgiang',\n",
    "        'bắcgiag': 'bắcgiang',\n",
    "        \n",
    "        'bp': 'bìnhphước',\n",
    "        'bỡnhphước': 'bìnhphước',\n",
    "        \n",
    "        'hb': 'hòabình',\n",
    "        'thòabình': 'hòabình',\n",
    "        'hoàbình': 'hòabình',\n",
    "        \n",
    "        'vp': 'vĩnhphúc',\n",
    "        'vĩnhphỳc': 'vĩnhphúc',\n",
    "        'vĩnhphúcc': 'vĩnhphúc',\n",
    "        \n",
    "        'tn': 'tháinguyên',\n",
    "        'tháinguyêntháinguyên': 'tháinguyên',\n",
    "        \n",
    "        'qn': 'quảngngãi', # OR 'quangninh' ??????\n",
    "        'qninh': 'quảngninh',\n",
    "        \n",
    "        'đt': 'đồngtháp',\n",
    "        \n",
    "        'bt': 'bìnhthuận',\n",
    "        \n",
    "        'bmt': 'buônmêthuật',\n",
    "        \n",
    "        'tthuế': 'huế',\n",
    "        \n",
    "        'brvt': 'bàrịavũngtàu',\n",
    "        'vũngtàu': 'bàrịavũngtàu',\n",
    "        \n",
    "        'tphcm': 'hồchíminh',\n",
    "        'hcm': 'hồchíminh',\n",
    "        \n",
    "        'hưngyờn': 'hưngyên',\n",
    "        \n",
    "        'ngệan': 'nghệan',\n",
    "        'nghêan': 'nghệan',\n",
    "        'nghệa': 'nghệan',\n",
    "        'nghean': 'nghệan',\n",
    "        'nghêệan': 'nghệan',\n",
    "        \n",
    "        'bắccạn': 'bắckạn',\n",
    "        'bắckan': 'bắckạn',\n",
    "        \n",
    "        'đắklắk': 'đăklăk',\n",
    "        'đắclắk': 'đăklăk',\n",
    "        'đắklắc': 'đăklăk',\n",
    "        'đắclăk': 'đăklăk',\n",
    "        'đắclắc': 'đăklăk',\n",
    "        'dăklăk': 'đăklăk',\n",
    "        'đăklắk': 'đăklăk',\n",
    "        'đaklak': 'đăklăk',\n",
    "        'daklak': 'đăklăk',\n",
    "        'đắklăk': 'đăklăk',\n",
    "        'đăklak': 'đăklăk',\n",
    "        'đắkklắk': 'đăklăk',\n",
    "        'dắklắk': 'đăklăk',\n",
    "        'éắklắk': 'đăklăk',\n",
    "        'đăklắc': 'đăklăk',\n",
    "        'lắk': 'đăklăk',\n",
    "        \n",
    "        'đắknông': 'đăknông',\n",
    "        'đắcnông': 'đăknông',\n",
    "        'đaknông': 'đăknông',\n",
    "        'đắcknông': 'đăknông',\n",
    "        \n",
    "        'qlưu': 'quỳnhlưu', # -> NGHE AN ????\n",
    "        'hquỳnhlưu': 'quỳnhlưu',\n",
    "        # 'quỳnhlưunghệan': '',\n",
    "        # 'đôlươngnghệan': '',\n",
    "        \n",
    "        'krôngpăk': 'krôngpăc',\n",
    "        \n",
    "    }\n",
    "    if address in abbrev:\n",
    "        address = abbrev[address]\n",
    "        \n",
    "    for key in abbrev:\n",
    "        if key in address:\n",
    "            address = abbrev[key]\n",
    "\n",
    "    # Clean again for abbrev\n",
    "    # for w in remove_words:\n",
    "    #     address = address.replace(w, '')\n",
    "    address = address.lower().rstrip().lstrip()\n",
    "    \n",
    "    if all([x.isdigit() for x in address]):\n",
    "        return 'number'\n",
    "    \n",
    "    return remove_accent(to_city(address))\n"
   ]
  },
  {
   "cell_type": "code",
   "execution_count": 14,
   "id": "f88caff3",
   "metadata": {
    "execution": {
     "iopub.execute_input": "2023-02-02T16:29:37.798157Z",
     "iopub.status.busy": "2023-02-02T16:29:37.797568Z",
     "iopub.status.idle": "2023-02-02T16:29:37.810373Z",
     "shell.execute_reply": "2023-02-02T16:29:37.809176Z"
    },
    "papermill": {
     "duration": 0.054441,
     "end_time": "2023-02-02T16:29:37.812912",
     "exception": false,
     "start_time": "2023-02-02T16:29:37.758471",
     "status": "completed"
    },
    "tags": []
   },
   "outputs": [],
   "source": [
    "def get_region(city: str) -> str:\n",
    "    # https://xuyenvietmedia.com/blogs/kinh-doanh/7-vung-kinh-te-cua-viet-nam/#:~:text=C%C3%A1c%20t%E1%BB%89nh%20v%C3%A0%20th%C3%A0nh%20ph%E1%BB%91,t%E1%BB%95ng%20d%C3%A2n%20s%E1%BB%91%20c%E1%BA%A3%20n%C6%B0%E1%BB%9Bc.\n",
    "    TRUNG_DU_MIEN_NUI_PHIA_BAC = [\n",
    "        'hagiang', 'caobang', 'laocai', 'backan', 'langson', 'tuyenquang',\n",
    "        'yenbai', 'thainguyen', 'phutho', 'bacgiang', 'laichau', 'dienbien',\n",
    "        'sonla', 'hoabinh'\n",
    "    ]\n",
    "    DONG_BANG_PHIA_BAC = [\n",
    "        'hanoi', 'haiphong', 'bacninh', 'hanam', 'haiduong', 'hungyen',\n",
    "        'namdinh', 'thaibinh', 'vinhphuc', 'hoabinh'\n",
    "    ]\n",
    "    BAC_TRUNG_BO = [\n",
    "        'thanhhoa', 'nghean', 'hatinh', 'quangbinh', 'quangtri', 'hue'\n",
    "    ]\n",
    "    NAM_TRUNG_BO = [\n",
    "        'danang', 'quangnam', 'quangngai', 'binhdinh', 'phuyen', 'khanhhoa',\n",
    "        'binhthuan', 'ninhthuan'\n",
    "    ]\n",
    "    DONG_NAM_BO = [\n",
    "        'hochiminh', 'bariavungtau', 'binhduong', 'binhphuoc', 'dongnai', 'tayninh'\n",
    "    ]\n",
    "    TAY_NGUYEN = [\n",
    "        'kontum', 'gialai', 'daklak', 'daknong', 'lamdong'\n",
    "    ]\n",
    "    DBSCL = [\n",
    "        'cantho', 'longan', 'tiengiang', 'bentre', 'vinhlong', 'travinh', 'haugiang',\n",
    "        'soctrang', 'dongthap', 'angiang', 'kiengiang', 'baclieu', 'camau'\n",
    "    ]\n",
    "  \n",
    "    # TRUNG_DU_MIEN_NUI_PHIA_BAC = map(clean_address, TRUNG_DU_MIEN_NUI_PHIA_BAC)\n",
    "    # DONG_BANG_PHIA_BAC = map(clean_address, DONG_BANG_PHIA_BAC)\n",
    "    # BAC_TRUNG_BO = map(clean_address, BAC_TRUNG_BO)\n",
    "    # NAM_TRUNG_BO = map(clean_address, NAM_TRUNG_BO)\n",
    "    # DONG_NAM_BO = map(clean_address, DONG_NAM_BO)\n",
    "    # TAY_NGUYEN = map(clean_address, TAY_NGUYEN)\n",
    "    # DBSCL = map(clean_address, DBSCL)\n",
    "    # print(f\"{list(TRUNG_DU_MIEN_NUI_PHIA_BAC)=}\")\n",
    "    # print(f\"{list(DONG_BANG_PHIA_BAC)=}\")\n",
    "    # print(f\"{list(BAC_TRUNG_BO)=}\")\n",
    "    # print(f\"{list(NAM_TRUNG_BO)=}\")\n",
    "    # print(f\"{list(DONG_NAM_BO)=}\")\n",
    "    # print(f\"{list(TAY_NGUYEN)=}\")\n",
    "    # print(f\"{list(DBSCL)=}\")\n",
    "    \n",
    "    city = clean_address(city)\n",
    "    arr = [\n",
    "        TRUNG_DU_MIEN_NUI_PHIA_BAC,\n",
    "        DONG_BANG_PHIA_BAC,\n",
    "        BAC_TRUNG_BO,\n",
    "        NAM_TRUNG_BO,\n",
    "        TAY_NGUYEN,\n",
    "        DONG_NAM_BO,\n",
    "        DBSCL\n",
    "    ]\n",
    "    \n",
    "    # for i, arr_ in enumerate(arr):\n",
    "    #     if city in arr_:\n",
    "    #         return i\n",
    "    \n",
    "    # return len(arr)\n",
    "    \n",
    "    if city in TRUNG_DU_MIEN_NUI_PHIA_BAC:\n",
    "        return 'trung-du-mien-nui-phia-bac'\n",
    "    elif city in DONG_BANG_PHIA_BAC:\n",
    "        return 'dong-bang-phia-bac'\n",
    "    elif city in BAC_TRUNG_BO:\n",
    "        return 'bac-trung-bo'\n",
    "    elif city in NAM_TRUNG_BO:\n",
    "        return 'nam-trung-bo'\n",
    "    elif city in TAY_NGUYEN:\n",
    "        return 'tay-nguyen'\n",
    "    elif city in DONG_NAM_BO:\n",
    "        return 'dong-nam-bo'\n",
    "    elif city in DBSCL:\n",
    "        return 'dbscl'\n",
    "    else:\n",
    "        return ''\n",
    "\n",
    "    \n",
    "def get_city_rank(city: str) -> int:\n",
    "    # https://vi.wikipedia.org/wiki/Danh_s%C3%A1ch_%C4%91%C6%A1n_v%E1%BB%8B_h%C3%A0nh_ch%C3%ADnh_Vi%E1%BB%87t_Nam_theo_GRDP_b%C3%ACnh_qu%C3%A2n_%C4%91%E1%BA%A7u_ng%C6%B0%E1%BB%9Di\n",
    "    # https://www.gso.gov.vn/en/px-web/?pxid=E1129&theme=Health%2C%20Culture%2C%20Sport%20and%20Living%20standard\n",
    "    city = clean_address(city)\n",
    "    rank_df['city'] = rank_df['city'].map(clean_address)\n",
    "    \n",
    "    try:\n",
    "        if city in rank_df['city'].values:\n",
    "            return rank_df.loc[rank_df['city'] == city, 'rank'].values[0]\n",
    "    except IndexError:\n",
    "        pass\n",
    "    \n",
    "    return NOT_FOUND_RANK\n",
    "\n",
    "# test = get_region('Hà Nội')\n",
    "# info_train_df['region'] = info_train_df['address'].map(get_region)\n",
    "# info_test_df['region'] = info_test_df['address'].map(get_region)\n",
    "# info_train_df['rank'] = info_train_df['address'].map(get_city_rank)\n",
    "# info_test_df['rank'] = info_test_df['address'].map(get_city_rank)"
   ]
  },
  {
   "cell_type": "code",
   "execution_count": 15,
   "id": "6fdd8a4b",
   "metadata": {
    "execution": {
     "iopub.execute_input": "2023-02-02T16:29:37.889906Z",
     "iopub.status.busy": "2023-02-02T16:29:37.889570Z",
     "iopub.status.idle": "2023-02-02T16:29:42.700073Z",
     "shell.execute_reply": "2023-02-02T16:29:42.699082Z"
    },
    "papermill": {
     "duration": 4.851719,
     "end_time": "2023-02-02T16:29:42.702472",
     "exception": false,
     "start_time": "2023-02-02T16:29:37.850753",
     "status": "completed"
    },
    "tags": []
   },
   "outputs": [
    {
     "name": "stdout",
     "output_type": "stream",
     "text": [
      "Base Distinct values:  1329\n",
      "Cleaned Distinct values:  447\n"
     ]
    }
   ],
   "source": [
    "base: pd.Series = info_train_df['address'].append(info_test_df['address'])\n",
    "address: pd.Series = base\n",
    "print(f\"Base Distinct values: \", address.value_counts().count())\n",
    "\n",
    "    \n",
    "cleaned_address: pd.Series = base.map(\n",
    "    lambda x: clean_address(str(x)))\n",
    "print(f\"Cleaned Distinct values: \", cleaned_address.value_counts().count())\n",
    "\n",
    "\n",
    "# 560 -> Only train - 458: combined\n",
    "# cities = []\n",
    "# for name, count in cleaned_address.value_counts().iteritems():\n",
    "    # if len(name) > 5:\n",
    "    #     continue\n",
    "    # if count < 5 and len(name) > 0:\n",
    "    #     continue\n",
    "    # print(name, count)\n",
    "    # cities.append(name)\n",
    "    \n",
    "# print(repr(np.array(cities)))"
   ]
  },
  {
   "cell_type": "code",
   "execution_count": 16,
   "id": "28cae124",
   "metadata": {
    "execution": {
     "iopub.execute_input": "2023-02-02T16:29:42.800251Z",
     "iopub.status.busy": "2023-02-02T16:29:42.799124Z",
     "iopub.status.idle": "2023-02-02T16:29:42.806386Z",
     "shell.execute_reply": "2023-02-02T16:29:42.805508Z"
    },
    "papermill": {
     "duration": 0.059419,
     "end_time": "2023-02-02T16:29:42.808464",
     "exception": false,
     "start_time": "2023-02-02T16:29:42.749045",
     "status": "completed"
    },
    "tags": []
   },
   "outputs": [],
   "source": [
    "def scale(x):\n",
    "    return (x - min(x)) / (max(x) - min(x) + 0.00001)\n",
    "\n",
    "def extract_year(x):\n",
    "    try:\n",
    "        return int(str(x)[:4])\n",
    "    except:\n",
    "        return None\n",
    "    \n",
    "def extract_month(x):\n",
    "    try:\n",
    "        return int(str(x)[4:6])\n",
    "    except:\n",
    "        return None"
   ]
  },
  {
   "cell_type": "code",
   "execution_count": 17,
   "id": "47770ce6",
   "metadata": {
    "execution": {
     "iopub.execute_input": "2023-02-02T16:29:42.892559Z",
     "iopub.status.busy": "2023-02-02T16:29:42.891838Z",
     "iopub.status.idle": "2023-02-02T16:29:42.933486Z",
     "shell.execute_reply": "2023-02-02T16:29:42.932634Z"
    },
    "papermill": {
     "duration": 0.086678,
     "end_time": "2023-02-02T16:29:42.935945",
     "exception": false,
     "start_time": "2023-02-02T16:29:42.849267",
     "status": "completed"
    },
    "tags": []
   },
   "outputs": [],
   "source": [
    "from sklearn.preprocessing import LabelEncoder\n",
    "from sklearn.preprocessing import MinMaxScaler\n",
    "\n",
    "\n",
    "def get_prefix (x):\n",
    "    if len(str(x)) < 2:\n",
    "        return ''\n",
    "    return str(x)[:2]\n",
    "\n",
    "def clean_work_info(work_df: pd.DataFrame):\n",
    "    work_df['from_year'] = work_df['from_date'].apply(extract_year).astype('int')\n",
    "    work_df['from_month'] = work_df['from_date'].apply(extract_month).astype('int')\n",
    "    work_df['to_year'] = work_df['to_date'].apply(extract_year).astype('int')\n",
    "    work_df['to_month'] = work_df['to_date'].apply(extract_month).astype('int')\n",
    "    work_df['work_time'] = ((work_df['to_year'] - work_df['from_year']) * 12).astype('int')\n",
    "    \n",
    "    tmp:dict = {}\n",
    "    \n",
    "    for index,row in work_df.iterrows():\n",
    "        if row['to_year'] == row['from_year'] :\n",
    "            row['work_time'] += (row['to_month'] - row['from_month'])\n",
    "        else:\n",
    "            row['work_time'] += (row['to_month'] - (12 - row['from_month']) ) \n",
    "        if('id_bh' not in tmp):\n",
    "            tmp['id_bh'] = 0\n",
    "        else :\n",
    "            tmp['id_bh'] += row['work_time']\n",
    "        # print(row['work_time'])\n",
    "    \n",
    "    work_df.sort_values('to_date',inplace = True)\n",
    "    work_df.drop_duplicates(subset=['id_bh'],keep = 'last',inplace=True)\n",
    "    for index,row in work_df.iterrows():\n",
    "        row['work_time'] = tmp['id_bh']\n",
    "\n",
    "    work_df['cleaned_address'] = work_df['address'].map(clean_address)\n",
    "    work_df['cleaned_job/role'] = work_df['job/role'].map(clean_job_role)\n",
    "#     work_df['city_rank'] = work_df['cleaned_address'].map(get_city_rank)\n",
    "#     work_df['region'] = work_df['cleaned_address'].map(get_region)\n",
    "    work_df['prefix'] = work_df['id_office'].map(get_prefix)\n",
    "\n",
    "    PROFESSION = [ \"may\", 'kỹ thuật', 'kỹ sư', 'bảo vệ', 'kế toán', 'sửa chữa', 'lái xe', 'lái', 'y', 'dược', 'technical', 'marketing', 'ngân hàng', 'it', 'giáo viên', 'công nhân', 'giảng viên', 'thạc sỹ', 'thư ký', 'thủ quỹ', 'thủ kho', 'giao dịch viên', 'lao động', 'giám sát', 'điều hành', 'điều dưỡng', 'bác sỹ',]\n",
    "    for profession in PROFESSION:\n",
    "        work_df[f\"is_profession_{profession}\"] = work_df['cleaned_job/role'].map(lambda x: (profession in x))\n",
    "    \n",
    "    LEVEL = [ 'cán bộ', 'chuyên viên', 'nhân viên', 'phó', 'trưởng', 'quản lý', 'trợ lý', 'chính', 'phụ', 'giám đốc','tổng', 'chủ tịch', 'quản trị', 'bí thư',]\n",
    "    for level in LEVEL:\n",
    "        work_df[f\"is_level_{level}\"] = work_df['cleaned_job/role'].map(lambda x: (level in x))\n",
    "    \n",
    "    SCOPE = ['ban', 'phòng', 'bộ', 'trạm', 'huyện', 'thị xã', 'tỉnh', 'ubnd',]\n",
    "    for scope in SCOPE:\n",
    "        work_df[f\"is_scope_{scope}\"] = work_df['cleaned_job/role'].map(lambda x: (scope in x))\n",
    "    \n",
    "    return work_df\n",
    "\n",
    "\n",
    "def get_dataset():\n",
    "    print(\"Loading data...\")\n",
    "    info_test_df: pd.DataFrame =  pd.read_csv(f'{BASE_PATH}/info_test.csv')\n",
    "    info_train_df: pd.DataFrame =  pd.read_csv(f'{BASE_PATH}/info_train.csv')\n",
    "\n",
    "    label_test_df: pd.DataFrame = pd.read_csv(f'{BASE_PATH}/label_test.csv')\n",
    "    label_train_df: pd.DataFrame = pd.read_csv(f'{BASE_PATH}/label_train.csv')\n",
    "\n",
    "    work_test_df: pd.DataFrame = pd.read_csv(f'{BASE_PATH}/work_test.csv')\n",
    "    work_train_df: pd.DataFrame = pd.read_csv(f'{BASE_PATH}/work_train.csv')\n",
    "    \n",
    "    print(f'Read data done!')\n",
    "    # Custom columns\n",
    "    # info_train_df['region'] = info_train_df['address'].map(get_region)\n",
    "    # info_test_df['region'] = info_test_df['address'].map(get_region)\n",
    "    # info_train_df['rank'] = info_train_df['address'].map(get_city_rank)\n",
    "    # info_test_df['rank'] = info_test_df['address'].map(get_city_rank)\n",
    "    print('Clean address...')\n",
    "    info_train_df['cleaned_address'] = info_train_df['address'].map(clean_address)\n",
    "    print('Clean info_train_df done')\n",
    "    info_test_df['cleaned_address'] = info_test_df['address'].map(clean_address)\n",
    "    print('Clean info_test_df done')\n",
    "    work_train_df = clean_work_info(work_train_df)\n",
    "    work_test_df = clean_work_info(work_test_df)\n",
    "    \n",
    "    # Join tables\n",
    "    print(\"Join tables...\")\n",
    "    train_df = info_train_df.join(\n",
    "        work_train_df.set_index('id_bh'), on='id_bh', rsuffix='_work').join(\n",
    "            label_train_df.set_index('id_bh'), on='id_bh', rsuffix='_label')\n",
    "    test_df = info_test_df.join(\n",
    "        work_test_df.set_index('id_bh'), on='id_bh', rsuffix='_work')\n",
    "\n",
    "    print(f'Join data done!')\n",
    "    \n",
    "    train_df['job/role'].fillna('', inplace=True)\n",
    "    test_df['job/role'].fillna('', inplace=True)\n",
    "    train_df['address_work'].astype('string').fillna('', inplace=True)\n",
    "    test_df['address_work'].astype('string').fillna('', inplace=True)\n",
    "    train_df['cleaned_address_work'].astype('string').fillna('', inplace=True)\n",
    "    test_df['cleaned_address_work'].astype('string').fillna('', inplace=True)\n",
    "    \n",
    "    print(f'Fillna done!')\n",
    "    train_df.drop(train_df[train_df['employee_lv']>60].index, inplace=True)\n",
    "    test_df.drop(test_df[test_df['employee_lv']>60].index, inplace=True)\n",
    "    train_df.drop('company_type', axis=1, inplace=True)\n",
    "    test_df.drop('company_type', axis=1, inplace=True)\n",
    "    print(f'Drop data done!')\n",
    "    # display(train_df.head())\n",
    "    # display(test_df.head())\n",
    "    \n",
    "    # Categorical fields should include both test and train\n",
    "    full_df = pd.concat([train_df.drop(['label'], axis=1), test_df])\n",
    "\n",
    "    # Custom boolean fields\n",
    "    BOOL_FIELDS = [x for x in full_df.columns if x.startswith('is_')]\n",
    "    CATEGORICAL_FIELDS = [\n",
    "        'address', 'cleaned_address',\n",
    "#         'region',\n",
    "        'gender',\n",
    "        'id_management', 'id_office', 'job/role', 'cleaned_job/role',\n",
    "        'address_work', 'cleaned_address_work',\n",
    "        'prefix',\n",
    "        *BOOL_FIELDS\n",
    "    ]\n",
    "    \n",
    "    for field in CATEGORICAL_FIELDS:\n",
    "        label_encoder = LabelEncoder().fit(full_df[field])\n",
    "        train_df[field] = label_encoder.transform(train_df[field])\n",
    "        test_df[field] = label_encoder.transform(test_df[field])\n",
    "#         print(f\"{field=} done\")\n",
    "    \n",
    "    NUMERIC_FIELDS = [\n",
    "#         'city_rank',\n",
    "        'bithYear', 'employee_lv', 'work_time'\n",
    "    ]\n",
    "    \n",
    "    for field in NUMERIC_FIELDS:\n",
    "        mi = min(full_df[field])\n",
    "        ma = max(full_df[field])\n",
    "        train_df[field] = train_df[field].map(lambda x: (x - mi) / (ma - mi + 0.00001))\n",
    "        test_df[field] = test_df[field].map(lambda x: (x - mi) / (ma - mi + 0.00001))\n",
    "#         print(f\"{field=} done\")\n",
    "    \n",
    "    return train_df, test_df, CATEGORICAL_FIELDS"
   ]
  },
  {
   "cell_type": "code",
   "execution_count": 18,
   "id": "6e99f0be",
   "metadata": {
    "execution": {
     "iopub.execute_input": "2023-02-02T16:29:43.025193Z",
     "iopub.status.busy": "2023-02-02T16:29:43.024442Z",
     "iopub.status.idle": "2023-02-02T16:29:43.204048Z",
     "shell.execute_reply": "2023-02-02T16:29:43.203012Z"
    },
    "papermill": {
     "duration": 0.225268,
     "end_time": "2023-02-02T16:29:43.206644",
     "exception": false,
     "start_time": "2023-02-02T16:29:42.981376",
     "status": "completed"
    },
    "tags": []
   },
   "outputs": [],
   "source": [
    "from sklearn.decomposition import PCA\n",
    "from matplotlib.colors import ListedColormap\n",
    "def plot_pca(df: pd.DataFrame, feature_names: list, labels: np.ndarray, n_components: int = 2):\n",
    "    pca = PCA(n_components=n_components)\n",
    "    features = pca.fit_transform(info_train_df[feature_names])\n",
    "    features = MinMaxScaler().fit_transform(features)\n",
    "    df = pd.DataFrame()\n",
    "    print(features.shape, labels.shape)\n",
    "    \n",
    "    if n_components == 2:\n",
    "        df['x'] = features[:, 0]\n",
    "        df['y'] = features[:, 1]\n",
    "        df['labels'] = labels\n",
    "        plt.figure()\n",
    "        sns.scatterplot(data=df, x='x', y='y', hue='labels')\n",
    "        plt.show()\n",
    "    elif n_components == 3:\n",
    "        fig: plt.Figure = plt.figure()\n",
    "        ax = fig.add_subplot(projection='3d')\n",
    "        fig.add_axes(ax)\n",
    "\n",
    "        # get colormap from seaborn\n",
    "        cmap = ListedColormap(sns.color_palette(\"husl\", 256).as_hex())\n",
    "\n",
    "        # plot\n",
    "        sc = ax.scatter(features[:, 0], features[:, 1], features[: 2], c=labels, s=40, marker='o', alpha=1, cmap=cmap)\n",
    "        ax.set_xlabel('X Label')\n",
    "        ax.set_ylabel('Y Label')\n",
    "        ax.set_zlabel('Z Label')\n",
    "        plt.show()\n",
    "\n",
    "# plot_pca(info_train_df, ['bithYear', 'address', 'id_bh', 'gender', 'region', 'rank'], info_train_df['label'], 2)\n",
    "# plot_pca(info_train_df, ['bithYear', 'address', 'id_bh', 'gender'], info_train_df['label'], 2)\n",
    "# plot_pca(info_train_df, ['bithYear', 'address', 'id_bh', 'gender', 'region', 'rank'], info_train_df['label'], 3)"
   ]
  },
  {
   "cell_type": "code",
   "execution_count": 19,
   "id": "f76021cb",
   "metadata": {
    "execution": {
     "iopub.execute_input": "2023-02-02T16:29:43.297378Z",
     "iopub.status.busy": "2023-02-02T16:29:43.296658Z",
     "iopub.status.idle": "2023-02-02T16:30:34.955522Z",
     "shell.execute_reply": "2023-02-02T16:30:34.954593Z"
    },
    "papermill": {
     "duration": 51.707622,
     "end_time": "2023-02-02T16:30:34.958091",
     "exception": false,
     "start_time": "2023-02-02T16:29:43.250469",
     "status": "completed"
    },
    "tags": []
   },
   "outputs": [
    {
     "name": "stdout",
     "output_type": "stream",
     "text": [
      "Loading data...\n",
      "Read data done!\n",
      "Clean address...\n",
      "Clean info_train_df done\n",
      "Clean info_test_df done\n",
      "Join tables...\n",
      "Join data done!\n",
      "Fillna done!\n",
      "Drop data done!\n"
     ]
    }
   ],
   "source": [
    "train, test, categorical_fields = get_dataset()\n",
    "# display(train.head())\n",
    "# display(test.head())"
   ]
  },
  {
   "cell_type": "code",
   "execution_count": 20,
   "id": "032f69a3",
   "metadata": {
    "execution": {
     "iopub.execute_input": "2023-02-02T16:30:35.040309Z",
     "iopub.status.busy": "2023-02-02T16:30:35.039987Z",
     "iopub.status.idle": "2023-02-02T16:30:35.092715Z",
     "shell.execute_reply": "2023-02-02T16:30:35.091697Z"
    },
    "papermill": {
     "duration": 0.097618,
     "end_time": "2023-02-02T16:30:35.096139",
     "exception": false,
     "start_time": "2023-02-02T16:30:34.998521",
     "status": "completed"
    },
    "tags": []
   },
   "outputs": [
    {
     "name": "stdout",
     "output_type": "stream",
     "text": [
      "<class 'pandas.core.frame.DataFrame'>\n",
      "Int64Index: 27502 entries, 0 to 27501\n",
      "Data columns (total 71 columns):\n",
      " #   Column                        Non-Null Count  Dtype  \n",
      "---  ------                        --------------  -----  \n",
      " 0   bithYear                      27502 non-null  float64\n",
      " 1   gender                        27502 non-null  int64  \n",
      " 2   address                       27502 non-null  int64  \n",
      " 3   id_bh                         27502 non-null  int64  \n",
      " 4   cleaned_address               27502 non-null  int64  \n",
      " 5   id                            27502 non-null  int64  \n",
      " 6   id_management                 27502 non-null  int64  \n",
      " 7   id_office                     27502 non-null  int64  \n",
      " 8   job/role                      27502 non-null  int64  \n",
      " 9   from_date                     27502 non-null  int64  \n",
      " 10  to_date                       27502 non-null  int64  \n",
      " 11  employee_lv                   27502 non-null  float64\n",
      " 12  address_work                  27502 non-null  int64  \n",
      " 13  from_year                     27502 non-null  int64  \n",
      " 14  from_month                    27502 non-null  int64  \n",
      " 15  to_year                       27502 non-null  int64  \n",
      " 16  to_month                      27502 non-null  int64  \n",
      " 17  work_time                     27502 non-null  float64\n",
      " 18  cleaned_address_work          27502 non-null  int64  \n",
      " 19  cleaned_job/role              27502 non-null  int64  \n",
      " 20  prefix                        27502 non-null  int64  \n",
      " 21  is_profession_may             27502 non-null  int64  \n",
      " 22  is_profession_kỹ thuật        27502 non-null  int64  \n",
      " 23  is_profession_kỹ sư           27502 non-null  int64  \n",
      " 24  is_profession_bảo vệ          27502 non-null  int64  \n",
      " 25  is_profession_kế toán         27502 non-null  int64  \n",
      " 26  is_profession_sửa chữa        27502 non-null  int64  \n",
      " 27  is_profession_lái xe          27502 non-null  int64  \n",
      " 28  is_profession_lái             27502 non-null  int64  \n",
      " 29  is_profession_y               27502 non-null  int64  \n",
      " 30  is_profession_dược            27502 non-null  int64  \n",
      " 31  is_profession_technical       27502 non-null  int64  \n",
      " 32  is_profession_marketing       27502 non-null  int64  \n",
      " 33  is_profession_ngân hàng       27502 non-null  int64  \n",
      " 34  is_profession_it              27502 non-null  int64  \n",
      " 35  is_profession_giáo viên       27502 non-null  int64  \n",
      " 36  is_profession_công nhân       27502 non-null  int64  \n",
      " 37  is_profession_giảng viên      27502 non-null  int64  \n",
      " 38  is_profession_thạc sỹ         27502 non-null  int64  \n",
      " 39  is_profession_thư ký          27502 non-null  int64  \n",
      " 40  is_profession_thủ quỹ         27502 non-null  int64  \n",
      " 41  is_profession_thủ kho         27502 non-null  int64  \n",
      " 42  is_profession_giao dịch viên  27502 non-null  int64  \n",
      " 43  is_profession_lao động        27502 non-null  int64  \n",
      " 44  is_profession_giám sát        27502 non-null  int64  \n",
      " 45  is_profession_điều hành       27502 non-null  int64  \n",
      " 46  is_profession_điều dưỡng      27502 non-null  int64  \n",
      " 47  is_profession_bác sỹ          27502 non-null  int64  \n",
      " 48  is_level_cán bộ               27502 non-null  int64  \n",
      " 49  is_level_chuyên viên          27502 non-null  int64  \n",
      " 50  is_level_nhân viên            27502 non-null  int64  \n",
      " 51  is_level_phó                  27502 non-null  int64  \n",
      " 52  is_level_trưởng               27502 non-null  int64  \n",
      " 53  is_level_quản lý              27502 non-null  int64  \n",
      " 54  is_level_trợ lý               27502 non-null  int64  \n",
      " 55  is_level_chính                27502 non-null  int64  \n",
      " 56  is_level_phụ                  27502 non-null  int64  \n",
      " 57  is_level_giám đốc             27502 non-null  int64  \n",
      " 58  is_level_tổng                 27502 non-null  int64  \n",
      " 59  is_level_chủ tịch             27502 non-null  int64  \n",
      " 60  is_level_quản trị             27502 non-null  int64  \n",
      " 61  is_level_bí thư               27502 non-null  int64  \n",
      " 62  is_scope_ban                  27502 non-null  int64  \n",
      " 63  is_scope_phòng                27502 non-null  int64  \n",
      " 64  is_scope_bộ                   27502 non-null  int64  \n",
      " 65  is_scope_trạm                 27502 non-null  int64  \n",
      " 66  is_scope_huyện                27502 non-null  int64  \n",
      " 67  is_scope_thị xã               27502 non-null  int64  \n",
      " 68  is_scope_tỉnh                 27502 non-null  int64  \n",
      " 69  is_scope_ubnd                 27502 non-null  int64  \n",
      " 70  label                         27502 non-null  int64  \n",
      "dtypes: float64(3), int64(68)\n",
      "memory usage: 15.1 MB\n",
      "<class 'pandas.core.frame.DataFrame'>\n",
      "Int64Index: 18134 entries, 0 to 18133\n",
      "Data columns (total 70 columns):\n",
      " #   Column                        Non-Null Count  Dtype  \n",
      "---  ------                        --------------  -----  \n",
      " 0   bithYear                      18134 non-null  float64\n",
      " 1   gender                        18134 non-null  int64  \n",
      " 2   address                       18134 non-null  int64  \n",
      " 3   id_bh                         18134 non-null  int64  \n",
      " 4   cleaned_address               18134 non-null  int64  \n",
      " 5   id                            18134 non-null  int64  \n",
      " 6   id_management                 18134 non-null  int64  \n",
      " 7   id_office                     18134 non-null  int64  \n",
      " 8   job/role                      18134 non-null  int64  \n",
      " 9   from_date                     18134 non-null  int64  \n",
      " 10  to_date                       18134 non-null  int64  \n",
      " 11  employee_lv                   18134 non-null  float64\n",
      " 12  address_work                  18134 non-null  int64  \n",
      " 13  from_year                     18134 non-null  int64  \n",
      " 14  from_month                    18134 non-null  int64  \n",
      " 15  to_year                       18134 non-null  int64  \n",
      " 16  to_month                      18134 non-null  int64  \n",
      " 17  work_time                     18134 non-null  float64\n",
      " 18  cleaned_address_work          18134 non-null  int64  \n",
      " 19  cleaned_job/role              18134 non-null  int64  \n",
      " 20  prefix                        18134 non-null  int64  \n",
      " 21  is_profession_may             18134 non-null  int64  \n",
      " 22  is_profession_kỹ thuật        18134 non-null  int64  \n",
      " 23  is_profession_kỹ sư           18134 non-null  int64  \n",
      " 24  is_profession_bảo vệ          18134 non-null  int64  \n",
      " 25  is_profession_kế toán         18134 non-null  int64  \n",
      " 26  is_profession_sửa chữa        18134 non-null  int64  \n",
      " 27  is_profession_lái xe          18134 non-null  int64  \n",
      " 28  is_profession_lái             18134 non-null  int64  \n",
      " 29  is_profession_y               18134 non-null  int64  \n",
      " 30  is_profession_dược            18134 non-null  int64  \n",
      " 31  is_profession_technical       18134 non-null  int64  \n",
      " 32  is_profession_marketing       18134 non-null  int64  \n",
      " 33  is_profession_ngân hàng       18134 non-null  int64  \n",
      " 34  is_profession_it              18134 non-null  int64  \n",
      " 35  is_profession_giáo viên       18134 non-null  int64  \n",
      " 36  is_profession_công nhân       18134 non-null  int64  \n",
      " 37  is_profession_giảng viên      18134 non-null  int64  \n",
      " 38  is_profession_thạc sỹ         18134 non-null  int64  \n",
      " 39  is_profession_thư ký          18134 non-null  int64  \n",
      " 40  is_profession_thủ quỹ         18134 non-null  int64  \n",
      " 41  is_profession_thủ kho         18134 non-null  int64  \n",
      " 42  is_profession_giao dịch viên  18134 non-null  int64  \n",
      " 43  is_profession_lao động        18134 non-null  int64  \n",
      " 44  is_profession_giám sát        18134 non-null  int64  \n",
      " 45  is_profession_điều hành       18134 non-null  int64  \n",
      " 46  is_profession_điều dưỡng      18134 non-null  int64  \n",
      " 47  is_profession_bác sỹ          18134 non-null  int64  \n",
      " 48  is_level_cán bộ               18134 non-null  int64  \n",
      " 49  is_level_chuyên viên          18134 non-null  int64  \n",
      " 50  is_level_nhân viên            18134 non-null  int64  \n",
      " 51  is_level_phó                  18134 non-null  int64  \n",
      " 52  is_level_trưởng               18134 non-null  int64  \n",
      " 53  is_level_quản lý              18134 non-null  int64  \n",
      " 54  is_level_trợ lý               18134 non-null  int64  \n",
      " 55  is_level_chính                18134 non-null  int64  \n",
      " 56  is_level_phụ                  18134 non-null  int64  \n",
      " 57  is_level_giám đốc             18134 non-null  int64  \n",
      " 58  is_level_tổng                 18134 non-null  int64  \n",
      " 59  is_level_chủ tịch             18134 non-null  int64  \n",
      " 60  is_level_quản trị             18134 non-null  int64  \n",
      " 61  is_level_bí thư               18134 non-null  int64  \n",
      " 62  is_scope_ban                  18134 non-null  int64  \n",
      " 63  is_scope_phòng                18134 non-null  int64  \n",
      " 64  is_scope_bộ                   18134 non-null  int64  \n",
      " 65  is_scope_trạm                 18134 non-null  int64  \n",
      " 66  is_scope_huyện                18134 non-null  int64  \n",
      " 67  is_scope_thị xã               18134 non-null  int64  \n",
      " 68  is_scope_tỉnh                 18134 non-null  int64  \n",
      " 69  is_scope_ubnd                 18134 non-null  int64  \n",
      "dtypes: float64(3), int64(67)\n",
      "memory usage: 9.8 MB\n",
      "None None\n"
     ]
    }
   ],
   "source": [
    "print(train.info(), test.info())"
   ]
  },
  {
   "cell_type": "code",
   "execution_count": null,
   "id": "5fd64fa4",
   "metadata": {
    "papermill": {
     "duration": 0.040266,
     "end_time": "2023-02-02T16:30:35.176942",
     "exception": false,
     "start_time": "2023-02-02T16:30:35.136676",
     "status": "completed"
    },
    "tags": []
   },
   "outputs": [],
   "source": []
  },
  {
   "cell_type": "code",
   "execution_count": 21,
   "id": "e8fce543",
   "metadata": {
    "execution": {
     "iopub.execute_input": "2023-02-02T16:30:35.259298Z",
     "iopub.status.busy": "2023-02-02T16:30:35.258653Z",
     "iopub.status.idle": "2023-02-02T16:30:35.264438Z",
     "shell.execute_reply": "2023-02-02T16:30:35.263829Z"
    },
    "papermill": {
     "duration": 0.049428,
     "end_time": "2023-02-02T16:30:35.266546",
     "exception": false,
     "start_time": "2023-02-02T16:30:35.217118",
     "status": "completed"
    },
    "tags": []
   },
   "outputs": [],
   "source": [
    "params = {\n",
    "    'max_depth': 8, \n",
    "    'learning_rate': 0.09, \n",
    "    'n_estimators': 10000, \n",
    "    'max_bin': 271, \n",
    "    'min_data_in_leaf': 417, \n",
    "    'l2_leaf_reg': 0.0002403681946051935, \n",
    "    'subsample': 0.8658782253625072,\n",
    "    'early_stopping_rounds' : 200,\n",
    "    'random_state': 42,\n",
    "#     'leaf_estimation_method': 'Gradient',\n",
    "    'bootstrap_type': 'Bernoulli',\n",
    "    'objective': 'MultiClass',\n",
    "    'verbose': 0,\n",
    "    \"eval_metric\" : 'TotalF1',\n",
    "    # \"task_type\" : \"GPU\",\n",
    "    # \"devices\" : '0:1'\n",
    "}\n"
   ]
  },
  {
   "cell_type": "code",
   "execution_count": 22,
   "id": "843ffbda",
   "metadata": {
    "execution": {
     "iopub.execute_input": "2023-02-02T16:30:35.348667Z",
     "iopub.status.busy": "2023-02-02T16:30:35.348077Z",
     "iopub.status.idle": "2023-02-02T16:30:35.386437Z",
     "shell.execute_reply": "2023-02-02T16:30:35.385790Z"
    },
    "papermill": {
     "duration": 0.081911,
     "end_time": "2023-02-02T16:30:35.388728",
     "exception": false,
     "start_time": "2023-02-02T16:30:35.306817",
     "status": "completed"
    },
    "tags": []
   },
   "outputs": [],
   "source": [
    "from sklearn.model_selection import train_test_split\n",
    "\n",
    "X = train.drop(['label', 'id_bh', 'id'], axis=1)\n",
    "y = train['label']\n",
    "\n",
    "X_train, X_val, y_train, y_val = train_test_split(X, y, test_size=0.2, random_state=42)\n"
   ]
  },
  {
   "cell_type": "code",
   "execution_count": 23,
   "id": "475814a7",
   "metadata": {
    "execution": {
     "iopub.execute_input": "2023-02-02T16:30:35.471927Z",
     "iopub.status.busy": "2023-02-02T16:30:35.471470Z",
     "iopub.status.idle": "2023-02-02T16:51:08.235110Z",
     "shell.execute_reply": "2023-02-02T16:51:08.234105Z"
    },
    "papermill": {
     "duration": 1232.808606,
     "end_time": "2023-02-02T16:51:08.237572",
     "exception": false,
     "start_time": "2023-02-02T16:30:35.428966",
     "status": "completed"
    },
    "tags": []
   },
   "outputs": [
    {
     "data": {
      "application/vnd.jupyter.widget-view+json": {
       "model_id": "ce849d591120483b8d86acd3c5cfea75",
       "version_major": 2,
       "version_minor": 0
      },
      "text/plain": [
       "MetricVisualizer(layout=Layout(align_self='stretch', height='500px'))"
      ]
     },
     "metadata": {},
     "output_type": "display_data"
    },
    {
     "name": "stdout",
     "output_type": "stream",
     "text": [
      "0.9227063061854038\n",
      "770\n",
      "0.9234684602799491\n"
     ]
    }
   ],
   "source": [
    "from catboost import CatBoostClassifier\n",
    "from sklearn.metrics import plot_roc_curve, auc, roc_curve, f1_score\n",
    "clf = CatBoostClassifier(**params)\n",
    "\n",
    "clf.fit(\n",
    "    X_train, y_train,\n",
    "    eval_set=(X_val, y_val),\n",
    "    verbose=False,\n",
    "    plot=True,\n",
    "    cat_features=list(set([\n",
    "            'address', 'cleaned_address', 'gender', 'address_work', 'id_management', 'id_office', 'job/role',\n",
    "            'address_work', 'cleaned_address_work', 'cleaned_job/role',\n",
    "            *categorical_fields,\n",
    "        ]))\n",
    ")\n",
    "y_pred = clf.predict(X_val)\n",
    "f1_score = f1_score(y_val, y_pred, average=\"weighted\")\n",
    "print(f1_score)\n",
    "# preds_proba = clf.predict_proba(X_val)\n",
    "# print(preds_proba)\n",
    "print(clf.get_best_iteration())\n",
    "print(clf.score(X_val, y_val))"
   ]
  },
  {
   "cell_type": "code",
   "execution_count": 24,
   "id": "744aefd7",
   "metadata": {
    "execution": {
     "iopub.execute_input": "2023-02-02T16:51:08.324032Z",
     "iopub.status.busy": "2023-02-02T16:51:08.323760Z",
     "iopub.status.idle": "2023-02-02T16:51:08.932589Z",
     "shell.execute_reply": "2023-02-02T16:51:08.931578Z"
    },
    "papermill": {
     "duration": 0.654607,
     "end_time": "2023-02-02T16:51:08.935027",
     "exception": false,
     "start_time": "2023-02-02T16:51:08.280420",
     "status": "completed"
    },
    "tags": []
   },
   "outputs": [
    {
     "data": {
      "text/html": [
       "<div>\n",
       "<style scoped>\n",
       "    .dataframe tbody tr th:only-of-type {\n",
       "        vertical-align: middle;\n",
       "    }\n",
       "\n",
       "    .dataframe tbody tr th {\n",
       "        vertical-align: top;\n",
       "    }\n",
       "\n",
       "    .dataframe thead th {\n",
       "        text-align: right;\n",
       "    }\n",
       "</style>\n",
       "<table border=\"1\" class=\"dataframe\">\n",
       "  <thead>\n",
       "    <tr style=\"text-align: right;\">\n",
       "      <th></th>\n",
       "      <th>id_bh</th>\n",
       "      <th>label</th>\n",
       "    </tr>\n",
       "  </thead>\n",
       "  <tbody>\n",
       "    <tr>\n",
       "      <th>0</th>\n",
       "      <td>113118886</td>\n",
       "      <td>2</td>\n",
       "    </tr>\n",
       "    <tr>\n",
       "      <th>1</th>\n",
       "      <td>2521527855</td>\n",
       "      <td>2</td>\n",
       "    </tr>\n",
       "    <tr>\n",
       "      <th>2</th>\n",
       "      <td>2421701111</td>\n",
       "      <td>2</td>\n",
       "    </tr>\n",
       "    <tr>\n",
       "      <th>3</th>\n",
       "      <td>2620332660</td>\n",
       "      <td>2</td>\n",
       "    </tr>\n",
       "    <tr>\n",
       "      <th>4</th>\n",
       "      <td>2905004143</td>\n",
       "      <td>6</td>\n",
       "    </tr>\n",
       "    <tr>\n",
       "      <th>...</th>\n",
       "      <td>...</td>\n",
       "      <td>...</td>\n",
       "    </tr>\n",
       "    <tr>\n",
       "      <th>18129</th>\n",
       "      <td>2717061671</td>\n",
       "      <td>5</td>\n",
       "    </tr>\n",
       "    <tr>\n",
       "      <th>18130</th>\n",
       "      <td>2612005193</td>\n",
       "      <td>6</td>\n",
       "    </tr>\n",
       "    <tr>\n",
       "      <th>18131</th>\n",
       "      <td>7916334833</td>\n",
       "      <td>3</td>\n",
       "    </tr>\n",
       "    <tr>\n",
       "      <th>18132</th>\n",
       "      <td>2616146670</td>\n",
       "      <td>4</td>\n",
       "    </tr>\n",
       "    <tr>\n",
       "      <th>18133</th>\n",
       "      <td>2412035312</td>\n",
       "      <td>3</td>\n",
       "    </tr>\n",
       "  </tbody>\n",
       "</table>\n",
       "<p>18134 rows × 2 columns</p>\n",
       "</div>"
      ],
      "text/plain": [
       "            id_bh  label\n",
       "0       113118886      2\n",
       "1      2521527855      2\n",
       "2      2421701111      2\n",
       "3      2620332660      2\n",
       "4      2905004143      6\n",
       "...           ...    ...\n",
       "18129  2717061671      5\n",
       "18130  2612005193      6\n",
       "18131  7916334833      3\n",
       "18132  2616146670      4\n",
       "18133  2412035312      3\n",
       "\n",
       "[18134 rows x 2 columns]"
      ]
     },
     "execution_count": 24,
     "metadata": {},
     "output_type": "execute_result"
    }
   ],
   "source": [
    "test_data = test.drop(['id_bh', 'id'], axis=1)\n",
    "# print(len(test_data.columns))\n",
    "# print(len(features_full))\n",
    "test_label = clf.predict(test_data).astype('int64')\n",
    "test[\"label\"] = test_label\n",
    "\n",
    "sub = pd.read_csv(\"../input/uet-hackathon-2022-data-science/label_test.csv\")\n",
    "sub = sub.merge(test, on=\"id_bh\")\n",
    "sub = sub[[\"id_bh\", \"label\"]]\n",
    "sub.to_csv(f'./submission{datetime.datetime.now().strftime(\"%Y%m%d%H%M%S\")}.csv', index=False)\n",
    "sub"
   ]
  }
 ],
 "metadata": {
  "kernelspec": {
   "display_name": "Python 3",
   "language": "python",
   "name": "python3"
  },
  "language_info": {
   "codemirror_mode": {
    "name": "ipython",
    "version": 3
   },
   "file_extension": ".py",
   "mimetype": "text/x-python",
   "name": "python",
   "nbconvert_exporter": "python",
   "pygments_lexer": "ipython3",
   "version": "3.7.12"
  },
  "papermill": {
   "default_parameters": {},
   "duration": 1318.218794,
   "end_time": "2023-02-02T16:51:10.011924",
   "environment_variables": {},
   "exception": null,
   "input_path": "__notebook__.ipynb",
   "output_path": "__notebook__.ipynb",
   "parameters": {},
   "start_time": "2023-02-02T16:29:11.793130",
   "version": "2.3.4"
  },
  "widgets": {
   "application/vnd.jupyter.widget-state+json": {
    "state": {
     "691fce840e264c3f974ecfd76da44aac": {
      "model_module": "@jupyter-widgets/base",
      "model_module_version": "1.2.0",
      "model_name": "LayoutModel",
      "state": {
       "_model_module": "@jupyter-widgets/base",
       "_model_module_version": "1.2.0",
       "_model_name": "LayoutModel",
       "_view_count": null,
       "_view_module": "@jupyter-widgets/base",
       "_view_module_version": "1.2.0",
       "_view_name": "LayoutView",
       "align_content": null,
       "align_items": null,
       "align_self": "stretch",
       "border": null,
       "bottom": null,
       "display": null,
       "flex": null,
       "flex_flow": null,
       "grid_area": null,
       "grid_auto_columns": null,
       "grid_auto_flow": null,
       "grid_auto_rows": null,
       "grid_column": null,
       "grid_gap": null,
       "grid_row": null,
       "grid_template_areas": null,
       "grid_template_columns": null,
       "grid_template_rows": null,
       "height": "500px",
       "justify_content": null,
       "justify_items": null,
       "left": null,
       "margin": null,
       "max_height": null,
       "max_width": null,
       "min_height": null,
       "min_width": null,
       "object_fit": null,
       "object_position": null,
       "order": null,
       "overflow": null,
       "overflow_x": null,
       "overflow_y": null,
       "padding": null,
       "right": null,
       "top": null,
       "visibility": null,
       "width": null
      }
     },
     "ce849d591120483b8d86acd3c5cfea75": {
      "model_module": "catboost-widget",
      "model_module_version": "^1.0.0",
      "model_name": "CatboostWidgetModel",
      "state": {
       "_dom_classes": [],
       "_model_module": "catboost-widget",
       "_model_module_version": "^1.0.0",
       "_model_name": "CatboostWidgetModel",
       "_view_count": null,
       "_view_module": "catboost-widget",
       "_view_module_version": "^1.0.0",
       "_view_name": "CatboostWidgetView",
       "data": {
        "catboost_info": {
         "content": {
          "data": {
           "iterations": [
            {
             "iteration": 0,
             "learn": [
              0.8066400333,
              1.593164334
             ],
             "passed_time": 0.9764115289,
             "remaining_time": 9763.138877,
             "test": [
              0.8113658504,
              1.590010803
             ]
            },
            {
             "iteration": 1,
             "learn": [
              0.8246651675,
              1.383514211
             ],
             "passed_time": 2.008176125,
             "remaining_time": 10038.87245,
             "test": [
              0.8252144649,
              1.379377076
             ]
            },
            {
             "iteration": 2,
             "learn": [
              0.8244610938,
              1.233214186
             ],
             "passed_time": 2.900093004,
             "remaining_time": 9664.076588,
             "test": [
              0.8267779833,
              1.229255756
             ]
            },
            {
             "iteration": 3,
             "learn": [
              0.8298902136,
              1.122165934
             ],
             "passed_time": 3.889122393,
             "remaining_time": 9718.91686,
             "test": [
              0.8330857192,
              1.117935046
             ]
            },
            {
             "iteration": 4,
             "learn": [
              0.8419259364,
              1.024137004
             ],
             "passed_time": 4.812594148,
             "remaining_time": 9620.375703,
             "test": [
              0.8453303021,
              1.018936202
             ]
            },
            {
             "iteration": 5,
             "learn": [
              0.8437679329,
              0.944338678
             ],
             "passed_time": 5.732564726,
             "remaining_time": 9548.541978,
             "test": [
              0.8470700071,
              0.9382428595
             ]
            },
            {
             "iteration": 6,
             "learn": [
              0.8442980473,
              0.878798556
             ],
             "passed_time": 6.648014417,
             "remaining_time": 9490.515438,
             "test": [
              0.850894879,
              0.8719430649
             ]
            },
            {
             "iteration": 7,
             "learn": [
              0.8443412469,
              0.8288467267
             ],
             "passed_time": 7.582771717,
             "remaining_time": 9470.881875,
             "test": [
              0.8498380116,
              0.8220474926
             ]
            },
            {
             "iteration": 8,
             "learn": [
              0.8459392611,
              0.7784698801
             ],
             "passed_time": 8.49666905,
             "remaining_time": 9432.24672,
             "test": [
              0.851444068,
              0.7723382043
             ]
            },
            {
             "iteration": 9,
             "learn": [
              0.8465945408,
              0.733317766
             ],
             "passed_time": 9.686973888,
             "remaining_time": 9677.286914,
             "test": [
              0.8519936034,
              0.7271455251
             ]
            },
            {
             "iteration": 10,
             "learn": [
              0.8511578246,
              0.6923057491
             ],
             "passed_time": 10.70557472,
             "remaining_time": 9721.635084,
             "test": [
              0.8544678789,
              0.686487155
             ]
            },
            {
             "iteration": 11,
             "learn": [
              0.8507315717,
              0.6644804576
             ],
             "passed_time": 11.18115605,
             "remaining_time": 9306.448886,
             "test": [
              0.8541173555,
              0.6583229403
             ]
            },
            {
             "iteration": 12,
             "learn": [
              0.8541011921,
              0.6325729598
             ],
             "passed_time": 12.11963144,
             "remaining_time": 9310.673787,
             "test": [
              0.8566753562,
              0.6264898484
             ]
            },
            {
             "iteration": 13,
             "learn": [
              0.8578138613,
              0.603884646
             ],
             "passed_time": 13.20377531,
             "remaining_time": 9418.064303,
             "test": [
              0.8614053681,
              0.597810064
             ]
            },
            {
             "iteration": 14,
             "learn": [
              0.8605693268,
              0.5776183783
             ],
             "passed_time": 14.15097256,
             "remaining_time": 9419.830734,
             "test": [
              0.8637772837,
              0.5716018652
             ]
            },
            {
             "iteration": 15,
             "learn": [
              0.8618085978,
              0.5548040401
             ],
             "passed_time": 15.1056577,
             "remaining_time": 9425.930405,
             "test": [
              0.8644434275,
              0.5493346347
             ]
            },
            {
             "iteration": 16,
             "learn": [
              0.8622901297,
              0.5351618091
             ],
             "passed_time": 15.93140568,
             "remaining_time": 9355.483702,
             "test": [
              0.8650051227,
              0.5301953213
             ]
            },
            {
             "iteration": 17,
             "learn": [
              0.8633118992,
              0.5141904348
             ],
             "passed_time": 16.91033247,
             "remaining_time": 9377.718816,
             "test": [
              0.8661216148,
              0.5093902509
             ]
            },
            {
             "iteration": 18,
             "learn": [
              0.8647365793,
              0.4924866128
             ],
             "passed_time": 17.80127613,
             "remaining_time": 9351.291424,
             "test": [
              0.867570087,
              0.48659388
             ]
            },
            {
             "iteration": 19,
             "learn": [
              0.8659292751,
              0.4748213604
             ],
             "passed_time": 18.61569143,
             "remaining_time": 9289.230024,
             "test": [
              0.870130775,
              0.4691690255
             ]
            },
            {
             "iteration": 20,
             "learn": [
              0.8690228487,
              0.4599871725
             ],
             "passed_time": 19.37490639,
             "remaining_time": 9206.770992,
             "test": [
              0.8724667765,
              0.4546078706
             ]
            },
            {
             "iteration": 21,
             "learn": [
              0.8714755683,
              0.4413211975
             ],
             "passed_time": 20.64109536,
             "remaining_time": 9361.674979,
             "test": [
              0.8731417889,
              0.4361859801
             ]
            },
            {
             "iteration": 22,
             "learn": [
              0.8720649099,
              0.4286796179
             ],
             "passed_time": 21.56029827,
             "remaining_time": 9352.482427,
             "test": [
              0.8738574974,
              0.424066812
             ]
            },
            {
             "iteration": 23,
             "learn": [
              0.8725281095,
              0.418298591
             ],
             "passed_time": 22.67574512,
             "remaining_time": 9425.55139,
             "test": [
              0.8735041652,
              0.4140193216
             ]
            },
            {
             "iteration": 24,
             "learn": [
              0.8743166059,
              0.4045701739
             ],
             "passed_time": 23.76565558,
             "remaining_time": 9482.496578,
             "test": [
              0.8736706349,
              0.4006252983
             ]
            },
            {
             "iteration": 25,
             "learn": [
              0.8749080551,
              0.3960552265
             ],
             "passed_time": 24.76549058,
             "remaining_time": 9500.423195,
             "test": [
              0.8743787328,
              0.3926337971
             ]
            },
            {
             "iteration": 26,
             "learn": [
              0.8757389727,
              0.3875436676
             ],
             "passed_time": 25.92735696,
             "remaining_time": 9576.797444,
             "test": [
              0.8751372734,
              0.3845347681
             ]
            },
            {
             "iteration": 27,
             "learn": [
              0.8766924465,
              0.3770014342
             ],
             "passed_time": 26.77819774,
             "remaining_time": 9536.863853,
             "test": [
              0.8766090041,
              0.3742802044
             ]
            },
            {
             "iteration": 28,
             "learn": [
              0.8782918236,
              0.3659379015
             ],
             "passed_time": 28.16251437,
             "remaining_time": 9683.049336,
             "test": [
              0.8789313503,
              0.3637355839
             ]
            },
            {
             "iteration": 29,
             "learn": [
              0.8803879479,
              0.3569626544
             ],
             "passed_time": 29.21223338,
             "remaining_time": 9708.198894,
             "test": [
              0.8805583961,
              0.3550662135
             ]
            },
            {
             "iteration": 30,
             "learn": [
              0.8830695431,
              0.3485368597
             ],
             "passed_time": 30.52002138,
             "remaining_time": 9814.648166,
             "test": [
              0.8827226682,
              0.3463905254
             ]
            },
            {
             "iteration": 31,
             "learn": [
              0.8850840761,
              0.3413313621
             ],
             "passed_time": 31.62724864,
             "remaining_time": 9851.88795,
             "test": [
              0.8852290838,
              0.3391004264
             ]
            },
            {
             "iteration": 32,
             "learn": [
              0.8864092114,
              0.3347396039
             ],
             "passed_time": 32.71956359,
             "remaining_time": 9882.299707,
             "test": [
              0.8868978855,
              0.3326495094
             ]
            },
            {
             "iteration": 33,
             "learn": [
              0.8882656547,
              0.3279212281
             ],
             "passed_time": 33.69525207,
             "remaining_time": 9876.673005,
             "test": [
              0.888515644,
              0.3262959347
             ]
            },
            {
             "iteration": 34,
             "learn": [
              0.8904142961,
              0.3212068665
             ],
             "passed_time": 34.85912718,
             "remaining_time": 9924.891495,
             "test": [
              0.8914699116,
              0.3193358825
             ]
            },
            {
             "iteration": 35,
             "learn": [
              0.8928587712,
              0.3159378409
             ],
             "passed_time": 36.08152336,
             "remaining_time": 9986.563855,
             "test": [
              0.8927083816,
              0.3150356412
             ]
            },
            {
             "iteration": 36,
             "learn": [
              0.893707752,
              0.3113836872
             ],
             "passed_time": 37.32400636,
             "remaining_time": 10050.24528,
             "test": [
              0.8941585339,
              0.3106540725
             ]
            },
            {
             "iteration": 37,
             "learn": [
              0.8946380772,
              0.3066282982
             ],
             "passed_time": 38.47952251,
             "remaining_time": 10087.71061,
             "test": [
              0.895043215,
              0.3064368698
             ]
            },
            {
             "iteration": 38,
             "learn": [
              0.8960627146,
              0.3033287687
             ],
             "passed_time": 39.72610202,
             "remaining_time": 10146.4539,
             "test": [
              0.8962993016,
              0.3034387862
             ]
            },
            {
             "iteration": 39,
             "learn": [
              0.8979840457,
              0.2993570166
             ],
             "passed_time": 41.0810768,
             "remaining_time": 10229.18812,
             "test": [
              0.8970393587,
              0.3000094693
             ]
            },
            {
             "iteration": 40,
             "learn": [
              0.8988689287,
              0.2954111884
             ],
             "passed_time": 42.44052758,
             "remaining_time": 10308.90766,
             "test": [
              0.8983042114,
              0.2960353523
             ]
            },
            {
             "iteration": 41,
             "learn": [
              0.899925364,
              0.291775763
             ],
             "passed_time": 43.39889663,
             "remaining_time": 10289.67173,
             "test": [
              0.898684668,
              0.292372107
             ]
            },
            {
             "iteration": 42,
             "learn": [
              0.9008629103,
              0.2889515928
             ],
             "passed_time": 44.56631046,
             "remaining_time": 10319.69194,
             "test": [
              0.8993919275,
              0.2897137606
             ]
            },
            {
             "iteration": 43,
             "learn": [
              0.9021378305,
              0.2866043292
             ],
             "passed_time": 45.78126996,
             "remaining_time": 10359.05281,
             "test": [
              0.9008358214,
              0.2879275624
             ]
            },
            {
             "iteration": 44,
             "learn": [
              0.9025097886,
              0.2858785353
             ],
             "passed_time": 47.09731405,
             "remaining_time": 10418.97248,
             "test": [
              0.9006780658,
              0.2875145071
             ]
            },
            {
             "iteration": 45,
             "learn": [
              0.9033578486,
              0.2824649095
             ],
             "passed_time": 48.21560073,
             "remaining_time": 10433.43673,
             "test": [
              0.9012244596,
              0.2848077731
             ]
            },
            {
             "iteration": 46,
             "learn": [
              0.9044400111,
              0.2799005101
             ],
             "passed_time": 49.33723746,
             "remaining_time": 10447.94733,
             "test": [
              0.9017842522,
              0.2831789618
             ]
            },
            {
             "iteration": 47,
             "learn": [
              0.9051818423,
              0.2769798935
             ],
             "passed_time": 50.51142091,
             "remaining_time": 10472.70127,
             "test": [
              0.9015841248,
              0.2802902525
             ]
            },
            {
             "iteration": 48,
             "learn": [
              0.9057838937,
              0.2754554609
             ],
             "passed_time": 51.50869701,
             "remaining_time": 10460.47028,
             "test": [
              0.9022543964,
              0.2790419059
             ]
            },
            {
             "iteration": 49,
             "learn": [
              0.9059038114,
              0.2735493298
             ],
             "passed_time": 52.69876492,
             "remaining_time": 10487.05422,
             "test": [
              0.9026010271,
              0.2778681329
             ]
            },
            {
             "iteration": 50,
             "learn": [
              0.9066955581,
              0.2719274601
             ],
             "passed_time": 54.14363638,
             "remaining_time": 10562.25565,
             "test": [
              0.903001973,
              0.2770757326
             ]
            },
            {
             "iteration": 51,
             "learn": [
              0.9066077599,
              0.2714902809
             ],
             "passed_time": 54.28701452,
             "remaining_time": 10385.52347,
             "test": [
              0.9028212684,
              0.27660959
             ]
            },
            {
             "iteration": 52,
             "learn": [
              0.90803403,
              0.2695054631
             ],
             "passed_time": 55.62730258,
             "remaining_time": 10440.09016,
             "test": [
              0.9028387904,
              0.2752960558
             ]
            },
            {
             "iteration": 53,
             "learn": [
              0.9085812376,
              0.2666875975
             ],
             "passed_time": 56.88213321,
             "remaining_time": 10476.84624,
             "test": [
              0.9035517383,
              0.2733906015
             ]
            },
            {
             "iteration": 54,
             "learn": [
              0.9089934168,
              0.2651900137
             ],
             "passed_time": 58.12454546,
             "remaining_time": 10509.97463,
             "test": [
              0.9037192576,
              0.2722928533
             ]
            },
            {
             "iteration": 55,
             "learn": [
              0.9097155619,
              0.2631224483
             ],
             "passed_time": 59.301493,
             "remaining_time": 10530.25083,
             "test": [
              0.9046298447,
              0.2700876483
             ]
            },
            {
             "iteration": 56,
             "learn": [
              0.9106032645,
              0.2614165813
             ],
             "passed_time": 60.46581052,
             "remaining_time": 10547.57112,
             "test": [
              0.9040032595,
              0.2690815184
             ]
            },
            {
             "iteration": 57,
             "learn": [
              0.9110125322,
              0.2599069458
             ],
             "passed_time": 61.70353693,
             "remaining_time": 10576.83731,
             "test": [
              0.9043626206,
              0.2683894418
             ]
            },
            {
             "iteration": 58,
             "learn": [
              0.9115726075,
              0.2577155693
             ],
             "passed_time": 62.88753858,
             "remaining_time": 10596.01731,
             "test": [
              0.9034476798,
              0.2665161074
             ]
            },
            {
             "iteration": 59,
             "learn": [
              0.9122693102,
              0.2562111645
             ],
             "passed_time": 64.24187691,
             "remaining_time": 10642.73761,
             "test": [
              0.9048046796,
              0.2656829971
             ]
            },
            {
             "iteration": 60,
             "learn": [
              0.9123143865,
              0.2559164508
             ],
             "passed_time": 64.46286218,
             "remaining_time": 10503.21946,
             "test": [
              0.9049828726,
              0.2654286987
             ]
            },
            {
             "iteration": 61,
             "learn": [
              0.9130503202,
              0.2543568621
             ],
             "passed_time": 65.62170622,
             "remaining_time": 10518.52446,
             "test": [
              0.9052445839,
              0.2643900353
             ]
            },
            {
             "iteration": 62,
             "learn": [
              0.9132660029,
              0.2530475266
             ],
             "passed_time": 66.8029084,
             "remaining_time": 10536.83335,
             "test": [
              0.9056775857,
              0.2640167894
             ]
            },
            {
             "iteration": 63,
             "learn": [
              0.914003589,
              0.2522438534
             ],
             "passed_time": 68.30992225,
             "remaining_time": 10605.11543,
             "test": [
              0.9065106209,
              0.2632872139
             ]
            },
            {
             "iteration": 64,
             "learn": [
              0.9144724897,
              0.2515197064
             ],
             "passed_time": 69.66972143,
             "remaining_time": 10648.74896,
             "test": [
              0.9065086764,
              0.2630212123
             ]
            },
            {
             "iteration": 65,
             "learn": [
              0.9147978824,
              0.2499904138
             ],
             "passed_time": 70.82826938,
             "remaining_time": 10660.7277,
             "test": [
              0.906460819,
              0.2623352602
             ]
            },
            {
             "iteration": 66,
             "learn": [
              0.9151610771,
              0.2484503272
             ],
             "passed_time": 72.07977511,
             "remaining_time": 10686.09561,
             "test": [
              0.906832564,
              0.2611765729
             ]
            },
            {
             "iteration": 67,
             "learn": [
              0.9155666567,
              0.2468220159
             ],
             "passed_time": 73.79816145,
             "remaining_time": 10778.87264,
             "test": [
              0.9075438493,
              0.2598766108
             ]
            },
            {
             "iteration": 68,
             "learn": [
              0.9161391879,
              0.2459600387
             ],
             "passed_time": 75.28368399,
             "remaining_time": 10835.39515,
             "test": [
              0.9078081511,
              0.2594470403
             ]
            },
            {
             "iteration": 69,
             "learn": [
              0.916467383,
              0.2438699333
             ],
             "passed_time": 76.52696193,
             "remaining_time": 10855.89617,
             "test": [
              0.9058832303,
              0.2586545644
             ]
            },
            {
             "iteration": 70,
             "learn": [
              0.9169902528,
              0.2419254212
             ],
             "passed_time": 77.74746999,
             "remaining_time": 10872.60042,
             "test": [
              0.9065367096,
              0.2573449752
             ]
            },
            {
             "iteration": 71,
             "learn": [
              0.917489117,
              0.2410803959
             ],
             "passed_time": 78.85946932,
             "remaining_time": 10873.8446,
             "test": [
              0.9069016409,
              0.2569866608
             ]
            },
            {
             "iteration": 72,
             "learn": [
              0.9181133081,
              0.239154932
             ],
             "passed_time": 80.25399509,
             "remaining_time": 10913.44396,
             "test": [
              0.9067126892,
              0.2556949887
             ]
            },
            {
             "iteration": 73,
             "learn": [
              0.9186852656,
              0.2382222066
             ],
             "passed_time": 81.56601389,
             "remaining_time": 10940.8683,
             "test": [
              0.9067126892,
              0.2554498408
             ]
            },
            {
             "iteration": 74,
             "learn": [
              0.918784963,
              0.2374322716
             ],
             "passed_time": 82.81981508,
             "remaining_time": 10959.8222,
             "test": [
              0.9063621092,
              0.2550987601
             ]
            },
            {
             "iteration": 75,
             "learn": [
              0.9194723461,
              0.2354354905
             ],
             "passed_time": 83.7826295,
             "remaining_time": 10940.24757,
             "test": [
              0.9065552229,
              0.2536522903
             ]
            },
            {
             "iteration": 76,
             "learn": [
              0.9196975484,
              0.2348150493
             ],
             "passed_time": 84.88037165,
             "remaining_time": 10938.54452,
             "test": [
              0.9065552229,
              0.2533240658
             ]
            },
            {
             "iteration": 77,
             "learn": [
              0.9199323692,
              0.2339273297
             ],
             "passed_time": 86.28791358,
             "remaining_time": 10976.26511,
             "test": [
              0.9071024925,
              0.252496744
             ]
            },
            {
             "iteration": 78,
             "learn": [
              0.9205826702,
              0.2330512379
             ],
             "passed_time": 87.61201388,
             "remaining_time": 11002.51633,
             "test": [
              0.9072790837,
              0.2524727239
             ]
            },
            {
             "iteration": 79,
             "learn": [
              0.920768619,
              0.2319852544
             ],
             "passed_time": 88.88596885,
             "remaining_time": 11021.86014,
             "test": [
              0.9069345654,
              0.2523480832
             ]
            },
            {
             "iteration": 80,
             "learn": [
              0.9213565375,
              0.2308902102
             ],
             "passed_time": 90.0606465,
             "remaining_time": 11028.53769,
             "test": [
              0.9074814347,
              0.2517378808
             ]
            },
            {
             "iteration": 81,
             "learn": [
              0.9217574349,
              0.2302818497
             ],
             "passed_time": 91.45956029,
             "remaining_time": 11062.14535,
             "test": [
              0.9080211452,
              0.2516065064
             ]
            },
            {
             "iteration": 82,
             "learn": [
              0.9221405042,
              0.2288719276
             ],
             "passed_time": 92.27891832,
             "remaining_time": 11025.66305,
             "test": [
              0.9084029335,
              0.250363825
             ]
            },
            {
             "iteration": 83,
             "learn": [
              0.9227700287,
              0.2275607089
             ],
             "passed_time": 93.4076006,
             "remaining_time": 11026.54485,
             "test": [
              0.9082443867,
              0.2498682046
             ]
            },
            {
             "iteration": 84,
             "learn": [
              0.9233281461,
              0.2268110679
             ],
             "passed_time": 94.74844178,
             "remaining_time": 11052.12706,
             "test": [
              0.9086153141,
              0.2495832054
             ]
            },
            {
             "iteration": 85,
             "learn": [
              0.9236913604,
              0.2261345063
             ],
             "passed_time": 96.23917862,
             "remaining_time": 11094.36299,
             "test": [
              0.9084215414,
              0.2492622142
             ]
            },
            {
             "iteration": 86,
             "learn": [
              0.9242443578,
              0.225226199
             ],
             "passed_time": 97.50943592,
             "remaining_time": 11110.4717,
             "test": [
              0.9084005494,
              0.2489506486
             ]
            },
            {
             "iteration": 87,
             "learn": [
              0.9247399735,
              0.2241332604
             ],
             "passed_time": 98.49963539,
             "remaining_time": 11094.64075,
             "test": [
              0.9082124843,
              0.2482763568
             ]
            },
            {
             "iteration": 88,
             "learn": [
              0.9249183975,
              0.2232466009
             ],
             "passed_time": 99.92660767,
             "remaining_time": 11127.78212,
             "test": [
              0.9084033783,
              0.2479824052
             ]
            },
            {
             "iteration": 89,
             "learn": [
              0.9257179519,
              0.2221912537
             ],
             "passed_time": 101.144583,
             "remaining_time": 11137.14242,
             "test": [
              0.9087659353,
              0.2478226224
             ]
            },
            {
             "iteration": 90,
             "learn": [
              0.9259688901,
              0.2214803321
             ],
             "passed_time": 102.4829473,
             "remaining_time": 11159.37939,
             "test": [
              0.9085784217,
              0.2477123574
             ]
            },
            {
             "iteration": 91,
             "learn": [
              0.9259235364,
              0.2214636418
             ],
             "passed_time": 102.6176844,
             "remaining_time": 11051.47844,
             "test": [
              0.9085784217,
              0.2477319998
             ]
            },
            {
             "iteration": 92,
             "learn": [
              0.92624495,
              0.2207704176
             ],
             "passed_time": 104.059761,
             "remaining_time": 11085.16186,
             "test": [
              0.9085784217,
              0.2475388408
             ]
            },
            {
             "iteration": 93,
             "learn": [
              0.9267086875,
              0.2197657697
             ],
             "passed_time": 105.6967525,
             "remaining_time": 11138.63862,
             "test": [
              0.9091549264,
              0.2469773853
             ]
            },
            {
             "iteration": 94,
             "learn": [
              0.9268088838,
              0.218806583
             ],
             "passed_time": 106.9397318,
             "remaining_time": 11149.87415,
             "test": [
              0.9091131759,
              0.2461456219
             ]
            },
            {
             "iteration": 95,
             "learn": [
              0.9269278762,
              0.2177835137
             ],
             "passed_time": 108.0551892,
             "remaining_time": 11147.69368,
             "test": [
              0.9098932926,
              0.245326877
             ]
            },
            {
             "iteration": 96,
             "learn": [
              0.9270423337,
              0.216807126
             ],
             "passed_time": 109.1635935,
             "remaining_time": 11144.81512,
             "test": [
              0.9102633178,
              0.2445047489
             ]
            },
            {
             "iteration": 97,
             "learn": [
              0.9272277865,
              0.2161959941
             ],
             "passed_time": 110.2438911,
             "remaining_time": 11139.13275,
             "test": [
              0.9104539393,
              0.2440978188
             ]
            },
            {
             "iteration": 98,
             "learn": [
              0.9275451766,
              0.2154110876
             ],
             "passed_time": 111.5766169,
             "remaining_time": 11158.78873,
             "test": [
              0.9102633178,
              0.2439110232
             ]
            },
            {
             "iteration": 99,
             "learn": [
              0.9278667661,
              0.2146221111
             ],
             "passed_time": 112.927408,
             "remaining_time": 11179.81339,
             "test": [
              0.9098649891,
              0.2436123383
             ]
            },
            {
             "iteration": 100,
             "learn": [
              0.9277734812,
              0.2139727982
             ],
             "passed_time": 114.2440577,
             "remaining_time": 11197.04878,
             "test": [
              0.9098170167,
              0.2433163483
             ]
            },
            {
             "iteration": 101,
             "learn": [
              0.9281002197,
              0.2131379119
             ],
             "passed_time": 115.1315827,
             "remaining_time": 11172.27848,
             "test": [
              0.9096379531,
              0.2424652291
             ]
            },
            {
             "iteration": 102,
             "learn": [
              0.9285167659,
              0.211822167
             ],
             "passed_time": 116.1602509,
             "remaining_time": 11161.53401,
             "test": [
              0.9104200681,
              0.2422101388
             ]
            },
            {
             "iteration": 103,
             "learn": [
              0.9285158995,
              0.2113721853
             ],
             "passed_time": 117.5309643,
             "remaining_time": 11183.52329,
             "test": [
              0.9106105246,
              0.2421411105
             ]
            },
            {
             "iteration": 104,
             "learn": [
              0.9287416045,
              0.2105789705
             ],
             "passed_time": 118.7330486,
             "remaining_time": 11189.17634,
             "test": [
              0.9106105246,
              0.2415656599
             ]
            },
            {
             "iteration": 105,
             "learn": [
              0.9292406575,
              0.2098157465
             ],
             "passed_time": 120.1352648,
             "remaining_time": 11213.38028,
             "test": [
              0.9106032618,
              0.2416528097
             ]
            },
            {
             "iteration": 106,
             "learn": [
              0.9294681636,
              0.2087297337
             ],
             "passed_time": 121.4310756,
             "remaining_time": 11227.26758,
             "test": [
              0.9109600681,
              0.2407388361
             ]
            },
            {
             "iteration": 107,
             "learn": [
              0.9298751412,
              0.2078875703
             ],
             "passed_time": 122.8574403,
             "remaining_time": 11252.83148,
             "test": [
              0.9105545703,
              0.2403575034
             ]
            },
            {
             "iteration": 108,
             "learn": [
              0.9302376549,
              0.2074704485
             ],
             "passed_time": 124.2642893,
             "remaining_time": 11276.12922,
             "test": [
              0.9107344953,
              0.2403605505
             ]
            },
            {
             "iteration": 109,
             "learn": [
              0.9308265138,
              0.2067117468
             ],
             "passed_time": 125.5826439,
             "remaining_time": 11291.02135,
             "test": [
              0.9103655007,
              0.2401521169
             ]
            },
            {
             "iteration": 110,
             "learn": [
              0.9311500774,
              0.2055622539
             ],
             "passed_time": 126.3544505,
             "remaining_time": 11256.92938,
             "test": [
              0.9100021033,
              0.2390350611
             ]
            },
            {
             "iteration": 111,
             "learn": [
              0.9313344898,
              0.2048432685
             ],
             "passed_time": 127.7404001,
             "remaining_time": 11277.65247,
             "test": [
              0.9103638926,
              0.2386850052
             ]
            },
            {
             "iteration": 112,
             "learn": [
              0.9317033083,
              0.203690073
             ],
             "passed_time": 128.9346799,
             "remaining_time": 11281.21399,
             "test": [
              0.9107479701,
              0.2381160325
             ]
            },
            {
             "iteration": 113,
             "learn": [
              0.9317485728,
              0.2032144471
             ],
             "passed_time": 129.9650751,
             "remaining_time": 11270.48011,
             "test": [
              0.9105584298,
              0.2379014007
             ]
            },
            {
             "iteration": 114,
             "learn": [
              0.9323120719,
              0.2025024436
             ],
             "passed_time": 131.2538419,
             "remaining_time": 11282.12371,
             "test": [
              0.9111253773,
              0.2375223073
             ]
            },
            {
             "iteration": 115,
             "learn": [
              0.9326342658,
              0.2016824278
             ],
             "passed_time": 132.0543063,
             "remaining_time": 11251.93761,
             "test": [
              0.9107669286,
              0.2367930602
             ]
            },
            {
             "iteration": 116,
             "learn": [
              0.9323414296,
              0.2006170709
             ],
             "passed_time": 132.9097055,
             "remaining_time": 11226.89418,
             "test": [
              0.9103798292,
              0.2360809547
             ]
            },
            {
             "iteration": 117,
             "learn": [
              0.9329078508,
              0.200050085
             ],
             "passed_time": 134.3196371,
             "remaining_time": 11248.70046,
             "test": [
              0.9103784117,
              0.2359883281
             ]
            },
            {
             "iteration": 118,
             "learn": [
              0.933271366,
              0.1993287061
             ],
             "passed_time": 135.306376,
             "remaining_time": 11234.97732,
             "test": [
              0.9109179534,
              0.2355029934
             ]
            },
            {
             "iteration": 119,
             "learn": [
              0.9341384296,
              0.1976870814
             ],
             "passed_time": 136.5899094,
             "remaining_time": 11245.90254,
             "test": [
              0.9113360092,
              0.2344270102
             ]
            },
            {
             "iteration": 120,
             "learn": [
              0.9343967922,
              0.1967136417
             ],
             "passed_time": 138.0011441,
             "remaining_time": 11267.05208,
             "test": [
              0.9109198735,
              0.2338112566
             ]
            },
            {
             "iteration": 121,
             "learn": [
              0.9349415214,
              0.1956635529
             ],
             "passed_time": 138.9517595,
             "remaining_time": 11250.53673,
             "test": [
              0.9109304662,
              0.2332026236
             ]
            },
            {
             "iteration": 122,
             "learn": [
              0.9346855626,
              0.1945950246
             ],
             "passed_time": 140.174463,
             "remaining_time": 11256.12334,
             "test": [
              0.9112922463,
              0.2322626322
             ]
            },
            {
             "iteration": 123,
             "learn": [
              0.935462519,
              0.1938693959
             ],
             "passed_time": 141.4473851,
             "remaining_time": 11265.5998,
             "test": [
              0.9112940452,
              0.2320302781
             ]
            },
            {
             "iteration": 124,
             "learn": [
              0.9353719959,
              0.1927919336
             ],
             "passed_time": 142.6730393,
             "remaining_time": 11271.1701,
             "test": [
              0.9107529506,
              0.2317201213
             ]
            },
            {
             "iteration": 125,
             "learn": [
              0.9354618505,
              0.1916908119
             ],
             "passed_time": 143.4572047,
             "remaining_time": 11242.03524,
             "test": [
              0.9111222907,
              0.2308171712
             ]
            },
            {
             "iteration": 126,
             "learn": [
              0.9360816648,
              0.1908029658
             ],
             "passed_time": 144.6461589,
             "remaining_time": 11244.81517,
             "test": [
              0.9117886643,
              0.2305487762
             ]
            },
            {
             "iteration": 127,
             "learn": [
              0.9362520407,
              0.1902746554
             ],
             "passed_time": 145.9108358,
             "remaining_time": 11253.37321,
             "test": [
              0.9117886643,
              0.2302951787
             ]
            },
            {
             "iteration": 128,
             "learn": [
              0.9366661367,
              0.1893484582
             ],
             "passed_time": 147.182165,
             "remaining_time": 11262.28799,
             "test": [
              0.9113920793,
              0.2298324677
             ]
            },
            {
             "iteration": 129,
             "learn": [
              0.9368983806,
              0.1885717558
             ],
             "passed_time": 148.2039882,
             "remaining_time": 11252.1028,
             "test": [
              0.911064526,
              0.2292029617
             ]
            },
            {
             "iteration": 130,
             "learn": [
              0.9369847615,
              0.1878018418
             ],
             "passed_time": 148.9964099,
             "remaining_time": 11224.77534,
             "test": [
              0.9116156757,
              0.228693539
             ]
            },
            {
             "iteration": 131,
             "learn": [
              0.9372608172,
              0.1862578399
             ],
             "passed_time": 150.2296909,
             "remaining_time": 11230.8075,
             "test": [
              0.9125175646,
              0.227314734
             ]
            },
            {
             "iteration": 132,
             "learn": [
              0.9373503326,
              0.1855255982
             ],
             "passed_time": 151.0330162,
             "remaining_time": 11204.83287,
             "test": [
              0.9123186928,
              0.2269340697
             ]
            },
            {
             "iteration": 133,
             "learn": [
              0.9375775517,
              0.184609944
             ],
             "passed_time": 151.802678,
             "remaining_time": 11176.75538,
             "test": [
              0.9125200623,
              0.2260833962
             ]
            },
            {
             "iteration": 134,
             "learn": [
              0.9374407711,
              0.1842991377
             ],
             "passed_time": 153.0853995,
             "remaining_time": 11186.57382,
             "test": [
              0.9126992913,
              0.2260439912
             ]
            },
            {
             "iteration": 135,
             "learn": [
              0.9376236868,
              0.183883422
             ],
             "passed_time": 154.2177083,
             "remaining_time": 11185.31967,
             "test": [
              0.9126959043,
              0.2258296994
             ]
            },
            {
             "iteration": 136,
             "learn": [
              0.9378482222,
              0.1833226758
             ],
             "passed_time": 155.6514045,
             "remaining_time": 11205.76498,
             "test": [
              0.9130611933,
              0.2256520216
             ]
            },
            {
             "iteration": 137,
             "learn": [
              0.9381205703,
              0.1826312994
             ],
             "passed_time": 156.8896627,
             "remaining_time": 11211.92648,
             "test": [
              0.9128707393,
              0.2252995948
             ]
            },
            {
             "iteration": 138,
             "learn": [
              0.9382238966,
              0.1819236818
             ],
             "passed_time": 158.0610473,
             "remaining_time": 11213.23732,
             "test": [
              0.9128785458,
              0.2248865926
             ]
            },
            {
             "iteration": 139,
             "learn": [
              0.9384042311,
              0.1815879877
             ],
             "passed_time": 159.4865815,
             "remaining_time": 11232.4121,
             "test": [
              0.9130595201,
              0.2246873811
             ]
            },
            {
             "iteration": 140,
             "learn": [
              0.9384091407,
              0.1811198744
             ],
             "passed_time": 160.8731507,
             "remaining_time": 11248.57016,
             "test": [
              0.9130686305,
              0.2246274706
             ]
            },
            {
             "iteration": 141,
             "learn": [
              0.9389100294,
              0.1805501232
             ],
             "passed_time": 162.2844804,
             "remaining_time": 11266.20006,
             "test": [
              0.9126990053,
              0.2245521574
             ]
            },
            {
             "iteration": 142,
             "learn": [
              0.9393788174,
              0.17942091
             ],
             "passed_time": 163.1953636,
             "remaining_time": 11249.06783,
             "test": [
              0.913791028,
              0.224169114
             ]
            },
            {
             "iteration": 143,
             "learn": [
              0.9395584857,
              0.178930408
             ],
             "passed_time": 164.5177085,
             "remaining_time": 11260.32316,
             "test": [
              0.9139737632,
              0.2241015645
             ]
            },
            {
             "iteration": 144,
             "learn": [
              0.9400638394,
              0.1778861219
             ],
             "passed_time": 165.9321238,
             "remaining_time": 11277.66262,
             "test": [
              0.9143343525,
              0.223736524
             ]
            },
            {
             "iteration": 145,
             "learn": [
              0.9402008415,
              0.1773847849
             ],
             "passed_time": 167.4341845,
             "remaining_time": 11300.66064,
             "test": [
              0.9139752046,
              0.2235339535
             ]
            },
            {
             "iteration": 146,
             "learn": [
              0.9404914582,
              0.1768438394
             ],
             "passed_time": 169.1579135,
             "remaining_time": 11338.18314,
             "test": [
              0.9137867925,
              0.2233257121
             ]
            },
            {
             "iteration": 147,
             "learn": [
              0.9405738698,
              0.1762047192
             ],
             "passed_time": 170.1294897,
             "remaining_time": 11325.1063,
             "test": [
              0.914325477,
              0.2231197056
             ]
            },
            {
             "iteration": 148,
             "learn": [
              0.9404341709,
              0.1747156538
             ],
             "passed_time": 171.2259968,
             "remaining_time": 11320.45164,
             "test": [
              0.9141606084,
              0.2220638313
             ]
            },
            {
             "iteration": 149,
             "learn": [
              0.940937453,
              0.1743684979
             ],
             "passed_time": 172.4724138,
             "remaining_time": 11325.68851,
             "test": [
              0.9147114859,
              0.2219129606
             ]
            },
            {
             "iteration": 150,
             "learn": [
              0.9409834839,
              0.1738954261
             ],
             "passed_time": 173.8871423,
             "remaining_time": 11341.81764,
             "test": [
              0.9147101403,
              0.2214043797
             ]
            },
            {
             "iteration": 151,
             "learn": [
              0.9413022536,
              0.1731512769
             ],
             "passed_time": 175.1666788,
             "remaining_time": 11348.95692,
             "test": [
              0.9146899546,
              0.2213185204
             ]
            },
            {
             "iteration": 152,
             "learn": [
              0.9415741821,
              0.1727013066
             ],
             "passed_time": 176.300369,
             "remaining_time": 11346.59957,
             "test": [
              0.9139713485,
              0.2211236324
             ]
            },
            {
             "iteration": 153,
             "learn": [
              0.9417277247,
              0.1723389943
             ],
             "passed_time": 177.3887124,
             "remaining_time": 11341.35885,
             "test": [
              0.9143509514,
              0.2209419603
             ]
            },
            {
             "iteration": 154,
             "learn": [
              0.9417196004,
              0.171974563
             ],
             "passed_time": 178.7065117,
             "remaining_time": 11350.74586,
             "test": [
              0.9145230638,
              0.2208285636
             ]
            },
            {
             "iteration": 155,
             "learn": [
              0.9420003513,
              0.1717018072
             ],
             "passed_time": 180.1164052,
             "remaining_time": 11365.80701,
             "test": [
              0.9145230638,
              0.2206758607
             ]
            },
            {
             "iteration": 156,
             "learn": [
              0.942318254,
              0.1709914237
             ],
             "passed_time": 180.9149674,
             "remaining_time": 11342.33136,
             "test": [
              0.9145230638,
              0.2200579593
             ]
            },
            {
             "iteration": 157,
             "learn": [
              0.9422284413,
              0.1703657214
             ],
             "passed_time": 182.3600152,
             "remaining_time": 11359.4131,
             "test": [
              0.9141640168,
              0.2200128352
             ]
            },
            {
             "iteration": 158,
             "learn": [
              0.9428266434,
              0.1693383365
             ],
             "passed_time": 183.7345382,
             "remaining_time": 11371.8968,
             "test": [
              0.9143419408,
              0.219662908
             ]
            },
            {
             "iteration": 159,
             "learn": [
              0.9426905224,
              0.1690227046
             ],
             "passed_time": 185.1709113,
             "remaining_time": 11388.01105,
             "test": [
              0.9145230638,
              0.219597404
             ]
            },
            {
             "iteration": 160,
             "learn": [
              0.9431921546,
              0.1680930333
             ],
             "passed_time": 186.3381227,
             "remaining_time": 11387.45832,
             "test": [
              0.9134429214,
              0.2196534012
             ]
            },
            {
             "iteration": 161,
             "learn": [
              0.9435652126,
              0.1675550121
             ],
             "passed_time": 187.5869876,
             "remaining_time": 11391.85669,
             "test": [
              0.9139871232,
              0.2196347732
             ]
            },
            {
             "iteration": 162,
             "learn": [
              0.9436561551,
              0.1670766323
             ],
             "passed_time": 188.7345735,
             "remaining_time": 11390.07362,
             "test": [
              0.9136269111,
              0.2193491329
             ]
            },
            {
             "iteration": 163,
             "learn": [
              0.9437024582,
              0.1665909536
             ],
             "passed_time": 190.1164013,
             "remaining_time": 11402.34709,
             "test": [
              0.9136269111,
              0.2192224773
             ]
            },
            {
             "iteration": 164,
             "learn": [
              0.9439285575,
              0.1658082423
             ],
             "passed_time": 191.0913363,
             "remaining_time": 11390.20177,
             "test": [
              0.9127268017,
              0.2188147819
             ]
            },
            {
             "iteration": 165,
             "learn": [
              0.9443389902,
              0.1650935804
             ],
             "passed_time": 192.3761141,
             "remaining_time": 11396.54642,
             "test": [
              0.9141661648,
              0.2185305358
             ]
            },
            {
             "iteration": 166,
             "learn": [
              0.9445205619,
              0.1645444021
             ],
             "passed_time": 193.5999611,
             "remaining_time": 11399.21208,
             "test": [
              0.9139893221,
              0.2183925
             ]
            },
            {
             "iteration": 167,
             "learn": [
              0.9447022755,
              0.1635148399
             ],
             "passed_time": 194.5831737,
             "remaining_time": 11387.74859,
             "test": [
              0.913444334,
              0.2173262746
             ]
            },
            {
             "iteration": 168,
             "learn": [
              0.9447929679,
              0.1631568125
             ],
             "passed_time": 195.621628,
             "remaining_time": 11379.62263,
             "test": [
              0.9136256996,
              0.2173372087
             ]
            },
            {
             "iteration": 169,
             "learn": [
              0.9452455197,
              0.1626685233
             ],
             "passed_time": 196.7820743,
             "remaining_time": 11378.63406,
             "test": [
              0.91326671,
              0.2172186503
             ]
            },
            {
             "iteration": 170,
             "learn": [
              0.9453366109,
              0.1619934012
             ],
             "passed_time": 197.8175202,
             "remaining_time": 11370.45852,
             "test": [
              0.9136388366,
              0.2168613853
             ]
            },
            {
             "iteration": 171,
             "learn": [
              0.9457002097,
              0.1615982663
             ],
             "passed_time": 198.9137362,
             "remaining_time": 11365.83837,
             "test": [
              0.9130995254,
              0.2168177683
             ]
            },
            {
             "iteration": 172,
             "learn": [
              0.9460639357,
              0.1610577005
             ],
             "passed_time": 200.2038533,
             "remaining_time": 11372.27322,
             "test": [
              0.9134615154,
              0.2166556412
             ]
            },
            {
             "iteration": 173,
             "learn": [
              0.9460190447,
              0.1606883291
             ],
             "passed_time": 201.559085,
             "remaining_time": 11382.29637,
             "test": [
              0.9134638358,
              0.2164013467
             ]
            },
            {
             "iteration": 174,
             "learn": [
              0.946200325,
              0.1605417809
             ],
             "passed_time": 202.8321929,
             "remaining_time": 11387.57883,
             "test": [
              0.9134638358,
              0.2163837757
             ]
            },
            {
             "iteration": 175,
             "learn": [
              0.9464274908,
              0.1601637814
             ],
             "passed_time": 204.1785591,
             "remaining_time": 11396.87594,
             "test": [
              0.9134595472,
              0.2162465427
             ]
            },
            {
             "iteration": 176,
             "learn": [
              0.9464283484,
              0.1595874597
             ],
             "passed_time": 204.9309126,
             "remaining_time": 11373.08675,
             "test": [
              0.9140021101,
              0.2156968615
             ]
            },
            {
             "iteration": 177,
             "learn": [
              0.9466553297,
              0.1594915126
             ],
             "passed_time": 206.1673916,
             "remaining_time": 11376.27034,
             "test": [
              0.91382073,
              0.2157847872
             ]
            },
            {
             "iteration": 178,
             "learn": [
              0.9467522637,
              0.1590651419
             ],
             "passed_time": 207.4302981,
             "remaining_time": 11380.85451,
             "test": [
              0.9136087468,
              0.2156495048
             ]
            },
            {
             "iteration": 179,
             "learn": [
              0.9470694834,
              0.1587762739
             ],
             "passed_time": 208.5909298,
             "remaining_time": 11379.79406,
             "test": [
              0.9138191746,
              0.2154862224
             ]
            },
            {
             "iteration": 180,
             "learn": [
              0.9471600745,
              0.1587173842
             ],
             "passed_time": 209.8590294,
             "remaining_time": 11384.56249,
             "test": [
              0.9138191746,
              0.2154609954
             ]
            },
            {
             "iteration": 181,
             "learn": [
              0.947074128,
              0.1585463792
             ],
             "passed_time": 211.2526159,
             "remaining_time": 11396.03397,
             "test": [
              0.914179689,
              0.2155044644
             ]
            },
            {
             "iteration": 182,
             "learn": [
              0.947251054,
              0.1582058749
             ],
             "passed_time": 212.5404531,
             "remaining_time": 11401.69196,
             "test": [
              0.9139998415,
              0.215456496
             ]
            },
            {
             "iteration": 183,
             "learn": [
              0.9473010196,
              0.1576005105
             ],
             "passed_time": 213.3470679,
             "remaining_time": 11381.60227,
             "test": [
              0.9138202287,
              0.2150688011
             ]
            },
            {
             "iteration": 184,
             "learn": [
              0.9472109019,
              0.1573817047
             ],
             "passed_time": 214.4965273,
             "remaining_time": 11379.91035,
             "test": [
              0.9138202287,
              0.214982857
             ]
            },
            {
             "iteration": 185,
             "learn": [
              0.9476188603,
              0.1567027672
             ],
             "passed_time": 215.6676052,
             "remaining_time": 11379.36494,
             "test": [
              0.9136396599,
              0.214780151
             ]
            },
            {
             "iteration": 186,
             "learn": [
              0.9479834895,
              0.1563479658
             ],
             "passed_time": 216.6013005,
             "remaining_time": 11366.35595,
             "test": [
              0.9136061346,
              0.2145826353
             ]
            },
            {
             "iteration": 187,
             "learn": [
              0.9480743431,
              0.1562478651
             ],
             "passed_time": 218.035059,
             "remaining_time": 11379.57446,
             "test": [
              0.9134265339,
              0.2145377151
             ]
            },
            {
             "iteration": 188,
             "learn": [
              0.9482561284,
              0.1558842714
             ],
             "passed_time": 219.1115172,
             "remaining_time": 11374.09045,
             "test": [
              0.9132452319,
              0.2144682775
             ]
            },
            {
             "iteration": 189,
             "learn": [
              0.9480759053,
              0.155583914
             ],
             "passed_time": 220.4802764,
             "remaining_time": 11383.7448,
             "test": [
              0.9136049756,
              0.2144794814
             ]
            },
            {
             "iteration": 190,
             "learn": [
              0.9482576917,
              0.1552507118
             ],
             "passed_time": 221.6417158,
             "remaining_time": 11382.6366,
             "test": [
              0.9135946081,
              0.214378712
             ]
            },
            {
             "iteration": 191,
             "learn": [
              0.9483935243,
              0.1549277616
             ],
             "passed_time": 222.8726271,
             "remaining_time": 11385.0767,
             "test": [
              0.9137844251,
              0.2143590454
             ]
            },
            {
             "iteration": 192,
             "learn": [
              0.9485306151,
              0.154687861
             ],
             "passed_time": 224.0617019,
             "remaining_time": 11385.35291,
             "test": [
              0.9140239922,
              0.2143266597
             ]
            },
            {
             "iteration": 193,
             "learn": [
              0.9483025912,
              0.1541268323
             ],
             "passed_time": 225.2705496,
             "remaining_time": 11386.61345,
             "test": [
              0.9140205493,
              0.2141339104
             ]
            },
            {
             "iteration": 194,
             "learn": [
              0.9487109305,
              0.1536469819
             ],
             "passed_time": 226.4983795,
             "remaining_time": 11388.80313,
             "test": [
              0.9142000002,
              0.2138985252
             ]
            },
            {
             "iteration": 195,
             "learn": [
              0.949390336,
              0.1528565577
             ],
             "passed_time": 227.8710445,
             "remaining_time": 11398.20265,
             "test": [
              0.9138418823,
              0.2135964054
             ]
            },
            {
             "iteration": 196,
             "learn": [
              0.9498978367,
              0.1522649869
             ],
             "passed_time": 228.8211715,
             "remaining_time": 11386.46672,
             "test": [
              0.9138500827,
              0.2135342812
             ]
            },
            {
             "iteration": 197,
             "learn": [
              0.9499900055,
              0.1518289004
             ],
             "passed_time": 229.9518471,
             "remaining_time": 11383.77781,
             "test": [
              0.9138496159,
              0.2133977732
             ]
            },
            {
             "iteration": 198,
             "learn": [
              0.9502176334,
              0.1514822653
             ],
             "passed_time": 231.0424266,
             "remaining_time": 11379.12977,
             "test": [
              0.9136436695,
              0.2133459117
             ]
            },
            {
             "iteration": 199,
             "learn": [
              0.9504008431,
              0.1508159614
             ],
             "passed_time": 232.9897862,
             "remaining_time": 11416.49952,
             "test": [
              0.9137904203,
              0.2131883002
             ]
            },
            {
             "iteration": 200,
             "learn": [
              0.9502629605,
              0.1504957935
             ],
             "passed_time": 234.1375587,
             "remaining_time": 11414.4972,
             "test": [
              0.9141598486,
              0.2130597768
             ]
            },
            {
             "iteration": 201,
             "learn": [
              0.9504921337,
              0.150014735
             ],
             "passed_time": 235.3657966,
             "remaining_time": 11416.40631,
             "test": [
              0.9141840558,
              0.212941311
             ]
            },
            {
             "iteration": 202,
             "learn": [
              0.9506741647,
              0.1496446902
             ],
             "passed_time": 236.6516479,
             "remaining_time": 11421.065,
             "test": [
              0.9136348695,
              0.2128295964
             ]
            },
            {
             "iteration": 203,
             "learn": [
              0.9509467985,
              0.1491375644
             ],
             "passed_time": 237.94087,
             "remaining_time": 11425.82727,
             "test": [
              0.9126994308,
              0.2127832703
             ]
            },
            {
             "iteration": 204,
             "learn": [
              0.9512211172,
              0.1486135738
             ],
             "passed_time": 239.2201533,
             "remaining_time": 11430.05562,
             "test": [
              0.9128856464,
              0.2126652372
             ]
            },
            {
             "iteration": 205,
             "learn": [
              0.9512245844,
              0.1483848807
             ],
             "passed_time": 240.3493877,
             "remaining_time": 11427.09662,
             "test": [
              0.9130750772,
              0.2127154908
             ]
            },
            {
             "iteration": 206,
             "learn": [
              0.9513612716,
              0.1479671556
             ],
             "passed_time": 241.6401947,
             "remaining_time": 11431.79916,
             "test": [
              0.9130669966,
              0.2125525805
             ]
            },
            {
             "iteration": 207,
             "learn": [
              0.9515907222,
              0.1477567296
             ],
             "passed_time": 243.0882807,
             "remaining_time": 11443.84829,
             "test": [
              0.9132460661,
              0.2124960023
             ]
            },
            {
             "iteration": 208,
             "learn": [
              0.9517715681,
              0.1473421253
             ],
             "passed_time": 244.3030591,
             "remaining_time": 11444.83852,
             "test": [
              0.9132369928,
              0.2123391204
             ]
            },
            {
             "iteration": 209,
             "learn": [
              0.9518658823,
              0.1472256711
             ],
             "passed_time": 245.4415851,
             "remaining_time": 11442.25294,
             "test": [
              0.9134266924,
              0.2123638856
             ]
            },
            {
             "iteration": 210,
             "learn": [
              0.9520926971,
              0.1468659107
             ],
             "passed_time": 246.778186,
             "remaining_time": 11448.87044,
             "test": [
              0.913605551,
              0.2123645029
             ]
            },
            {
             "iteration": 211,
             "learn": [
              0.9520040637,
              0.1466669944
             ],
             "passed_time": 247.9710624,
             "remaining_time": 11448.77716,
             "test": [
              0.9137869102,
              0.212379793
             ]
            },
            {
             "iteration": 212,
             "learn": [
              0.9520506332,
              0.1464754905
             ],
             "passed_time": 249.041477,
             "remaining_time": 11443.04665,
             "test": [
              0.9139702316,
              0.2124021075
             ]
            },
            {
             "iteration": 213,
             "learn": [
              0.9522774725,
              0.1463163335
             ],
             "passed_time": 250.3951541,
             "remaining_time": 11450.31298,
             "test": [
              0.9139721242,
              0.2125134959
             ]
            },
            {
             "iteration": 214,
             "learn": [
              0.9522778013,
              0.1461354418
             ],
             "passed_time": 251.6676115,
             "remaining_time": 11453.80269,
             "test": [
              0.9139721242,
              0.2124750329
             ]
            },
            {
             "iteration": 215,
             "learn": [
              0.9523676816,
              0.1457773558
             ],
             "passed_time": 253.0128046,
             "remaining_time": 11460.54296,
             "test": [
              0.9136099132,
              0.2124102329
             ]
            },
            {
             "iteration": 216,
             "learn": [
              0.9525056417,
              0.1453299667
             ],
             "passed_time": 253.9951406,
             "remaining_time": 11450.85005,
             "test": [
              0.9130632522,
              0.2119917052
             ]
            },
            {
             "iteration": 217,
             "learn": [
              0.9530042082,
              0.1446744024
             ],
             "passed_time": 255.4014856,
             "remaining_time": 11460.26299,
             "test": [
              0.9137820041,
              0.2117585798
             ]
            },
            {
             "iteration": 218,
             "learn": [
              0.9530042082,
              0.1442357565
             ],
             "passed_time": 256.5280175,
             "remaining_time": 11457.08009,
             "test": [
              0.9139633834,
              0.2112568768
             ]
            },
            {
             "iteration": 219,
             "learn": [
              0.9530482468,
              0.1438799081
             ],
             "passed_time": 257.7150865,
             "remaining_time": 11456.60703,
             "test": [
              0.9139666389,
              0.2113076524
             ]
            },
            {
             "iteration": 220,
             "learn": [
              0.9533684877,
              0.14348506
             ],
             "passed_time": 258.9946476,
             "remaining_time": 11460.22017,
             "test": [
              0.9139607719,
              0.2113819535
             ]
            },
            {
             "iteration": 221,
             "learn": [
              0.9535035846,
              0.1432041394
             ],
             "passed_time": 260.2312257,
             "remaining_time": 11461.89606,
             "test": [
              0.913779431,
              0.2113333559
             ]
            },
            {
             "iteration": 222,
             "learn": [
              0.953640663,
              0.1428525565
             ],
             "passed_time": 261.1040686,
             "remaining_time": 11447.59856,
             "test": [
              0.913599954,
              0.2110519351
             ]
            },
            {
             "iteration": 223,
             "learn": [
              0.9537314818,
              0.1426427042
             ],
             "passed_time": 262.4983657,
             "remaining_time": 11456.17867,
             "test": [
              0.9145171334,
              0.2111795172
             ]
            },
            {
             "iteration": 224,
             "learn": [
              0.9540953374,
              0.1421532375
             ],
             "passed_time": 264.0330183,
             "remaining_time": 11470.76779,
             "test": [
              0.9146952241,
              0.2112219874
             ]
            },
            {
             "iteration": 225,
             "learn": [
              0.9542319394,
              0.1416612648
             ],
             "passed_time": 265.4429313,
             "remaining_time": 11479.81952,
             "test": [
              0.9145041819,
              0.2110116768
             ]
            },
            {
             "iteration": 226,
             "learn": [
              0.9543224013,
              0.1414270439
             ],
             "passed_time": 266.7925954,
             "remaining_time": 11486.18518,
             "test": [
              0.9146842511,
              0.2109755714
             ]
            },
            {
             "iteration": 227,
             "learn": [
              0.9544588473,
              0.14119138
             ],
             "passed_time": 268.3386036,
             "remaining_time": 11500.8984,
             "test": [
              0.9146842511,
              0.2109242359
             ]
            },
            {
             "iteration": 228,
             "learn": [
              0.9545494742,
              0.1408463375
             ],
             "passed_time": 269.3961604,
             "remaining_time": 11494.62831,
             "test": [
              0.9146842511,
              0.2108628302
             ]
            },
            {
             "iteration": 229,
             "learn": [
              0.9547313483,
              0.1404988537
             ],
             "passed_time": 270.629122,
             "remaining_time": 11495.85444,
             "test": [
              0.9143227318,
              0.210747678
             ]
            },
            {
             "iteration": 230,
             "learn": [
              0.9549548857,
              0.140248335
             ],
             "passed_time": 271.758271,
             "remaining_time": 11492.66904,
             "test": [
              0.9141450125,
              0.2107288811
             ]
            },
            {
             "iteration": 231,
             "learn": [
              0.9550460015,
              0.140141316
             ],
             "passed_time": 273.083798,
             "remaining_time": 11497.76956,
             "test": [
              0.9143264979,
              0.2106957446
             ]
            },
            {
             "iteration": 232,
             "learn": [
              0.9552714406,
              0.1397185135
             ],
             "passed_time": 274.5088363,
             "remaining_time": 11506.98628,
             "test": [
              0.9141461628,
              0.2104322948
             ]
            },
            {
             "iteration": 233,
             "learn": [
              0.9553661034,
              0.1392529379
             ],
             "passed_time": 275.2774039,
             "remaining_time": 11488.71422,
             "test": [
              0.9141489795,
              0.2099829396
             ]
            },
            {
             "iteration": 234,
             "learn": [
              0.9557741834,
              0.138838271
             ],
             "passed_time": 276.6924997,
             "remaining_time": 11497.45642,
             "test": [
              0.9145113715,
              0.2098229492
             ]
            },
            {
             "iteration": 235,
             "learn": [
              0.9560484088,
              0.1383607364
             ],
             "passed_time": 277.840916,
             "remaining_time": 11495.07925,
             "test": [
              0.9150603541,
              0.2098619056
             ]
            },
            {
             "iteration": 236,
             "learn": [
              0.9559566425,
              0.138281257
             ],
             "passed_time": 279.1854307,
             "remaining_time": 11500.79055,
             "test": [
              0.914697612,
              0.2098556047
             ]
            },
            {
             "iteration": 237,
             "learn": [
              0.9563220399,
              0.138013288
             ],
             "passed_time": 280.5237888,
             "remaining_time": 11506.19002,
             "test": [
              0.9145176647,
              0.209791142
             ]
            },
            {
             "iteration": 238,
             "learn": [
              0.9563221638,
              0.137889146
             ],
             "passed_time": 281.5238932,
             "remaining_time": 11497.7185,
             "test": [
              0.9143347904,
              0.2096902956
             ]
            },
            {
             "iteration": 239,
             "learn": [
              0.9565950082,
              0.1376598139
             ],
             "passed_time": 282.9027307,
             "remaining_time": 11504.71105,
             "test": [
              0.914687516,
              0.2098125604
             ]
            },
            {
             "iteration": 240,
             "learn": [
              0.9566859297,
              0.1372321852
             ],
             "passed_time": 284.3321935,
             "remaining_time": 11513.68413,
             "test": [
              0.913965264,
              0.2100039157
             ]
            },
            {
             "iteration": 241,
             "learn": [
              0.9570048899,
              0.1368837755
             ],
             "passed_time": 285.6811658,
             "remaining_time": 11519.32569,
             "test": [
              0.9139655338,
              0.2099948432
             ]
            },
            {
             "iteration": 242,
             "learn": [
              0.9569143167,
              0.1364803438
             ],
             "passed_time": 286.613113,
             "remaining_time": 11508.1652,
             "test": [
              0.9145063044,
              0.2097882736
             ]
            },
            {
             "iteration": 243,
             "learn": [
              0.9570506034,
              0.1362017344
             ],
             "passed_time": 287.9984046,
             "remaining_time": 11515.2149,
             "test": [
              0.9141443563,
              0.2098212888
             ]
            },
            {
             "iteration": 244,
             "learn": [
              0.9573232924,
              0.1357228959
             ],
             "passed_time": 289.2541941,
             "remaining_time": 11517.03944,
             "test": [
              0.9145139391,
              0.2095420779
             ]
            },
            {
             "iteration": 245,
             "learn": [
              0.9573222904,
              0.135484453
             ],
             "passed_time": 290.3802096,
             "remaining_time": 11513.69335,
             "test": [
              0.9152697733,
              0.2095879844
             ]
            },
            {
             "iteration": 246,
             "learn": [
              0.9575043303,
              0.1351037535
             ],
             "passed_time": 291.7670384,
             "remaining_time": 11520.66367,
             "test": [
              0.9152703589,
              0.2095324097
             ]
            },
            {
             "iteration": 247,
             "learn": [
              0.9577787176,
              0.1348605196
             ],
             "passed_time": 293.1480624,
             "remaining_time": 11527.33833,
             "test": [
              0.9152703589,
              0.2094414587
             ]
            },
            {
             "iteration": 248,
             "learn": [
              0.9576868562,
              0.1345663191
             ],
             "passed_time": 294.1827341,
             "remaining_time": 11520.3849,
             "test": [
              0.9150927632,
              0.2093537811
             ]
            },
            {
             "iteration": 249,
             "learn": [
              0.9578713007,
              0.1341634008
             ],
             "passed_time": 295.6575345,
             "remaining_time": 11530.64384,
             "test": [
              0.9154546591,
              0.2092242152
             ]
            },
            {
             "iteration": 250,
             "learn": [
              0.9579627233,
              0.13392504
             ],
             "passed_time": 296.7552867,
             "remaining_time": 11526.1645,
             "test": [
              0.9156341094,
              0.2091305535
             ]
            },
            {
             "iteration": 251,
             "learn": [
              0.958190389,
              0.1334217896
             ],
             "passed_time": 298.2080417,
             "remaining_time": 11535.44441,
             "test": [
              0.9158214889,
              0.2091249574
             ]
            },
            {
             "iteration": 252,
             "learn": [
              0.9586481831,
              0.132989476
             ],
             "passed_time": 299.4819728,
             "remaining_time": 11537.75015,
             "test": [
              0.9154516848,
              0.2091838305
             ]
            },
            {
             "iteration": 253,
             "learn": [
              0.9588294621,
              0.1326119818
             ],
             "passed_time": 300.680495,
             "remaining_time": 11537.13427,
             "test": [
              0.9154607123,
              0.2091098686
             ]
            },
            {
             "iteration": 254,
             "learn": [
              0.9590562141,
              0.1321958778
             ],
             "passed_time": 301.9613367,
             "remaining_time": 11539.65971,
             "test": [
              0.9147498592,
              0.2091147218
             ]
            },
            {
             "iteration": 255,
             "learn": [
              0.9591914817,
              0.1318190847
             ],
             "passed_time": 303.2797534,
             "remaining_time": 11543.58561,
             "test": [
              0.9153130352,
              0.2089860431
             ]
            },
            {
             "iteration": 256,
             "learn": [
              0.9596004342,
              0.131287055
             ],
             "passed_time": 304.072806,
             "remaining_time": 11527.55389,
             "test": [
              0.9151123862,
              0.2084586936
             ]
            },
            {
             "iteration": 257,
             "learn": [
              0.9598720416,
              0.1305780852
             ],
             "passed_time": 305.4130136,
             "remaining_time": 11532.30069,
             "test": [
              0.9152908481,
              0.2080302636
             ]
            },
            {
             "iteration": 258,
             "learn": [
              0.9602349563,
              0.1302235643
             ],
             "passed_time": 306.7092595,
             "remaining_time": 11535.34709,
             "test": [
              0.9151017368,
              0.207831426
             ]
            },
            {
             "iteration": 259,
             "learn": [
              0.9603716576,
              0.1300935944
             ],
             "passed_time": 307.995392,
             "remaining_time": 11537.98122,
             "test": [
              0.9151017368,
              0.2077952132
             ]
            },
            {
             "iteration": 260,
             "learn": [
              0.9605516573,
              0.1295324221
             ],
             "passed_time": 309.5088591,
             "remaining_time": 11549.06812,
             "test": [
              0.9154638244,
              0.2078628777
             ]
            },
            {
             "iteration": 261,
             "learn": [
              0.9604156323,
              0.1292785546
             ],
             "passed_time": 310.4232908,
             "remaining_time": 11537.79391,
             "test": [
              0.915466183,
              0.2076392559
             ]
            },
            {
             "iteration": 262,
             "learn": [
              0.9607794725,
              0.1288550909
             ],
             "passed_time": 311.7654951,
             "remaining_time": 11542.43584,
             "test": [
              0.9149239037,
              0.2075281793
             ]
            },
            {
             "iteration": 263,
             "learn": [
              0.9607339557,
              0.1285079957
             ],
             "passed_time": 313.1737925,
             "remaining_time": 11549.46986,
             "test": [
              0.915102634,
              0.2074114572
             ]
            },
            {
             "iteration": 264,
             "learn": [
              0.9612356204,
              0.128144194
             ],
             "passed_time": 314.3880672,
             "remaining_time": 11549.31258,
             "test": [
              0.9147175452,
              0.2074188758
             ]
            },
            {
             "iteration": 265,
             "learn": [
              0.9612357429,
              0.1279833713
             ],
             "passed_time": 315.4583555,
             "remaining_time": 11543.87832,
             "test": [
              0.9147175452,
              0.2072597789
             ]
            },
            {
             "iteration": 266,
             "learn": [
              0.9612351869,
              0.1278447955
             ],
             "passed_time": 316.7829414,
             "remaining_time": 11547.7467,
             "test": [
              0.9147421188,
              0.207276366
             ]
            },
            {
             "iteration": 267,
             "learn": [
              0.9615545901,
              0.1275160363
             ],
             "passed_time": 317.8001767,
             "remaining_time": 11540.41537,
             "test": [
              0.9151006006,
              0.2070885349
             ]
            },
            {
             "iteration": 268,
             "learn": [
              0.9615084062,
              0.1273542188
             ],
             "passed_time": 319.179695,
             "remaining_time": 11546.23648,
             "test": [
              0.9152802596,
              0.2071375034
             ]
            },
            {
             "iteration": 269,
             "learn": [
              0.9617826267,
              0.1272245053
             ],
             "passed_time": 320.582843,
             "remaining_time": 11552.85579,
             "test": [
              0.9154596244,
              0.2071841291
             ]
            },
            {
             "iteration": 270,
             "learn": [
              0.9617838635,
              0.1271258743
             ],
             "passed_time": 321.8148693,
             "remaining_time": 11553.27256,
             "test": [
              0.9156409332,
              0.2071747634
             ]
            },
            {
             "iteration": 271,
             "learn": [
              0.9618745684,
              0.1270382995
             ],
             "passed_time": 323.1883899,
             "remaining_time": 11558.73771,
             "test": [
              0.9154619716,
              0.2071496292
             ]
            },
            {
             "iteration": 272,
             "learn": [
              0.961872718,
              0.1267734283
             ],
             "passed_time": 324.2775766,
             "remaining_time": 11554.02193,
             "test": [
              0.9154609993,
              0.2071082868
             ]
            },
            {
             "iteration": 273,
             "learn": [
              0.9620998323,
              0.1265535198
             ],
             "passed_time": 325.549467,
             "remaining_time": 11555.81794,
             "test": [
              0.9152574641,
              0.2070613366
             ]
            },
            {
             "iteration": 274,
             "learn": [
              0.9622842526,
              0.1260970654
             ],
             "passed_time": 326.7680563,
             "remaining_time": 11555.70672,
             "test": [
              0.9154606552,
              0.2069346543
             ]
            },
            {
             "iteration": 275,
             "learn": [
              0.9623306139,
              0.1258520209
             ],
             "passed_time": 328.3468761,
             "remaining_time": 11568.27907,
             "test": [
              0.9152713373,
              0.2069120754
             ]
            },
            {
             "iteration": 276,
             "learn": [
              0.9623755293,
              0.1257284025
             ],
             "passed_time": 329.6801059,
             "remaining_time": 11572.12877,
             "test": [
              0.9156419671,
              0.2069655039
             ]
            },
            {
             "iteration": 277,
             "learn": [
              0.9626477774,
              0.1255047728
             ],
             "passed_time": 330.9547752,
             "remaining_time": 11573.89325,
             "test": [
              0.9158196712,
              0.2070160053
             ]
            },
            {
             "iteration": 278,
             "learn": [
              0.9628300274,
              0.1252093524
             ],
             "passed_time": 332.407247,
             "remaining_time": 11581.831,
             "test": [
              0.9154513916,
              0.2070145924
             ]
            },
            {
             "iteration": 279,
             "learn": [
              0.9628297734,
              0.1251483593
             ],
             "passed_time": 333.737998,
             "remaining_time": 11585.47621,
             "test": [
              0.9152700613,
              0.2069807142
             ]
            },
            {
             "iteration": 280,
             "learn": [
              0.9631485374,
              0.1248150073
             ],
             "passed_time": 334.9287113,
             "remaining_time": 11584.24251,
             "test": [
              0.9156278847,
              0.2070818777
             ]
            },
            {
             "iteration": 281,
             "learn": [
              0.9634217217,
              0.1243726259
             ],
             "passed_time": 336.3138601,
             "remaining_time": 11589.70955,
             "test": [
              0.9156297402,
              0.2070443503
             ]
            },
            {
             "iteration": 282,
             "learn": [
              0.9635578704,
              0.1242007032
             ],
             "passed_time": 337.69876,
             "remaining_time": 11595.11962,
             "test": [
              0.9152793545,
              0.2069638122
             ]
            },
            {
             "iteration": 283,
             "learn": [
              0.9635579868,
              0.1240181031
             ],
             "passed_time": 338.9140636,
             "remaining_time": 11594.67973,
             "test": [
              0.9152882594,
              0.2069662246
             ]
            },
            {
             "iteration": 284,
             "learn": [
              0.9636049757,
              0.1238121847
             ],
             "passed_time": 340.0644709,
             "remaining_time": 11592.02223,
             "test": [
              0.9160111245,
              0.2070177547
             ]
            },
            {
             "iteration": 285,
             "learn": [
              0.9638786619,
              0.1236012153
             ],
             "passed_time": 341.2772886,
             "remaining_time": 11591.49504,
             "test": [
              0.9160085056,
              0.2070251998
             ]
            },
            {
             "iteration": 286,
             "learn": [
              0.9640147273,
              0.1231674514
             ],
             "passed_time": 342.0776994,
             "remaining_time": 11577.0059,
             "test": [
              0.915831372,
              0.2067599388
             ]
            },
            {
             "iteration": 287,
             "learn": [
              0.9640591753,
              0.1228594275
             ],
             "passed_time": 343.5557265,
             "remaining_time": 11585.46256,
             "test": [
              0.9160109383,
              0.2067831507
             ]
            },
            {
             "iteration": 288,
             "learn": [
              0.963968529,
              0.1226407847
             ],
             "passed_time": 344.9110736,
             "remaining_time": 11589.72815,
             "test": [
              0.9160085614,
              0.2067721375
             ]
            },
            {
             "iteration": 289,
             "learn": [
              0.9642412587,
              0.122490167
             ],
             "passed_time": 346.2151107,
             "remaining_time": 11592.23698,
             "test": [
              0.916189872,
              0.2067913473
             ]
            },
            {
             "iteration": 290,
             "learn": [
              0.9646041426,
              0.1219224893
             ],
             "passed_time": 347.392728,
             "remaining_time": 11590.50171,
             "test": [
              0.9161892798,
              0.2067694048
             ]
            },
            {
             "iteration": 291,
             "learn": [
              0.9646495533,
              0.1216644368
             ],
             "passed_time": 348.5665501,
             "remaining_time": 11588.64407,
             "test": [
              0.9165514488,
              0.206682322
             ]
            },
            {
             "iteration": 292,
             "learn": [
              0.9646496751,
              0.1215339114
             ],
             "passed_time": 349.920467,
             "remaining_time": 11592.75759,
             "test": [
              0.9167321389,
              0.2065546242
             ]
            },
            {
             "iteration": 293,
             "learn": [
              0.964559256,
              0.1212183098
             ],
             "passed_time": 350.9717851,
             "remaining_time": 11586.84404,
             "test": [
              0.9169104657,
              0.2064735096
             ]
            },
            {
             "iteration": 294,
             "learn": [
              0.9646046601,
              0.1210452823
             ],
             "passed_time": 352.4374658,
             "remaining_time": 11594.59527,
             "test": [
              0.9169104657,
              0.2065145187
             ]
            },
            {
             "iteration": 295,
             "learn": [
              0.9648322515,
              0.1208196436
             ],
             "passed_time": 353.4642979,
             "remaining_time": 11587.89712,
             "test": [
              0.9169104657,
              0.2065074521
             ]
            },
            {
             "iteration": 296,
             "learn": [
              0.9648319716,
              0.1206895664
             ],
             "passed_time": 354.5207177,
             "remaining_time": 11582.20378,
             "test": [
              0.9165507504,
              0.2065594587
             ]
            },
            {
             "iteration": 297,
             "learn": [
              0.9649683126,
              0.11994346
             ],
             "passed_time": 355.7007105,
             "remaining_time": 11580.56474,
             "test": [
              0.9163703225,
              0.2061357689
             ]
            },
            {
             "iteration": 298,
             "learn": [
              0.9651047702,
              0.1194368825
             ],
             "passed_time": 356.6847839,
             "remaining_time": 11572.5722,
             "test": [
              0.9163741253,
              0.2059808172
             ]
            },
            {
             "iteration": 299,
             "learn": [
              0.9653315723,
              0.1192742317
             ],
             "passed_time": 358.1065608,
             "remaining_time": 11578.7788,
             "test": [
              0.9165555129,
              0.2059429803
             ]
            },
            {
             "iteration": 300,
             "learn": [
              0.9653778861,
              0.1189520236
             ],
             "passed_time": 359.6082562,
             "remaining_time": 11587.50989,
             "test": [
              0.9172916828,
              0.2059386766
             ]
            },
            {
             "iteration": 301,
             "learn": [
              0.9655145372,
              0.1186014784
             ],
             "passed_time": 361.0394619,
             "remaining_time": 11593.90961,
             "test": [
              0.9172916828,
              0.2059701295
             ]
            },
            {
             "iteration": 302,
             "learn": [
              0.9657417626,
              0.1183014272
             ],
             "passed_time": 362.0244701,
             "remaining_time": 11585.97784,
             "test": [
              0.9172860473,
              0.2059629926
             ]
            },
            {
             "iteration": 303,
             "learn": [
              0.9659702223,
              0.118054297
             ],
             "passed_time": 363.2376625,
             "remaining_time": 11585.36966,
             "test": [
              0.9171019216,
              0.2060511138
             ]
            },
            {
             "iteration": 304,
             "learn": [
              0.9660607363,
              0.1177157422
             ],
             "passed_time": 364.495605,
             "remaining_time": 11586.17997,
             "test": [
              0.9167332456,
              0.2059132598
             ]
            },
            {
             "iteration": 305,
             "learn": [
              0.9663783043,
              0.1172260285
             ],
             "passed_time": 365.6618645,
             "remaining_time": 11584.07227,
             "test": [
              0.916733091,
              0.2058189555
             ]
            },
            {
             "iteration": 306,
             "learn": [
              0.9664241971,
              0.1168887066
             ],
             "passed_time": 366.8369881,
             "remaining_time": 11582.25057,
             "test": [
              0.9167310028,
              0.2058125904
             ]
            },
            {
             "iteration": 307,
             "learn": [
              0.9662881332,
              0.116673785
             ],
             "passed_time": 368.0962371,
             "remaining_time": 11583.08029,
             "test": [
              0.9170934531,
              0.2057579566
             ]
            },
            {
             "iteration": 308,
             "learn": [
              0.9663336423,
              0.1164603001
             ],
             "passed_time": 369.221297,
             "remaining_time": 11579.68799,
             "test": [
              0.9172817652,
              0.2056872408
             ]
            },
            {
             "iteration": 309,
             "learn": [
              0.9663790721,
              0.1162630937
             ],
             "passed_time": 370.4484593,
             "remaining_time": 11579.50184,
             "test": [
              0.9169198814,
              0.2057344129
             ]
            },
            {
             "iteration": 310,
             "learn": [
              0.9666515474,
              0.115838203
             ],
             "passed_time": 371.6156641,
             "remaining_time": 11577.44106,
             "test": [
              0.9167422405,
              0.2058150133
             ]
            },
            {
             "iteration": 311,
             "learn": [
              0.9668792738,
              0.115571497
             ],
             "passed_time": 373.0254674,
             "remaining_time": 11582.919,
             "test": [
              0.9173026899,
              0.2059022815
             ]
            },
            {
             "iteration": 312,
             "learn": [
              0.9669242634,
              0.1154618065
             ],
             "passed_time": 374.4013692,
             "remaining_time": 11587.30372,
             "test": [
              0.9171211842,
              0.2058090959
             ]
            },
            {
             "iteration": 313,
             "learn": [
              0.9670157546,
              0.1152530574
             ],
             "passed_time": 375.6615696,
             "remaining_time": 11588.08268,
             "test": [
              0.9173026899,
              0.2057611668
             ]
            },
            {
             "iteration": 314,
             "learn": [
              0.967197251,
              0.1151655024
             ],
             "passed_time": 377.0645168,
             "remaining_time": 11593.2376,
             "test": [
              0.9173026899,
              0.2057776693
             ]
            },
            {
             "iteration": 315,
             "learn": [
              0.9671515807,
              0.114934672
             ],
             "passed_time": 378.2568452,
             "remaining_time": 11591.89648,
             "test": [
              0.9169345315,
              0.2056686719
             ]
            },
            {
             "iteration": 316,
             "learn": [
              0.9674244408,
              0.1145738854
             ],
             "passed_time": 379.5091617,
             "remaining_time": 11592.38868,
             "test": [
              0.9167530289,
              0.205640373
             ]
            },
            {
             "iteration": 317,
             "learn": [
              0.9675151724,
              0.1143940772
             ],
             "passed_time": 380.8324488,
             "remaining_time": 11595.03072,
             "test": [
              0.9165650682,
              0.2056488064
             ]
            },
            {
             "iteration": 318,
             "learn": [
              0.9676965631,
              0.1141010968
             ],
             "passed_time": 382.0652043,
             "remaining_time": 11594.90045,
             "test": [
              0.9165650682,
              0.2055459967
             ]
            },
            {
             "iteration": 319,
             "learn": [
              0.9677419534,
              0.1139041665
             ],
             "passed_time": 383.5482192,
             "remaining_time": 11602.33363,
             "test": [
              0.9167548511,
              0.2055748661
             ]
            },
            {
             "iteration": 320,
             "learn": [
              0.9680142038,
              0.1137022639
             ],
             "passed_time": 384.7918073,
             "remaining_time": 11602.49191,
             "test": [
              0.916573356,
              0.2056539445
             ]
            },
            {
             "iteration": 321,
             "learn": [
              0.9680147716,
              0.1135170575
             ],
             "passed_time": 385.9727625,
             "remaining_time": 11600.75899,
             "test": [
              0.9165660349,
              0.2056095986
             ]
            },
            {
             "iteration": 322,
             "learn": [
              0.9682427754,
              0.1132962192
             ],
             "passed_time": 387.3688848,
             "remaining_time": 11605.47584,
             "test": [
              0.9165650594,
              0.2056295064
             ]
            },
            {
             "iteration": 323,
             "learn": [
              0.9683337634,
              0.1131435339
             ],
             "passed_time": 388.757447,
             "remaining_time": 11609.92919,
             "test": [
              0.9163922675,
              0.2056071417
             ]
            },
            {
             "iteration": 324,
             "learn": [
              0.9682430923,
              0.113028691
             ],
             "passed_time": 389.9841146,
             "remaining_time": 11609.5271,
             "test": [
              0.9162021812,
              0.20553367
             ]
            },
            {
             "iteration": 325,
             "learn": [
              0.9684699581,
              0.1127230023
             ],
             "passed_time": 391.2294682,
             "remaining_time": 11609.67446,
             "test": [
              0.9158330727,
              0.2054185335
             ]
            },
            {
             "iteration": 326,
             "learn": [
              0.9684693819,
              0.1125284139
             ],
             "passed_time": 392.3160907,
             "remaining_time": 11605.11788,
             "test": [
              0.9162021812,
              0.2054659724
             ]
            },
            {
             "iteration": 327,
             "learn": [
              0.96846923,
              0.1124248111
             ],
             "passed_time": 393.7183983,
             "remaining_time": 11609.89131,
             "test": [
              0.9158411074,
              0.2054118811
             ]
            },
            {
             "iteration": 328,
             "learn": [
              0.9687876062,
              0.1122426636
             ],
             "passed_time": 394.8567345,
             "remaining_time": 11606.86772,
             "test": [
              0.9161963461,
              0.2054682529
             ]
            },
            {
             "iteration": 329,
             "learn": [
              0.9690140491,
              0.1120741835
             ],
             "passed_time": 396.1176183,
             "remaining_time": 11607.44657,
             "test": [
              0.9163778277,
              0.2053707587
             ]
            },
            {
             "iteration": 330,
             "learn": [
              0.969014191,
              0.111842911
             ],
             "passed_time": 397.3050446,
             "remaining_time": 11605.86851,
             "test": [
              0.9163767064,
              0.2052862171
             ]
            },
            {
             "iteration": 331,
             "learn": [
              0.9690141609,
              0.1116944589
             ],
             "passed_time": 398.7088928,
             "remaining_time": 11610.59511,
             "test": [
              0.9161963461,
              0.2053383366
             ]
            },
            {
             "iteration": 332,
             "learn": [
              0.969013943,
              0.1115278001
             ],
             "passed_time": 399.7377479,
             "remaining_time": 11604.39883,
             "test": [
              0.9165572722,
              0.2052726978
             ]
            },
            {
             "iteration": 333,
             "learn": [
              0.9691505179,
              0.1113076195
             ],
             "passed_time": 400.6669157,
             "remaining_time": 11595.34852,
             "test": [
              0.9163767064,
              0.2051694362
             ]
            },
            {
             "iteration": 334,
             "learn": [
              0.969195933,
              0.1109943534
             ],
             "passed_time": 401.6640067,
             "remaining_time": 11588.30634,
             "test": [
              0.9163778277,
              0.2049839868
             ]
            },
            {
             "iteration": 335,
             "learn": [
              0.969514203,
              0.1104476153
             ],
             "passed_time": 403.0310235,
             "remaining_time": 11591.93991,
             "test": [
              0.9167396812,
              0.2048030179
             ]
            },
            {
             "iteration": 336,
             "learn": [
              0.9695594155,
              0.1100812122
             ],
             "passed_time": 404.1192046,
             "remaining_time": 11587.54859,
             "test": [
              0.9165613418,
              0.2047844904
             ]
            },
            {
             "iteration": 337,
             "learn": [
              0.9695595742,
              0.1099738923
             ],
             "passed_time": 405.4126263,
             "remaining_time": 11589.04377,
             "test": [
              0.9162002711,
              0.2047555191
             ]
            },
            {
             "iteration": 338,
             "learn": [
              0.9696049481,
              0.1098640777
             ],
             "passed_time": 406.6549411,
             "remaining_time": 11589.06604,
             "test": [
              0.9163820319,
              0.2047884996
             ]
            },
            {
             "iteration": 339,
             "learn": [
              0.9696049957,
              0.1097927998
             ],
             "passed_time": 407.7270366,
             "remaining_time": 11584.24463,
             "test": [
              0.9163820319,
              0.2047685092
             ]
            },
            {
             "iteration": 340,
             "learn": [
              0.9696500084,
              0.1096852487
             ],
             "passed_time": 409.1077043,
             "remaining_time": 11588.18568,
             "test": [
              0.9163820319,
              0.2048106781
             ]
            },
            {
             "iteration": 341,
             "learn": [
              0.9699227559,
              0.1093225047
             ],
             "passed_time": 410.4796754,
             "remaining_time": 11591.85002,
             "test": [
              0.9165221314,
              0.2048126595
             ]
            },
            {
             "iteration": 342,
             "learn": [
              0.9700590286,
              0.1090179919
             ],
             "passed_time": 411.5648009,
             "remaining_time": 11587.40899,
             "test": [
              0.9163392865,
              0.2048286481
             ]
            },
            {
             "iteration": 343,
             "learn": [
              0.9701958561,
              0.1089504617
             ],
             "passed_time": 412.9946742,
             "remaining_time": 11592.66446,
             "test": [
              0.9163392865,
              0.2048518416
             ]
            },
            {
             "iteration": 344,
             "learn": [
              0.970423088,
              0.1088118615
             ],
             "passed_time": 414.0995081,
             "remaining_time": 11588.78478,
             "test": [
              0.9159782368,
              0.2048590345
             ]
            },
            {
             "iteration": 345,
             "learn": [
              0.9705137903,
              0.1084705059
             ],
             "passed_time": 415.5588783,
             "remaining_time": 11594.81333,
             "test": [
              0.9163392865,
              0.2047997353
             ]
            },
            {
             "iteration": 346,
             "learn": [
              0.9706046851,
              0.1082531965
             ],
             "passed_time": 416.9283979,
             "remaining_time": 11598.29921,
             "test": [
              0.9163392865,
              0.2048009832
             ]
            },
            {
             "iteration": 347,
             "learn": [
              0.9706500825,
              0.1079007174
             ],
             "passed_time": 418.1242603,
             "remaining_time": 11596.94069,
             "test": [
              0.9159803517,
              0.2045213103
             ]
            },
            {
             "iteration": 348,
             "learn": [
              0.9709679871,
              0.1077306505
             ],
             "passed_time": 419.4430799,
             "remaining_time": 11598.98328,
             "test": [
              0.9162022246,
              0.2045144779
             ]
            },
            {
             "iteration": 349,
             "learn": [
              0.9710133466,
              0.1075813304
             ],
             "passed_time": 420.888073,
             "remaining_time": 11604.48544,
             "test": [
              0.9165699697,
              0.2045716126
             ]
            },
            {
             "iteration": 350,
             "learn": [
              0.9711039998,
              0.1073491108
             ],
             "passed_time": 422.0627125,
             "remaining_time": 11602.51599,
             "test": [
              0.9165699697,
              0.2045130996
             ]
            },
            {
             "iteration": 351,
             "learn": [
              0.9708311302,
              0.1069360305
             ],
             "passed_time": 423.6992964,
             "remaining_time": 11613.21253,
             "test": [
              0.9172980433,
              0.2042654718
             ]
            },
            {
             "iteration": 352,
             "learn": [
              0.9710585527,
              0.1066824336
             ],
             "passed_time": 425.0409335,
             "remaining_time": 11615.77871,
             "test": [
              0.9172567184,
              0.204354965
             ]
            },
            {
             "iteration": 353,
             "learn": [
              0.9709683937,
              0.1063712223
             ],
             "passed_time": 425.9371563,
             "remaining_time": 11606.1859,
             "test": [
              0.9172992333,
              0.2042697785
             ]
            },
            {
             "iteration": 354,
             "learn": [
              0.9711499956,
              0.1062093693
             ],
             "passed_time": 427.4335157,
             "remaining_time": 11612.94721,
             "test": [
              0.9172970725,
              0.2042650743
             ]
            },
            {
             "iteration": 355,
             "learn": [
              0.9712861517,
              0.10602094
             ],
             "passed_time": 428.5927037,
             "remaining_time": 11610.52819,
             "test": [
              0.9171174987,
              0.2043251194
             ]
            },
            {
             "iteration": 356,
             "learn": [
              0.9714226343,
              0.105916051
             ],
             "passed_time": 430.0951606,
             "remaining_time": 11617.38833,
             "test": [
              0.9169380153,
              0.2043293663
             ]
            },
            {
             "iteration": 357,
             "learn": [
              0.9714230403,
              0.1055302197
             ],
             "passed_time": 431.2268005,
             "remaining_time": 11614.21455,
             "test": [
              0.9171205265,
              0.2040705317
             ]
            },
            {
             "iteration": 358,
             "learn": [
              0.9713773571,
              0.1052057375
             ],
             "passed_time": 432.6124519,
             "remaining_time": 11617.87367,
             "test": [
              0.9174576954,
              0.2040554575
             ]
            },
            {
             "iteration": 359,
             "learn": [
              0.9715134784,
              0.1049788861
             ],
             "passed_time": 433.8583211,
             "remaining_time": 11617.76171,
             "test": [
              0.9172842388,
              0.2040886133
             ]
            },
            {
             "iteration": 360,
             "learn": [
              0.9716499232,
              0.1045486908
             ],
             "passed_time": 434.7966124,
             "remaining_time": 11609.43088,
             "test": [
              0.918008422,
              0.2041844639
             ]
            },
            {
             "iteration": 361,
             "learn": [
              0.9717865494,
              0.1042748548
             ],
             "passed_time": 436.1243904,
             "remaining_time": 11611.5107,
             "test": [
              0.9178279767,
              0.2041723785
             ]
            },
            {
             "iteration": 362,
             "learn": [
              0.9719677038,
              0.1040178899
             ],
             "passed_time": 436.9947074,
             "remaining_time": 11601.42698,
             "test": [
              0.9178711403,
              0.2039533464
             ]
            },
            {
             "iteration": 363,
             "learn": [
              0.9721038147,
              0.1038441971
             ],
             "passed_time": 438.2628072,
             "remaining_time": 11601.9242,
             "test": [
              0.9180498588,
              0.2039102434
             ]
            },
            {
             "iteration": 364,
             "learn": [
              0.9720125583,
              0.1035511887
             ],
             "passed_time": 439.6797315,
             "remaining_time": 11606.34031,
             "test": [
              0.9178657769,
              0.203846063
             ]
            },
            {
             "iteration": 365,
             "learn": [
              0.9720581692,
              0.103197607
             ],
             "passed_time": 440.8745563,
             "remaining_time": 11604.87835,
             "test": [
              0.9173318975,
              0.2037371274
             ]
            },
            {
             "iteration": 366,
             "learn": [
              0.9722396908,
              0.1029786907
             ],
             "passed_time": 442.2829403,
             "remaining_time": 11609.02334,
             "test": [
              0.9175142926,
              0.2037690391
             ]
            },
            {
             "iteration": 367,
             "learn": [
              0.9723308767,
              0.1027081033
             ],
             "passed_time": 443.3676791,
             "remaining_time": 11604.66708,
             "test": [
              0.9175084365,
              0.2036849436
             ]
            },
            {
             "iteration": 368,
             "learn": [
              0.9723312649,
              0.1025378368
             ],
             "passed_time": 444.551186,
             "remaining_time": 11602.90643,
             "test": [
              0.9175084365,
              0.2037902337
             ]
            },
            {
             "iteration": 369,
             "learn": [
              0.9723773149,
              0.1024910605
             ],
             "passed_time": 445.906213,
             "remaining_time": 11605.61306,
             "test": [
              0.9175084365,
              0.2037999362
             ]
            },
            {
             "iteration": 370,
             "learn": [
              0.9725589807,
              0.1021489134
             ],
             "passed_time": 447.0764525,
             "remaining_time": 11603.50178,
             "test": [
              0.917875983,
              0.2037697154
             ]
            },
            {
             "iteration": 371,
             "learn": [
              0.9726497775,
              0.1019679689
             ],
             "passed_time": 448.3237408,
             "remaining_time": 11603.38972,
             "test": [
              0.9178733166,
              0.2038661407
             ]
            },
            {
             "iteration": 372,
             "learn": [
              0.9726496147,
              0.1017521422
             ],
             "passed_time": 449.4438064,
             "remaining_time": 11599.988,
             "test": [
              0.9178741166,
              0.2038292918
             ]
            },
            {
             "iteration": 373,
             "learn": [
              0.9729215588,
              0.1014319589
             ],
             "passed_time": 450.8570579,
             "remaining_time": 11604.14449,
             "test": [
              0.917496793,
              0.2038027786
             ]
            },
            {
             "iteration": 374,
             "learn": [
              0.9726948285,
              0.1011159329
             ],
             "passed_time": 452.2967518,
             "remaining_time": 11608.94996,
             "test": [
              0.9182336665,
              0.2035968589
             ]
            },
            {
             "iteration": 375,
             "learn": [
              0.9727859521,
              0.1009009116
             ],
             "passed_time": 453.4426508,
             "remaining_time": 11606.20232,
             "test": [
              0.9180513581,
              0.2036377607
             ]
            },
            {
             "iteration": 376,
             "learn": [
              0.9730130561,
              0.1006290874
             ],
             "passed_time": 455.0511611,
             "remaining_time": 11615.27142,
             "test": [
              0.9176414798,
              0.2036539133
             ]
            },
            {
             "iteration": 377,
             "learn": [
              0.9731951123,
              0.100428892
             ],
             "passed_time": 456.342844,
             "remaining_time": 11616.21917,
             "test": [
              0.9178212742,
              0.2036434076
             ]
            },
            {
             "iteration": 378,
             "learn": [
              0.9732860802,
              0.1003293238
             ],
             "passed_time": 457.8220525,
             "remaining_time": 11621.91548,
             "test": [
              0.9174532686,
              0.2036851664
             ]
            },
            {
             "iteration": 379,
             "learn": [
              0.9733768846,
              0.1001789471
             ],
             "passed_time": 459.2371772,
             "remaining_time": 11625.9517,
             "test": [
              0.9174532686,
              0.2036597086
             ]
            },
            {
             "iteration": 380,
             "learn": [
              0.973422358,
              0.1000438896
             ],
             "passed_time": 460.4153798,
             "remaining_time": 11623.97779,
             "test": [
              0.9172731199,
              0.2035739287
             ]
            },
            {
             "iteration": 381,
             "learn": [
              0.9735580511,
              0.0999438783
             ],
             "passed_time": 461.6210676,
             "remaining_time": 11622.70007,
             "test": [
              0.9172836445,
              0.2034984138
             ]
            },
            {
             "iteration": 382,
             "learn": [
              0.973512611,
              0.09982535973
             ],
             "passed_time": 462.9987387,
             "remaining_time": 11625.74118,
             "test": [
              0.9172836445,
              0.2034780606
             ]
            },
            {
             "iteration": 383,
             "learn": [
              0.9735125796,
              0.09961188335
             ],
             "passed_time": 464.09925,
             "remaining_time": 11621.81872,
             "test": [
              0.9178312818,
              0.203528174
             ]
            },
            {
             "iteration": 384,
             "learn": [
              0.9738305445,
              0.09926279179
             ],
             "passed_time": 465.369375,
             "remaining_time": 11622.14686,
             "test": [
              0.9180127371,
              0.203641356
             ]
            },
            {
             "iteration": 385,
             "learn": [
              0.973875723,
              0.09908671692
             ],
             "passed_time": 466.3987196,
             "remaining_time": 11616.46966,
             "test": [
              0.9181927793,
              0.2036746807
             ]
            },
            {
             "iteration": 386,
             "learn": [
              0.9741026347,
              0.09871924348
             ],
             "passed_time": 467.6007712,
             "remaining_time": 11615.1065,
             "test": [
              0.9181908439,
              0.2037413884
             ]
            },
            {
             "iteration": 387,
             "learn": [
              0.9740572915,
              0.09853665142
             ],
             "passed_time": 469.1286803,
             "remaining_time": 11621.81669,
             "test": [
              0.9178245689,
              0.2036168487
             ]
            },
            {
             "iteration": 388,
             "learn": [
              0.9742841481,
              0.0982188336
             ],
             "passed_time": 470.3202427,
             "remaining_time": 11620.17443,
             "test": [
              0.9176323611,
              0.2036100886
             ]
            },
            {
             "iteration": 389,
             "learn": [
              0.9743300985,
              0.098120892
             ],
             "passed_time": 471.5489147,
             "remaining_time": 11619.4489,
             "test": [
              0.9176323611,
              0.2035993666
             ]
            },
            {
             "iteration": 390,
             "learn": [
              0.9742385517,
              0.09799352593
             ],
             "passed_time": 472.9098384,
             "remaining_time": 11621.97094,
             "test": [
              0.9181701326,
              0.2036515422
             ]
            },
            {
             "iteration": 391,
             "learn": [
              0.9744208104,
              0.09773291739
             ],
             "passed_time": 474.0040329,
             "remaining_time": 11617.93558,
             "test": [
              0.9176385525,
              0.2035677624
             ]
            },
            {
             "iteration": 392,
             "learn": [
              0.9743755456,
              0.09753790383
             ],
             "passed_time": 475.3219083,
             "remaining_time": 11619.38314,
             "test": [
              0.9179993374,
              0.2036447378
             ]
            },
            {
             "iteration": 393,
             "learn": [
              0.9747392651,
              0.09714582483
             ],
             "passed_time": 476.613172,
             "remaining_time": 11620.16784,
             "test": [
              0.9176397502,
              0.20358232
             ]
            },
            {
             "iteration": 394,
             "learn": [
              0.9747846357,
              0.09706184881
             ],
             "passed_time": 477.8937607,
             "remaining_time": 11620.68246,
             "test": [
              0.9181794966,
              0.2035509739
             ]
            },
            {
             "iteration": 395,
             "learn": [
              0.9748747816,
              0.09668398639
             ],
             "passed_time": 479.2256156,
             "remaining_time": 11622.43134,
             "test": [
              0.9174593117,
              0.2036754084
             ]
            },
            {
             "iteration": 396,
             "learn": [
              0.9747842407,
              0.09646136658
             ],
             "passed_time": 480.5296665,
             "remaining_time": 11623.49216,
             "test": [
              0.9170996623,
              0.2037207306
             ]
            },
            {
             "iteration": 397,
             "learn": [
              0.9748298974,
              0.09630895965
             ],
             "passed_time": 481.9075387,
             "remaining_time": 11626.32208,
             "test": [
              0.917098033,
              0.2037227296
             ]
            },
            {
             "iteration": 398,
             "learn": [
              0.9748752012,
              0.09615261284
             ],
             "passed_time": 483.2524685,
             "remaining_time": 11628.33822,
             "test": [
              0.9167141912,
              0.2039376405
             ]
            },
            {
             "iteration": 399,
             "learn": [
              0.975148208,
              0.09601550141
             ],
             "passed_time": 484.4215585,
             "remaining_time": 11626.1174,
             "test": [
              0.9170757148,
              0.2039160587
             ]
            },
            {
             "iteration": 400,
             "learn": [
              0.9755117906,
              0.09580801446
             ],
             "passed_time": 485.7332331,
             "remaining_time": 11627.31497,
             "test": [
              0.9167050607,
              0.2040148862
             ]
            },
            {
             "iteration": 401,
             "learn": [
              0.9756933244,
              0.0955004182
             ],
             "passed_time": 486.9925721,
             "remaining_time": 11627.25051,
             "test": [
              0.9165262999,
              0.2040356398
             ]
            },
            {
             "iteration": 402,
             "learn": [
              0.9757385392,
              0.09533093058
             ],
             "passed_time": 488.3959989,
             "remaining_time": 11630.61142,
             "test": [
              0.9165262999,
              0.2039430582
             ]
            },
            {
             "iteration": 403,
             "learn": [
              0.9760117495,
              0.09509012204
             ],
             "passed_time": 489.3453312,
             "remaining_time": 11623.16287,
             "test": [
              0.9169101278,
              0.2038589539
             ]
            },
            {
             "iteration": 404,
             "learn": [
              0.9761479177,
              0.09492092794
             ],
             "passed_time": 490.3448034,
             "remaining_time": 11616.93429,
             "test": [
              0.9169189433,
              0.2037345541
             ]
            },
            {
             "iteration": 405,
             "learn": [
              0.9761479177,
              0.09479691194
             ],
             "passed_time": 491.5729589,
             "remaining_time": 11616.13539,
             "test": [
              0.9171004587,
              0.2037831436
             ]
            },
            {
             "iteration": 406,
             "learn": [
              0.9762840567,
              0.09456380985
             ],
             "passed_time": 492.7814865,
             "remaining_time": 11614.87174,
             "test": [
              0.9170899117,
              0.2036901299
             ]
            },
            {
             "iteration": 407,
             "learn": [
              0.9765106812,
              0.09440018039
             ],
             "passed_time": 494.096114,
             "remaining_time": 11616.10276,
             "test": [
              0.9172786348,
              0.203659938
             ]
            },
            {
             "iteration": 408,
             "learn": [
              0.9767377099,
              0.09404393832
             ],
             "passed_time": 495.5436192,
             "remaining_time": 11620.43729,
             "test": [
              0.9176352277,
              0.2035906719
             ]
            },
            {
             "iteration": 409,
             "learn": [
              0.9768285199,
              0.09388994833
             ],
             "passed_time": 496.8760514,
             "remaining_time": 11622.05203,
             "test": [
              0.9174554258,
              0.2035990899
             ]
            },
            {
             "iteration": 410,
             "learn": [
              0.976873922,
              0.09369307697
             ],
             "passed_time": 498.0636376,
             "remaining_time": 11620.27304,
             "test": [
              0.9176355776,
              0.2033099184
             ]
            },
            {
             "iteration": 411,
             "learn": [
              0.9768285643,
              0.09354927187
             ],
             "passed_time": 499.4360069,
             "remaining_time": 11622.79717,
             "test": [
              0.9178140111,
              0.2033418991
             ]
            },
            {
             "iteration": 412,
             "learn": [
              0.9767830274,
              0.09333515583
             ],
             "passed_time": 500.7942274,
             "remaining_time": 11624.97399,
             "test": [
              0.9176355776,
              0.2034292035
             ]
            },
            {
             "iteration": 413,
             "learn": [
              0.9767829416,
              0.09315226485
             ],
             "passed_time": 502.1963987,
             "remaining_time": 11628.1514,
             "test": [
              0.9172726078,
              0.2033802074
             ]
            },
            {
             "iteration": 414,
             "learn": [
              0.9771008731,
              0.09291429644
             ],
             "passed_time": 503.6222984,
             "remaining_time": 11631.85477,
             "test": [
              0.9176338488,
              0.203377643
             ]
            },
            {
             "iteration": 415,
             "learn": [
              0.9772371323,
              0.09264435104
             ],
             "passed_time": 505.0411516,
             "remaining_time": 11635.37115,
             "test": [
              0.9176325059,
              0.2034950111
             ]
            },
            {
             "iteration": 416,
             "learn": [
              0.977145969,
              0.09246876728
             ],
             "passed_time": 506.4249343,
             "remaining_time": 11638.0579,
             "test": [
              0.9178140111,
              0.203267304
             ]
            },
            {
             "iteration": 417,
             "learn": [
              0.9773275023,
              0.09232110318
             ],
             "passed_time": 507.21053,
             "remaining_time": 11627.01268,
             "test": [
              0.9181732701,
              0.2031441233
             ]
            },
            {
             "iteration": 418,
             "learn": [
              0.9775090205,
              0.09214216739
             ],
             "passed_time": 508.7142158,
             "remaining_time": 11632.43652,
             "test": [
              0.9178138598,
              0.2029882313
             ]
            },
            {
             "iteration": 419,
             "learn": [
              0.9776455391,
              0.09188095302
             ],
             "passed_time": 509.7849602,
             "remaining_time": 11627.95219,
             "test": [
              0.9176343126,
              0.2031212739
             ]
            },
            {
             "iteration": 420,
             "learn": [
              0.9776909277,
              0.09163212789
             ],
             "passed_time": 511.2307888,
             "remaining_time": 11632.01835,
             "test": [
              0.9174458142,
              0.2031240986
             ]
            },
            {
             "iteration": 421,
             "learn": [
              0.9779631338,
              0.09143921762
             ],
             "passed_time": 512.3204556,
             "remaining_time": 11627.9747,
             "test": [
              0.9179865997,
              0.2029716489
             ]
            },
            {
             "iteration": 422,
             "learn": [
              0.9778269802,
              0.09134969755
             ],
             "passed_time": 513.6822372,
             "remaining_time": 11630.10588,
             "test": [
              0.9178072017,
              0.2029177559
             ]
            },
            {
             "iteration": 423,
             "learn": [
              0.97800852,
              0.09114055154
             ],
             "passed_time": 514.8815583,
             "remaining_time": 11628.55142,
             "test": [
              0.917987381,
              0.2030148685
             ]
            },
            {
             "iteration": 424,
             "learn": [
              0.9778722298,
              0.0909987313
             ],
             "passed_time": 516.3028883,
             "remaining_time": 11632.00036,
             "test": [
              0.917987381,
              0.2030367024
             ]
            },
            {
             "iteration": 425,
             "learn": [
              0.9781447839,
              0.09079563373
             ],
             "passed_time": 517.6857288,
             "remaining_time": 11634.56143,
             "test": [
              0.918709334,
              0.2028958798
             ]
            },
            {
             "iteration": 426,
             "learn": [
              0.9781448701,
              0.09071816136
             ],
             "passed_time": 519.3333723,
             "remaining_time": 11643.04069,
             "test": [
              0.9188880897,
              0.2028374982
             ]
            },
            {
             "iteration": 427,
             "learn": [
              0.9781901273,
              0.09063050231
             ],
             "passed_time": 520.2962284,
             "remaining_time": 11636.15771,
             "test": [
              0.91889664,
              0.2027447926
             ]
            },
            {
             "iteration": 428,
             "learn": [
              0.9782354969,
              0.09036626055
             ],
             "passed_time": 521.728051,
             "remaining_time": 11639.76498,
             "test": [
              0.9190758626,
              0.2027366373
             ]
            },
            {
             "iteration": 429,
             "learn": [
              0.9785080138,
              0.09003176068
             ],
             "passed_time": 523.1344603,
             "remaining_time": 11642.78322,
             "test": [
              0.919078513,
              0.20270991
             ]
            },
            {
             "iteration": 430,
             "learn": [
              0.9784173171,
              0.08993518681
             ],
             "passed_time": 524.4378813,
             "remaining_time": 11643.4944,
             "test": [
              0.919078513,
              0.2026984385
             ]
            },
            {
             "iteration": 431,
             "learn": [
              0.9785081146,
              0.08978664463
             ],
             "passed_time": 525.8272959,
             "remaining_time": 11646.10085,
             "test": [
              0.9188996035,
              0.2028349142
             ]
            },
            {
             "iteration": 432,
             "learn": [
              0.9785537015,
              0.08962187089
             ],
             "passed_time": 526.8400045,
             "remaining_time": 11640.36564,
             "test": [
              0.9187206353,
              0.2028597527
             ]
            },
            {
             "iteration": 433,
             "learn": [
              0.9786447328,
              0.08943985916
             ],
             "passed_time": 528.2210369,
             "remaining_time": 11642.7706,
             "test": [
              0.9190796914,
              0.2027641822
             ]
            },
            {
             "iteration": 434,
             "learn": [
              0.9785992111,
              0.08907856393
             ],
             "passed_time": 529.5972237,
             "remaining_time": 11645.0516,
             "test": [
              0.9190796914,
              0.2027337294
             ]
            },
            {
             "iteration": 435,
             "learn": [
              0.9790534102,
              0.08883411995
             ],
             "passed_time": 531.0415758,
             "remaining_time": 11648.81108,
             "test": [
              0.9190783956,
              0.2027052495
             ]
            },
            {
             "iteration": 436,
             "learn": [
              0.9790533383,
              0.08866530978
             ],
             "passed_time": 532.5204917,
             "remaining_time": 11653.30312,
             "test": [
              0.9190773796,
              0.2027380196
             ]
            },
            {
             "iteration": 437,
             "learn": [
              0.9791441064,
              0.08846607532
             ],
             "passed_time": 533.6079299,
             "remaining_time": 11649.22152,
             "test": [
              0.9190773796,
              0.2026652867
             ]
            },
            {
             "iteration": 438,
             "learn": [
              0.9790986488,
              0.08833974164
             ],
             "passed_time": 534.9944799,
             "remaining_time": 11651.66793,
             "test": [
              0.9190773796,
              0.202611603
             ]
            },
            {
             "iteration": 439,
             "learn": [
              0.9792348088,
              0.08814894152
             ],
             "passed_time": 536.3204022,
             "remaining_time": 11652.77965,
             "test": [
              0.9187183209,
              0.2025992565
             ]
            },
            {
             "iteration": 440,
             "learn": [
              0.9795071411,
              0.08804139427
             ],
             "passed_time": 537.7120603,
             "remaining_time": 11655.30518,
             "test": [
              0.9187192801,
              0.2026361674
             ]
            },
            {
             "iteration": 441,
             "learn": [
              0.979552738,
              0.0877455073
             ],
             "passed_time": 539.2207481,
             "remaining_time": 11660.34369,
             "test": [
              0.9189011319,
              0.2026571091
             ]
            },
            {
             "iteration": 442,
             "learn": [
              0.9796889508,
              0.0874428977
             ],
             "passed_time": 540.5316403,
             "remaining_time": 11661.08552,
             "test": [
              0.9189080909,
              0.2026125479
             ]
            },
            {
             "iteration": 443,
             "learn": [
              0.9796435814,
              0.08732884465
             ],
             "passed_time": 541.9348725,
             "remaining_time": 11663.8055,
             "test": [
              0.9187057233,
              0.2026353531
             ]
            },
            {
             "iteration": 444,
             "learn": [
              0.9796889426,
              0.08719537214
             ],
             "passed_time": 543.0382104,
             "remaining_time": 11660.06764,
             "test": [
              0.918895521,
              0.202577517
             ]
            },
            {
             "iteration": 445,
             "learn": [
              0.9799158968,
              0.08686031179
             ],
             "passed_time": 544.322044,
             "remaining_time": 11660.20809,
             "test": [
              0.9185359494,
              0.2025590909
             ]
            },
            {
             "iteration": 446,
             "learn": [
              0.9798706051,
              0.08673774426
             ],
             "passed_time": 545.6962292,
             "remaining_time": 11662.2731,
             "test": [
              0.9190796381,
              0.202511251
             ]
            },
            {
             "iteration": 447,
             "learn": [
              0.9799161442,
              0.08649180666
             ],
             "passed_time": 546.9063031,
             "remaining_time": 11660.82368,
             "test": [
              0.9187146517,
              0.2026525702
             ]
            },
            {
             "iteration": 448,
             "learn": [
              0.9796437324,
              0.0864250021
             ],
             "passed_time": 548.2194168,
             "remaining_time": 11661.56715,
             "test": [
              0.9190769834,
              0.2026836136
             ]
            },
            {
             "iteration": 449,
             "learn": [
              0.979825474,
              0.08622972707
             ],
             "passed_time": 549.507352,
             "remaining_time": 11661.76714,
             "test": [
              0.9187166637,
              0.2025296492
             ]
            },
            {
             "iteration": 450,
             "learn": [
              0.979870828,
              0.0861360516
             ],
             "passed_time": 551.34574,
             "remaining_time": 11673.61524,
             "test": [
              0.9185351822,
              0.202607086
             ]
            },
            {
             "iteration": 451,
             "learn": [
              0.9801888989,
              0.08591519122
             ],
             "passed_time": 552.8382475,
             "remaining_time": 11678.09643,
             "test": [
              0.9192551107,
              0.2025939408
             ]
            },
            {
             "iteration": 452,
             "learn": [
              0.9801436131,
              0.08583632035
             ],
             "passed_time": 554.296025,
             "remaining_time": 11681.81932,
             "test": [
              0.9192551107,
              0.2026148754
             ]
            },
            {
             "iteration": 453,
             "learn": [
              0.9801889156,
              0.08571085992
             ],
             "passed_time": 555.5816659,
             "remaining_time": 11681.89996,
             "test": [
              0.9194505049,
              0.2025269695
             ]
            },
            {
             "iteration": 454,
             "learn": [
              0.9802801816,
              0.0855068327
             ],
             "passed_time": 557.0946708,
             "remaining_time": 11686.74425,
             "test": [
              0.919091499,
              0.2024982064
             ]
            },
            {
             "iteration": 455,
             "learn": [
              0.9802799124,
              0.08521240494
             ],
             "passed_time": 557.9985829,
             "remaining_time": 11678.81245,
             "test": [
              0.9192776527,
              0.2022119126
             ]
            },
            {
             "iteration": 456,
             "learn": [
              0.9802796781,
              0.08508153775
             ],
             "passed_time": 559.3835046,
             "remaining_time": 11680.95576,
             "test": [
              0.9194600673,
              0.2022428409
             ]
            },
            {
             "iteration": 457,
             "learn": [
              0.980189239,
              0.08486578999
             ],
             "passed_time": 560.3843387,
             "remaining_time": 11675.08157,
             "test": [
              0.9187302255,
              0.2022648261
             ]
            },
            {
             "iteration": 458,
             "learn": [
              0.9802795553,
              0.08473529547
             ],
             "passed_time": 561.7477078,
             "remaining_time": 11676.76445,
             "test": [
              0.9183607734,
              0.2022177461
             ]
            },
            {
             "iteration": 459,
             "learn": [
              0.9803248508,
              0.08458494036
             ],
             "passed_time": 563.0094206,
             "remaining_time": 11676.32581,
             "test": [
              0.9185427807,
              0.2022929496
             ]
            },
            {
             "iteration": 460,
             "learn": [
              0.9805064227,
              0.08429114529
             ],
             "passed_time": 564.1251279,
             "remaining_time": 11672.86246,
             "test": [
              0.9183631048,
              0.2021903718
             ]
            },
            {
             "iteration": 461,
             "learn": [
              0.9805064227,
              0.08421671248
             ],
             "passed_time": 565.2958654,
             "remaining_time": 11670.54538,
             "test": [
              0.9187246345,
              0.2021756016
             ]
            },
            {
             "iteration": 462,
             "learn": [
              0.9806882194,
              0.08403655482
             ],
             "passed_time": 566.6205315,
             "remaining_time": 11671.40391,
             "test": [
              0.9183553203,
              0.202182509
             ]
            },
            {
             "iteration": 463,
             "learn": [
              0.9808698005,
              0.08394267157
             ],
             "passed_time": 567.8604521,
             "remaining_time": 11670.51136,
             "test": [
              0.919257368,
              0.2021557446
             ]
            },
            {
             "iteration": 464,
             "learn": [
              0.9809151949,
              0.08384953764
             ],
             "passed_time": 569.1581176,
             "remaining_time": 11670.8014,
             "test": [
              0.9190687665,
              0.2022246214
             ]
            },
            {
             "iteration": 465,
             "learn": [
              0.9810968405,
              0.08357003676
             ],
             "passed_time": 570.4069448,
             "remaining_time": 11670.08543,
             "test": [
              0.9185260462,
              0.2023424023
             ]
            },
            {
             "iteration": 466,
             "learn": [
              0.9810969345,
              0.0834469356
             ],
             "passed_time": 571.671312,
             "remaining_time": 11669.68441,
             "test": [
              0.9187082842,
              0.2023859236
             ]
            },
            {
             "iteration": 467,
             "learn": [
              0.9812332738,
              0.08316610205
             ],
             "passed_time": 572.8423236,
             "remaining_time": 11667.37827,
             "test": [
              0.9187018998,
              0.2025308844
             ]
            },
            {
             "iteration": 468,
             "learn": [
              0.9815062412,
              0.08283250421
             ],
             "passed_time": 574.3583301,
             "remaining_time": 11672.08794,
             "test": [
              0.9181684873,
              0.2024528574
             ]
            },
            {
             "iteration": 469,
             "learn": [
              0.9814152815,
              0.08274737365
             ],
             "passed_time": 575.7075297,
             "remaining_time": 11673.38885,
             "test": [
              0.9181666975,
              0.202464796
             ]
            },
            {
             "iteration": 470,
             "learn": [
              0.9816876935,
              0.08238564459
             ],
             "passed_time": 577.0835155,
             "remaining_time": 11675.22042,
             "test": [
              0.9183463778,
              0.2025107735
             ]
            },
            {
             "iteration": 471,
             "learn": [
              0.9817787053,
              0.08228202685
             ],
             "passed_time": 578.2339723,
             "remaining_time": 11672.48578,
             "test": [
              0.918527858,
              0.2025727164
             ]
            },
            {
             "iteration": 472,
             "learn": [
              0.9817333942,
              0.08211827624
             ],
             "passed_time": 579.5296847,
             "remaining_time": 11672.68352,
             "test": [
              0.9183453799,
              0.2026525144
             ]
            },
            {
             "iteration": 473,
             "learn": [
              0.9819157929,
              0.08191325255
             ],
             "passed_time": 580.8425582,
             "remaining_time": 11673.21985,
             "test": [
              0.9183540899,
              0.2026415136
             ]
            },
            {
             "iteration": 474,
             "learn": [
              0.9817795619,
              0.08185360911
             ],
             "passed_time": 582.6454471,
             "remaining_time": 11683.57449,
             "test": [
              0.9181748667,
              0.2026623545
             ]
            },
            {
             "iteration": 475,
             "learn": [
              0.9819157437,
              0.08168168302
             ],
             "passed_time": 584.2195565,
             "remaining_time": 11689.30054,
             "test": [
              0.9179924328,
              0.2026577287
             ]
            },
            {
             "iteration": 476,
             "learn": [
              0.9820521919,
              0.08155542551
             ],
             "passed_time": 585.6623735,
             "remaining_time": 11692.37481,
             "test": [
              0.9183550026,
              0.2026156592
             ]
            },
            {
             "iteration": 477,
             "learn": [
              0.982097541,
              0.08148357618
             ],
             "passed_time": 586.9520143,
             "remaining_time": 11692.37883,
             "test": [
              0.9181761568,
              0.2026104983
             ]
            },
            {
             "iteration": 478,
             "learn": [
              0.9821884015,
              0.08138225578
             ],
             "passed_time": 588.1709767,
             "remaining_time": 11690.97259,
             "test": [
              0.9183552459,
              0.2026708465
             ]
            },
            {
             "iteration": 479,
             "learn": [
              0.9823246176,
              0.08114678165
             ],
             "passed_time": 589.5820726,
             "remaining_time": 11693.37777,
             "test": [
              0.9187144234,
              0.2025913407
             ]
            },
            {
             "iteration": 480,
             "learn": [
              0.9825515575,
              0.08087358562
             ],
             "passed_time": 590.9359331,
             "remaining_time": 11694.6344,
             "test": [
              0.9187119016,
              0.2026088175
             ]
            },
            {
             "iteration": 481,
             "learn": [
              0.9825513403,
              0.08070635961
             ],
             "passed_time": 592.2746022,
             "remaining_time": 11695.58021,
             "test": [
              0.9192435906,
              0.2026563759
             ]
            },
            {
             "iteration": 482,
             "learn": [
              0.9826875494,
              0.08054449768
             ],
             "passed_time": 593.3641491,
             "remaining_time": 11691.60788,
             "test": [
              0.919062148,
              0.2027884065
             ]
            },
            {
             "iteration": 483,
             "learn": [
              0.9829146125,
              0.08027055325
             ],
             "passed_time": 594.7202445,
             "remaining_time": 11692.88811,
             "test": [
              0.9189348651,
              0.2029324308
             ]
            },
            {
             "iteration": 484,
             "learn": [
              0.9827329921,
              0.08011046418
             ],
             "passed_time": 595.885037,
             "remaining_time": 11690.40439,
             "test": [
              0.9189170467,
              0.2030312984
             ]
            },
            {
             "iteration": 485,
             "learn": [
              0.9824151528,
              0.07992966347
             ],
             "passed_time": 597.0377639,
             "remaining_time": 11687.68989,
             "test": [
              0.9196399207,
              0.2029340533
             ]
            },
            {
             "iteration": 486,
             "learn": [
              0.982642243,
              0.07983490581
             ],
             "passed_time": 598.4020848,
             "remaining_time": 11689.11506,
             "test": [
              0.9192790021,
              0.2028905116
             ]
            },
            {
             "iteration": 487,
             "learn": [
              0.9828238969,
              0.07964592353
             ],
             "passed_time": 599.6501775,
             "remaining_time": 11688.2633,
             "test": [
              0.9184890857,
              0.2028895684
             ]
            },
            {
             "iteration": 488,
             "learn": [
              0.9829148523,
              0.07947793162
             ],
             "passed_time": 601.0644518,
             "remaining_time": 11690.64213,
             "test": [
              0.9185428888,
              0.2029525985
             ]
            },
            {
             "iteration": 489,
             "learn": [
              0.9830511042,
              0.07933021288
             ],
             "passed_time": 602.390517,
             "remaining_time": 11691.2935,
             "test": [
              0.9183138831,
              0.2028775364
             ]
            },
            {
             "iteration": 490,
             "learn": [
              0.9831418801,
              0.07910887991
             ],
             "passed_time": 603.7807771,
             "remaining_time": 11693.18006,
             "test": [
              0.9184904312,
              0.2030169618
             ]
            },
            {
             "iteration": 491,
             "learn": [
              0.9832783252,
              0.07886438212
             ],
             "passed_time": 605.1564731,
             "remaining_time": 11694.77184,
             "test": [
              0.9179464637,
              0.2029736255
             ]
            },
            {
             "iteration": 492,
             "learn": [
              0.9832783026,
              0.07877356251
             ],
             "passed_time": 606.5353544,
             "remaining_time": 11696.41301,
             "test": [
              0.9179970659,
              0.2029665151
             ]
            },
            {
             "iteration": 493,
             "learn": [
              0.9835052137,
              0.07866794286
             ],
             "passed_time": 607.8544022,
             "remaining_time": 11696.89058,
             "test": [
              0.9183570849,
              0.2029252401
             ]
            },
            {
             "iteration": 494,
             "learn": [
              0.9835052137,
              0.07857893973
             ],
             "passed_time": 609.3147802,
             "remaining_time": 11700.07472,
             "test": [
              0.9185386621,
              0.2029412031
             ]
            },
            {
             "iteration": 495,
             "learn": [
              0.9835960943,
              0.07828377995
             ],
             "passed_time": 610.7439406,
             "remaining_time": 11702.64196,
             "test": [
              0.9187592142,
              0.2030512668
             ]
            },
            {
             "iteration": 496,
             "learn": [
              0.9835961525,
              0.07809165405
             ],
             "passed_time": 612.1521258,
             "remaining_time": 11704.79205,
             "test": [
              0.9187568187,
              0.2030723128
             ]
            },
            {
             "iteration": 497,
             "learn": [
              0.9837323172,
              0.07784670659
             ],
             "passed_time": 613.6051636,
             "remaining_time": 11707.78366,
             "test": [
              0.9191164373,
              0.2029914256
             ]
            },
            {
             "iteration": 498,
             "learn": [
              0.9839138958,
              0.07751725666
             ],
             "passed_time": 615.2866452,
             "remaining_time": 11715.10705,
             "test": [
              0.9193014781,
              0.2029426122
             ]
            },
            {
             "iteration": 499,
             "learn": [
              0.9839138597,
              0.07734077564
             ],
             "passed_time": 616.5148367,
             "remaining_time": 11713.7819,
             "test": [
              0.9191217433,
              0.2028847183
             ]
            },
            {
             "iteration": 500,
             "learn": [
              0.98386845,
              0.07723788927
             ],
             "passed_time": 617.6269684,
             "remaining_time": 11710.25663,
             "test": [
              0.9193014781,
              0.2027744599
             ]
            },
            {
             "iteration": 501,
             "learn": [
              0.9839138266,
              0.07712107699
             ],
             "passed_time": 618.6422104,
             "remaining_time": 11704.9078,
             "test": [
              0.9189420132,
              0.202757954
             ]
            },
            {
             "iteration": 502,
             "learn": [
              0.9840047877,
              0.07696930858
             ],
             "passed_time": 619.9600831,
             "remaining_time": 11705.29008,
             "test": [
              0.9185834681,
              0.2028022695
             ]
            },
            {
             "iteration": 503,
             "learn": [
              0.9842317736,
              0.07675380881
             ],
             "passed_time": 621.3058417,
             "remaining_time": 11706.19102,
             "test": [
              0.9185852363,
              0.2028268221
             ]
            },
            {
             "iteration": 504,
             "learn": [
              0.9843683622,
              0.07662921098
             ],
             "passed_time": 622.6403414,
             "remaining_time": 11706.87137,
             "test": [
              0.9185862997,
              0.2028622951
             ]
            },
            {
             "iteration": 505,
             "learn": [
              0.9843683501,
              0.07652687299
             ],
             "passed_time": 624.0565647,
             "remaining_time": 11709.07713,
             "test": [
              0.9189458713,
              0.2028191112
             ]
            },
            {
             "iteration": 506,
             "learn": [
              0.9843684229,
              0.07640071349
             ],
             "passed_time": 625.3028016,
             "remaining_time": 11708.08579,
             "test": [
              0.9189484913,
              0.2027930323
             ]
            },
            {
             "iteration": 507,
             "learn": [
              0.9844137697,
              0.07629883667
             ],
             "passed_time": 626.5034279,
             "remaining_time": 11706.24122,
             "test": [
              0.9189484913,
              0.2027677924
             ]
            },
            {
             "iteration": 508,
             "learn": [
              0.9843683906,
              0.07621442558
             ],
             "passed_time": 627.705295,
             "remaining_time": 11704.42231,
             "test": [
              0.9191276683,
              0.2027425171
             ]
            },
            {
             "iteration": 509,
             "learn": [
              0.984550482,
              0.07596987408
             ],
             "passed_time": 628.8465251,
             "remaining_time": 11701.4775,
             "test": [
              0.9187687047,
              0.2027085227
             ]
            },
            {
             "iteration": 510,
             "learn": [
              0.9846866917,
              0.07579270641
             ],
             "passed_time": 630.0428886,
             "remaining_time": 11699.56354,
             "test": [
              0.9187687047,
              0.2026908611
             ]
            },
            {
             "iteration": 511,
             "learn": [
              0.9847774539,
              0.07557571359
             ],
             "passed_time": 631.2863226,
             "remaining_time": 11698.52467,
             "test": [
              0.9187602434,
              0.2026668956
             ]
            },
            {
             "iteration": 512,
             "learn": [
              0.9848682194,
              0.07545098572
             ],
             "passed_time": 632.7235801,
             "remaining_time": 11701.0694,
             "test": [
              0.9189400343,
              0.2026236336
             ]
            },
            {
             "iteration": 513,
             "learn": [
              0.9850045663,
              0.07520999658
             ],
             "passed_time": 634.0332352,
             "remaining_time": 11701.24371,
             "test": [
              0.9191204049,
              0.2026397088
             ]
            },
            {
             "iteration": 514,
             "learn": [
              0.9850501629,
              0.07514058022
             ],
             "passed_time": 635.0723988,
             "remaining_time": 11696.43049,
             "test": [
              0.9191204049,
              0.2025676271
             ]
            },
            {
             "iteration": 515,
             "learn": [
              0.9850501629,
              0.07499220279
             ],
             "passed_time": 636.413767,
             "remaining_time": 11697.18637,
             "test": [
              0.9185804569,
              0.2026184237
             ]
            },
            {
             "iteration": 516,
             "learn": [
              0.9852318723,
              0.07483125164
             ],
             "passed_time": 637.5290949,
             "remaining_time": 11693.78802,
             "test": [
              0.9191198296,
              0.2026815266
             ]
            },
            {
             "iteration": 517,
             "learn": [
              0.9852319087,
              0.07470689558
             ],
             "passed_time": 638.9612113,
             "remaining_time": 11696.19731,
             "test": [
              0.9189400343,
              0.2027268521
             ]
            },
            {
             "iteration": 518,
             "learn": [
              0.9852316496,
              0.07449175183
             ],
             "passed_time": 640.4900234,
             "remaining_time": 11700.35821,
             "test": [
              0.9194819573,
              0.2028538438
             ]
            },
            {
             "iteration": 519,
             "learn": [
              0.9851863602,
              0.07422928027
             ],
             "passed_time": 641.8610323,
             "remaining_time": 11701.62036,
             "test": [
              0.9190803639,
              0.2027663196
             ]
            },
            {
             "iteration": 520,
             "learn": [
              0.9852771143,
              0.0741308543
             ],
             "passed_time": 642.9596837,
             "remaining_time": 11697.91716,
             "test": [
              0.9192679979,
              0.2027150199
             ]
            },
            {
             "iteration": 521,
             "learn": [
              0.9852771329,
              0.07403373847
             ],
             "passed_time": 644.3799185,
             "remaining_time": 11700.06296,
             "test": [
              0.9192679979,
              0.2027685212
             ]
            },
            {
             "iteration": 522,
             "learn": [
              0.9853679398,
              0.07395858416
             ],
             "passed_time": 645.9688207,
             "remaining_time": 11705.25146,
             "test": [
              0.9192654819,
              0.2027686762
             ]
            },
            {
             "iteration": 523,
             "learn": [
              0.9855495738,
              0.07378194895
             ],
             "passed_time": 647.357725,
             "remaining_time": 11706.79733,
             "test": [
              0.9196158793,
              0.2028209116
             ]
            },
            {
             "iteration": 524,
             "learn": [
              0.985458798,
              0.07368023785
             ],
             "passed_time": 648.7951663,
             "remaining_time": 11709.208,
             "test": [
              0.9192487457,
              0.2028303656
             ]
            },
            {
             "iteration": 525,
             "learn": [
              0.9854133449,
              0.07354361734
             ],
             "passed_time": 650.3590272,
             "remaining_time": 11713.88103,
             "test": [
              0.919793063,
              0.202836588
             ]
            },
            {
             "iteration": 526,
             "learn": [
              0.9854133449,
              0.07345794142
             ],
             "passed_time": 651.6206339,
             "remaining_time": 11713.09728,
             "test": [
              0.9196108209,
              0.2028177639
             ]
            },
            {
             "iteration": 527,
             "learn": [
              0.9853679166,
              0.07337242664
             ],
             "passed_time": 653.1092629,
             "remaining_time": 11716.38435,
             "test": [
              0.9196120814,
              0.2028513942
             ]
            },
            {
             "iteration": 528,
             "learn": [
              0.9855949419,
              0.07314229069
             ],
             "passed_time": 654.3636841,
             "remaining_time": 11715.46021,
             "test": [
              0.9199321966,
              0.2027471246
             ]
            },
            {
             "iteration": 529,
             "learn": [
              0.985776622,
              0.07296087137
             ],
             "passed_time": 655.5221761,
             "remaining_time": 11712.82077,
             "test": [
              0.9202943286,
              0.2028114746
             ]
            },
            {
             "iteration": 530,
             "learn": [
              0.9858220036,
              0.07277912824
             ],
             "passed_time": 656.8807646,
             "remaining_time": 11713.7551,
             "test": [
              0.9204754441,
              0.2026346247
             ]
            },
            {
             "iteration": 531,
             "learn": [
              0.985867414,
              0.07266580736
             ],
             "passed_time": 657.8966201,
             "remaining_time": 11708.5812,
             "test": [
              0.919611148,
              0.2025915161
             ]
            },
            {
             "iteration": 532,
             "learn": [
              0.9859130197,
              0.07250616269
             ],
             "passed_time": 659.0108412,
             "remaining_time": 11705.17004,
             "test": [
              0.919611148,
              0.2024262536
             ]
            },
            {
             "iteration": 533,
             "learn": [
              0.9859130953,
              0.07240363977
             ],
             "passed_time": 660.3060456,
             "remaining_time": 11704.97571,
             "test": [
              0.919790262,
              0.20241429
             ]
            },
            {
             "iteration": 534,
             "learn": [
              0.9860494463,
              0.07225482588
             ],
             "passed_time": 661.8163802,
             "remaining_time": 11708.58325,
             "test": [
              0.9199726618,
              0.2024180127
             ]
            },
            {
             "iteration": 535,
             "learn": [
              0.9862311735,
              0.07221729704
             ],
             "passed_time": 663.3479982,
             "remaining_time": 11712.54749,
             "test": [
              0.9199726618,
              0.2023809904
             ]
            },
            {
             "iteration": 536,
             "learn": [
              0.9862311735,
              0.07214162996
             ],
             "passed_time": 664.6936829,
             "remaining_time": 11713.21475,
             "test": [
              0.9199726618,
              0.2023843655
             ]
            },
            {
             "iteration": 537,
             "learn": [
              0.9861857231,
              0.07201252603
             ],
             "passed_time": 665.9837528,
             "remaining_time": 11712.89641,
             "test": [
              0.9199726618,
              0.2023752319
             ]
            },
            {
             "iteration": 538,
             "learn": [
              0.9861402938,
              0.0718136348
             ],
             "passed_time": 667.2737942,
             "remaining_time": 11712.57396,
             "test": [
              0.9203416541,
              0.2024428347
             ]
            },
            {
             "iteration": 539,
             "learn": [
              0.9861402938,
              0.07169751071
             ],
             "passed_time": 668.4579604,
             "remaining_time": 11710.39316,
             "test": [
              0.9201614233,
              0.2024075376
             ]
            },
            {
             "iteration": 540,
             "learn": [
              0.98632189,
              0.07156849313
             ],
             "passed_time": 669.6766218,
             "remaining_time": 11708.81916,
             "test": [
              0.9201598802,
              0.2025143246
             ]
            },
            {
             "iteration": 541,
             "learn": [
              0.9863673936,
              0.07149134983
             ],
             "passed_time": 670.9328658,
             "remaining_time": 11707.9023,
             "test": [
              0.9200130468,
              0.2025171151
             ]
            },
            {
             "iteration": 542,
             "learn": [
              0.9863673332,
              0.07142041198
             ],
             "passed_time": 672.1860334,
             "remaining_time": 11706.9306,
             "test": [
              0.9196518198,
              0.2025626387
             ]
            },
            {
             "iteration": 543,
             "learn": [
              0.9865490682,
              0.07130595228
             ],
             "passed_time": 673.6437703,
             "remaining_time": 11709.51377,
             "test": [
              0.9192502311,
              0.202658745
             ]
            },
            {
             "iteration": 544,
             "learn": [
              0.9865490682,
              0.07112294027
             ],
             "passed_time": 674.9662604,
             "remaining_time": 11709.73577,
             "test": [
              0.9192422032,
              0.2027093281
             ]
            },
            {
             "iteration": 545,
             "learn": [
              0.9865490001,
              0.07104595833
             ],
             "passed_time": 676.2190986,
             "remaining_time": 11708.74608,
             "test": [
              0.9192422032,
              0.2028297245
             ]
            },
            {
             "iteration": 546,
             "learn": [
              0.9865490682,
              0.07094692104
             ],
             "passed_time": 677.6751606,
             "remaining_time": 11711.26745,
             "test": [
              0.9196103021,
              0.2028640435
             ]
            },
            {
             "iteration": 547,
             "learn": [
              0.9868216521,
              0.07081343375
             ],
             "passed_time": 679.2988835,
             "remaining_time": 11716.66614,
             "test": [
              0.9196103021,
              0.2027661678
             ]
            },
            {
             "iteration": 548,
             "learn": [
              0.9868670664,
              0.07062467931
             ],
             "passed_time": 680.7856593,
             "remaining_time": 11719.68172,
             "test": [
              0.91926007,
              0.2027897655
             ]
            },
            {
             "iteration": 549,
             "learn": [
              0.9869127328,
              0.07040278987
             ],
             "passed_time": 681.8437164,
             "remaining_time": 11715.31476,
             "test": [
              0.919637351,
              0.2025895912
             ]
            },
            {
             "iteration": 550,
             "learn": [
              0.9870489454,
              0.07029227479
             ],
             "passed_time": 683.1128106,
             "remaining_time": 11714.57885,
             "test": [
              0.9197990027,
              0.2025777712
             ]
            },
            {
             "iteration": 551,
             "learn": [
              0.9870943367,
              0.07010881828
             ],
             "passed_time": 684.5292955,
             "remaining_time": 11716.36374,
             "test": [
              0.9197990027,
              0.2025567062
             ]
            },
            {
             "iteration": 552,
             "learn": [
              0.9870035532,
              0.06994785526
             ],
             "passed_time": 685.9231223,
             "remaining_time": 11717.74998,
             "test": [
              0.9199793374,
              0.2026357291
             ]
            },
            {
             "iteration": 553,
             "learn": [
              0.9871399863,
              0.06985084479
             ],
             "passed_time": 687.1811239,
             "remaining_time": 11716.81028,
             "test": [
              0.9203394453,
              0.2026511748
             ]
            },
            {
             "iteration": 554,
             "learn": [
              0.987321642,
              0.0696228811
             ],
             "passed_time": 688.4092745,
             "remaining_time": 11715.36144,
             "test": [
              0.9203419969,
              0.2025205599
             ]
            },
            {
             "iteration": 555,
             "learn": [
              0.9872308294,
              0.06940763234
             ],
             "passed_time": 689.6511034,
             "remaining_time": 11714.14572,
             "test": [
              0.920845776,
              0.20247555
             ]
            },
            {
             "iteration": 556,
             "learn": [
              0.9873216837,
              0.06917584216
             ],
             "passed_time": 690.5492854,
             "remaining_time": 11707.10395,
             "test": [
              0.9203430578,
              0.202535104
             ]
            },
            {
             "iteration": 557,
             "learn": [
              0.9873671039,
              0.06906149935
             ],
             "passed_time": 691.9929068,
             "remaining_time": 11709.31367,
             "test": [
              0.9201632931,
              0.2026132879
             ]
            },
            {
             "iteration": 558,
             "learn": [
              0.9873216837,
              0.06893346728
             ],
             "passed_time": 693.4002242,
             "remaining_time": 11710.89717,
             "test": [
              0.9201632931,
              0.2027350712
             ]
            },
            {
             "iteration": 559,
             "learn": [
              0.9874125344,
              0.06872855522
             ],
             "passed_time": 694.458581,
             "remaining_time": 11706.58751,
             "test": [
              0.9201632931,
              0.2028612426
             ]
            },
            {
             "iteration": 560,
             "learn": [
              0.9875035904,
              0.06861593778
             ],
             "passed_time": 695.5894797,
             "remaining_time": 11703.50998,
             "test": [
              0.9201632931,
              0.2028172412
             ]
            },
            {
             "iteration": 561,
             "learn": [
              0.9875035904,
              0.06847938794
             ],
             "passed_time": 696.8544904,
             "remaining_time": 11702.6916,
             "test": [
              0.9201615884,
              0.2028773401
             ]
            },
            {
             "iteration": 562,
             "learn": [
              0.9875944721,
              0.06836713924
             ],
             "passed_time": 698.1742394,
             "remaining_time": 11702.78916,
             "test": [
              0.9201615884,
              0.2028946499
             ]
            },
            {
             "iteration": 563,
             "learn": [
              0.9875490756,
              0.06830963649
             ],
             "passed_time": 699.4486773,
             "remaining_time": 11702.12361,
             "test": [
              0.9203430578,
              0.2030097847
             ]
            },
            {
             "iteration": 564,
             "learn": [
              0.9876852738,
              0.06809101342
             ],
             "passed_time": 700.5824808,
             "remaining_time": 11699.10745,
             "test": [
              0.9201615884,
              0.2030599612
             ]
            },
            {
             "iteration": 565,
             "learn": [
              0.9877307688,
              0.06795821074
             ],
             "passed_time": 701.6399655,
             "remaining_time": 11694.82586,
             "test": [
              0.9196333547,
              0.2030962582
             ]
            },
            {
             "iteration": 566,
             "learn": [
              0.987639885,
              0.06785968237
             ],
             "passed_time": 703.004459,
             "remaining_time": 11695.66325,
             "test": [
              0.9198148561,
              0.2031364429
             ]
            },
            {
             "iteration": 567,
             "learn": [
              0.9877761674,
              0.06773652178
             ],
             "passed_time": 704.350841,
             "remaining_time": 11696.19213,
             "test": [
              0.9196350447,
              0.2030771851
             ]
            },
            {
             "iteration": 568,
             "learn": [
              0.9878216002,
              0.06766228773
             ],
             "passed_time": 705.7257788,
             "remaining_time": 11697.18773,
             "test": [
              0.9199852768,
              0.2030186222
             ]
            },
            {
             "iteration": 569,
             "learn": [
              0.987866998,
              0.06758447276
             ],
             "passed_time": 706.9388346,
             "remaining_time": 11695.49686,
             "test": [
              0.9199852768,
              0.2030427223
             ]
            },
            {
             "iteration": 570,
             "learn": [
              0.9877308268,
              0.06741272231
             ],
             "passed_time": 708.2651848,
             "remaining_time": 11695.67851,
             "test": [
              0.9196333547,
              0.203094778
             ]
            },
            {
             "iteration": 571,
             "learn": [
              0.9878670781,
              0.06708629833
             ],
             "passed_time": 709.9569014,
             "remaining_time": 11701.87704,
             "test": [
              0.9198137611,
              0.203110914
             ]
            },
            {
             "iteration": 572,
             "learn": [
              0.9879125529,
              0.06690613025
             ],
             "passed_time": 711.1323658,
             "remaining_time": 11699.55465,
             "test": [
              0.9199859753,
              0.2030100752
             ]
            },
            {
             "iteration": 573,
             "learn": [
              0.9878216864,
              0.06682400316
             ],
             "passed_time": 712.4871577,
             "remaining_time": 11700.1811,
             "test": [
              0.9199859753,
              0.2030199185
             ]
            },
            {
             "iteration": 574,
             "learn": [
              0.9879125502,
              0.06674559341
             ],
             "passed_time": 714.014257,
             "remaining_time": 11703.625,
             "test": [
              0.9201674464,
              0.2029993885
             ]
            },
            {
             "iteration": 575,
             "learn": [
              0.9879125036,
              0.06666707246
             ],
             "passed_time": 715.3125899,
             "remaining_time": 11703.30876,
             "test": [
              0.9204897037,
              0.2029462149
             ]
            },
            {
             "iteration": 576,
             "learn": [
              0.9879579329,
              0.06654373837
             ],
             "passed_time": 716.8459876,
             "remaining_time": 11706.82797,
             "test": [
              0.9201674464,
              0.2028977658
             ]
            },
            {
             "iteration": 577,
             "learn": [
              0.9880033747,
              0.06637281631
             ],
             "passed_time": 717.9791404,
             "remaining_time": 11703.8053,
             "test": [
              0.9203472126,
              0.2029204078
             ]
            },
            {
             "iteration": 578,
             "learn": [
              0.9880942195,
              0.06621727079
             ],
             "passed_time": 719.2909874,
             "remaining_time": 11703.6967,
             "test": [
              0.9203472126,
              0.203017381
             ]
            },
            {
             "iteration": 579,
             "learn": [
              0.9883213424,
              0.06580359748
             ],
             "passed_time": 720.5540082,
             "remaining_time": 11702.79096,
             "test": [
              0.9203432083,
              0.2030708512
             ]
            },
            {
             "iteration": 580,
             "learn": [
              0.9884121723,
              0.06569447237
             ],
             "passed_time": 721.9845577,
             "remaining_time": 11704.59991,
             "test": [
              0.920342825,
              0.2031533517
             ]
            },
            {
             "iteration": 581,
             "learn": [
              0.9886848962,
              0.06551954573
             ],
             "passed_time": 723.474151,
             "remaining_time": 11707.35319,
             "test": [
              0.9208843779,
              0.2032591211
             ]
            },
            {
             "iteration": 582,
             "learn": [
              0.9886394051,
              0.06533272901
             ],
             "passed_time": 724.8989693,
             "remaining_time": 11709.04562,
             "test": [
              0.9198044539,
              0.203368487
             ]
            },
            {
             "iteration": 583,
             "learn": [
              0.9887304394,
              0.06517422547
             ],
             "passed_time": 726.2841214,
             "remaining_time": 11710.08782,
             "test": [
              0.9199843658,
              0.2033946403
             ]
            },
            {
             "iteration": 584,
             "learn": [
              0.9886850125,
              0.06503321103
             ],
             "passed_time": 727.5474612,
             "remaining_time": 11709.16128,
             "test": [
              0.9199843658,
              0.2034636299
             ]
            },
            {
             "iteration": 585,
             "learn": [
              0.9887758057,
              0.06486766538
             ],
             "passed_time": 728.5937247,
             "remaining_time": 11704.74629,
             "test": [
              0.9205259662,
              0.2035057196
             ]
            },
            {
             "iteration": 586,
             "learn": [
              0.9888668361,
              0.06470592865
             ],
             "passed_time": 729.9325009,
             "remaining_time": 11705.03344,
             "test": [
              0.9205275591,
              0.2035848012
             ]
            },
            {
             "iteration": 587,
             "learn": [
              0.988821396,
              0.06460627376
             ],
             "passed_time": 731.0809449,
             "remaining_time": 11702.26846,
             "test": [
              0.9203492424,
              0.2036453918
             ]
            },
            {
             "iteration": 588,
             "learn": [
              0.9890485504,
              0.06440979091
             ],
             "passed_time": 732.408188,
             "remaining_time": 11702.3658,
             "test": [
              0.9205362216,
              0.203736173
             ]
            },
            {
             "iteration": 589,
             "learn": [
              0.9891848307,
              0.06426313445
             ],
             "passed_time": 733.7466786,
             "remaining_time": 11702.6377,
             "test": [
              0.9203535747,
              0.2037827445
             ]
            },
            {
             "iteration": 590,
             "learn": [
              0.9892302692,
              0.06420121633
             ],
             "passed_time": 735.1065032,
             "remaining_time": 11703.2438,
             "test": [
              0.9205380973,
              0.2038018946
             ]
            },
            {
             "iteration": 591,
             "learn": [
              0.9892302692,
              0.06409913518
             ],
             "passed_time": 736.399574,
             "remaining_time": 11702.78242,
             "test": [
              0.9205368942,
              0.2037991601
             ]
            },
            {
             "iteration": 592,
             "learn": [
              0.9892302692,
              0.064022733
             ],
             "passed_time": 737.3368867,
             "remaining_time": 11696.67469,
             "test": [
              0.920353945,
              0.2037735946
             ]
            },
            {
             "iteration": 593,
             "learn": [
              0.9891848826,
              0.06386386975
             ],
             "passed_time": 738.9241064,
             "remaining_time": 11700.87566,
             "test": [
              0.9207142148,
              0.2037793488
             ]
            },
            {
             "iteration": 594,
             "learn": [
              0.9892303181,
              0.06384188051
             ],
             "passed_time": 740.3226909,
             "remaining_time": 11702.07547,
             "test": [
              0.9205343439,
              0.2038162025
             ]
            },
            {
             "iteration": 595,
             "learn": [
              0.9891848794,
              0.06377487626
             ],
             "passed_time": 741.5806895,
             "remaining_time": 11701.04833,
             "test": [
              0.9205343439,
              0.2037958231
             ]
            },
            {
             "iteration": 596,
             "learn": [
              0.9893666355,
              0.06364341949
             ],
             "passed_time": 743.0207688,
             "remaining_time": 11702.88826,
             "test": [
              0.9205343439,
              0.2039072616
             ]
            },
            {
             "iteration": 597,
             "learn": [
              0.9894574692,
              0.06354291779
             ],
             "passed_time": 743.9027992,
             "remaining_time": 11695.94334,
             "test": [
              0.9205325496,
              0.2037764949
             ]
            },
            {
             "iteration": 598,
             "learn": [
              0.9895028854,
              0.06340785414
             ],
             "passed_time": 745.0797622,
             "remaining_time": 11693.64749,
             "test": [
              0.92071466,
              0.203774202
             ]
            },
            {
             "iteration": 599,
             "learn": [
              0.9895937521,
              0.06326095727
             ],
             "passed_time": 746.3259737,
             "remaining_time": 11692.44025,
             "test": [
              0.9203471955,
              0.2039314553
             ]
            },
            {
             "iteration": 600,
             "learn": [
              0.9895937938,
              0.06321176933
             ],
             "passed_time": 747.472957,
             "remaining_time": 11689.68107,
             "test": [
              0.9205357278,
              0.2039558495
             ]
            },
            {
             "iteration": 601,
             "learn": [
              0.9899117593,
              0.06304120283
             ],
             "passed_time": 748.8592087,
             "remaining_time": 11690.66253,
             "test": [
              0.9201744535,
              0.204171034
             ]
            },
            {
             "iteration": 602,
             "learn": [
              0.9898661924,
              0.06286446909
             ],
             "passed_time": 750.3148071,
             "remaining_time": 11692.71682,
             "test": [
              0.9201692097,
              0.2042411612
             ]
            },
            {
             "iteration": 603,
             "learn": [
              0.9899117629,
              0.06271187827
             ],
             "passed_time": 751.3209317,
             "remaining_time": 11687.76734,
             "test": [
              0.9199893401,
              0.2042224179
             ]
            },
            {
             "iteration": 604,
             "learn": [
              0.9898663471,
              0.06262204373
             ],
             "passed_time": 752.7389124,
             "remaining_time": 11689.22658,
             "test": [
              0.9199882332,
              0.2041495271
             ]
            },
            {
             "iteration": 605,
             "learn": [
              0.9898209337,
              0.06247847594
             ],
             "passed_time": 754.0511791,
             "remaining_time": 11689.03758,
             "test": [
              0.9198084232,
              0.2042056436
             ]
            },
            {
             "iteration": 606,
             "learn": [
              0.9896844877,
              0.06240749334
             ],
             "passed_time": 755.0706414,
             "remaining_time": 11684.3139,
             "test": [
              0.9196263217,
              0.204249146
             ]
            },
            {
             "iteration": 607,
             "learn": [
              0.9897299195,
              0.0622675287
             ],
             "passed_time": 756.5404474,
             "remaining_time": 11686.55902,
             "test": [
              0.9194526915,
              0.2043544727
             ]
            },
            {
             "iteration": 608,
             "learn": [
              0.9897299119,
              0.06217765194
             ],
             "passed_time": 758.0129657,
             "remaining_time": 11688.83376,
             "test": [
              0.9198231118,
              0.2043331335
             ]
            },
            {
             "iteration": 609,
             "learn": [
              0.9897299119,
              0.06211571031
             ],
             "passed_time": 759.4174111,
             "remaining_time": 11690.04834,
             "test": [
              0.9198231118,
              0.2043479973
             ]
            },
            {
             "iteration": 610,
             "learn": [
              0.9899115991,
              0.06193930214
             ],
             "passed_time": 760.797664,
             "remaining_time": 11690.8826,
             "test": [
              0.9200030194,
              0.2044937835
             ]
            },
            {
             "iteration": 611,
             "learn": [
              0.9900024615,
              0.06169598597
             ],
             "passed_time": 762.22089,
             "remaining_time": 11692.36882,
             "test": [
              0.9203665917,
              0.2044578713
             ]
            },
            {
             "iteration": 612,
             "learn": [
              0.9901387128,
              0.06146718013
             ],
             "passed_time": 763.4948506,
             "remaining_time": 11691.55981,
             "test": [
              0.9204033034,
              0.204513446
             ]
            },
            {
             "iteration": 613,
             "learn": [
              0.9900932965,
              0.06139855961
             ],
             "passed_time": 764.7961057,
             "remaining_time": 11691.16653,
             "test": [
              0.9204033034,
              0.2045517825
             ]
            },
            {
             "iteration": 614,
             "learn": [
              0.9901387128,
              0.06131880497
             ],
             "passed_time": 766.1097551,
             "remaining_time": 11690.95943,
             "test": [
              0.9204033034,
              0.2046026164
             ]
            },
            {
             "iteration": 615,
             "learn": [
              0.9901387128,
              0.06124950456
             ],
             "passed_time": 767.3689953,
             "remaining_time": 11689.91989,
             "test": [
              0.9202218074,
              0.2046293608
             ]
            },
            {
             "iteration": 616,
             "learn": [
              0.9902295694,
              0.0611129818
             ],
             "passed_time": 768.7613701,
             "remaining_time": 11690.90427,
             "test": [
              0.920222732,
              0.2046589899
             ]
            },
            {
             "iteration": 617,
             "learn": [
              0.9902295954,
              0.06104810177
             ],
             "passed_time": 770.1898991,
             "remaining_time": 11692.42983,
             "test": [
              0.920041239,
              0.2046691742
             ]
            },
            {
             "iteration": 618,
             "learn": [
              0.9902295694,
              0.06094765315
             ],
             "passed_time": 771.4461667,
             "remaining_time": 11691.3352,
             "test": [
              0.9204011875,
              0.2046469445
             ]
            },
            {
             "iteration": 619,
             "learn": [
              0.9903205674,
              0.06081101519
             ],
             "passed_time": 773.0392904,
             "remaining_time": 11695.33636,
             "test": [
              0.9202218074,
              0.2046280153
             ]
            },
            {
             "iteration": 620,
             "learn": [
              0.9903206224,
              0.0607389351
             ],
             "passed_time": 774.5659624,
             "remaining_time": 11698.31588,
             "test": [
              0.9202218074,
              0.2046349464
             ]
            },
            {
             "iteration": 621,
             "learn": [
              0.9905933408,
              0.06048820616
             ],
             "passed_time": 775.7533761,
             "remaining_time": 11696.16585,
             "test": [
              0.9207646649,
              0.2046400952
             ]
            },
            {
             "iteration": 622,
             "learn": [
              0.9905933756,
              0.06031034414
             ],
             "passed_time": 777.2072535,
             "remaining_time": 11698.02956,
             "test": [
              0.9207646649,
              0.204711116
             ]
            },
            {
             "iteration": 623,
             "learn": [
              0.9906842246,
              0.06016931226
             ],
             "passed_time": 778.7819093,
             "remaining_time": 11701.69741,
             "test": [
              0.9205841387,
              0.2046236497
             ]
            },
            {
             "iteration": 624,
             "learn": [
              0.9906842246,
              0.06012438329
             ],
             "passed_time": 780.2069729,
             "remaining_time": 11703.10459,
             "test": [
              0.9205841387,
              0.2045930892
             ]
            },
            {
             "iteration": 625,
             "learn": [
              0.9906387807,
              0.05999250427
             ],
             "passed_time": 781.383008,
             "remaining_time": 11700.77367,
             "test": [
              0.920943455,
              0.204644476
             ]
            },
            {
             "iteration": 626,
             "learn": [
              0.9908204426,
              0.05986305269
             ],
             "passed_time": 782.779615,
             "remaining_time": 11701.74375,
             "test": [
              0.9207635187,
              0.2045495565
             ]
            },
            {
             "iteration": 627,
             "learn": [
              0.9906387477,
              0.05970204423
             ],
             "passed_time": 783.8643394,
             "remaining_time": 11698.05189,
             "test": [
              0.920764793,
              0.2045655406
             ]
            },
            {
             "iteration": 628,
             "learn": [
              0.9906388071,
              0.05953578821
             ],
             "passed_time": 784.6956456,
             "remaining_time": 11690.59284,
             "test": [
              0.9209431452,
              0.2045286719
             ]
            },
            {
             "iteration": 629,
             "learn": [
              0.9906841644,
              0.05945145014
             ],
             "passed_time": 785.9057322,
             "remaining_time": 11688.78843,
             "test": [
              0.9211252693,
              0.2045692126
             ]
            },
            {
             "iteration": 630,
             "learn": [
              0.9908204459,
              0.05927841474
             ],
             "passed_time": 787.3116111,
             "remaining_time": 11689.893,
             "test": [
              0.9213067991,
              0.2045685195
             ]
            },
            {
             "iteration": 631,
             "learn": [
              0.9907295777,
              0.05917986837
             ],
             "passed_time": 788.6576611,
             "remaining_time": 11690.1028,
             "test": [
              0.9214936008,
              0.2047037308
             ]
            },
            {
             "iteration": 632,
             "learn": [
              0.9908204881,
              0.05907605205
             ],
             "passed_time": 789.9085176,
             "remaining_time": 11688.89903,
             "test": [
              0.9213079432,
              0.2047727037
             ]
            },
            {
             "iteration": 633,
             "learn": [
              0.9908659373,
              0.05890789468
             ],
             "passed_time": 791.3874376,
             "remaining_time": 11691.06426,
             "test": [
              0.9216226654,
              0.2048390548
             ]
            },
            {
             "iteration": 634,
             "learn": [
              0.9910022279,
              0.05865315016
             ],
             "passed_time": 792.7533084,
             "remaining_time": 11691.55076,
             "test": [
              0.9214428748,
              0.2049653317
             ]
            },
            {
             "iteration": 635,
             "learn": [
              0.9911386947,
              0.0585498073
             ],
             "passed_time": 794.1476348,
             "remaining_time": 11692.4504,
             "test": [
              0.9212977804,
              0.2048941466
             ]
            },
            {
             "iteration": 636,
             "learn": [
              0.9912295665,
              0.05842153517
             ],
             "passed_time": 795.3136673,
             "remaining_time": 11689.98723,
             "test": [
              0.9213039529,
              0.2048799969
             ]
            },
            {
             "iteration": 637,
             "learn": [
              0.9912294508,
              0.05828423361
             ],
             "passed_time": 796.4715865,
             "remaining_time": 11687.40908,
             "test": [
              0.9213039529,
              0.2049017582
             ]
            },
            {
             "iteration": 638,
             "learn": [
              0.9911841503,
              0.05819156762
             ],
             "passed_time": 797.5975267,
             "remaining_time": 11684.3669,
             "test": [
              0.9213055792,
              0.2049288225
             ]
            },
            {
             "iteration": 639,
             "learn": [
              0.991184163,
              0.05809711707
             ],
             "passed_time": 798.890617,
             "remaining_time": 11683.77527,
             "test": [
              0.921485422,
              0.2050026815
             ]
            },
            {
             "iteration": 640,
             "learn": [
              0.9912750256,
              0.05786216807
             ],
             "passed_time": 800.0815914,
             "remaining_time": 11681.69051,
             "test": [
              0.9209426612,
              0.205082527
             ]
            },
            {
             "iteration": 641,
             "learn": [
              0.9915021395,
              0.05761568718
             ],
             "passed_time": 801.2414336,
             "remaining_time": 11679.15473,
             "test": [
              0.9213062805,
              0.2051403256
             ]
            },
            {
             "iteration": 642,
             "learn": [
              0.9916384391,
              0.0574164776
             ],
             "passed_time": 802.5760394,
             "remaining_time": 11679.16641,
             "test": [
              0.920944797,
              0.205202931
             ]
            },
            {
             "iteration": 643,
             "learn": [
              0.9916839092,
              0.05727976376
             ],
             "passed_time": 803.8793094,
             "remaining_time": 11678.71866,
             "test": [
              0.9209514485,
              0.2052869375
             ]
            },
            {
             "iteration": 644,
             "learn": [
              0.9918656731,
              0.05705353273
             ],
             "passed_time": 805.4336435,
             "remaining_time": 11681.90967,
             "test": [
              0.9211320845,
              0.2053562467
             ]
            },
            {
             "iteration": 645,
             "learn": [
              0.9919110921,
              0.05698284848
             ],
             "passed_time": 806.8081782,
             "remaining_time": 11682.48251,
             "test": [
              0.9207728398,
              0.2053983101
             ]
            },
            {
             "iteration": 646,
             "learn": [
              0.9917748204,
              0.05683851183
             ],
             "passed_time": 807.8393682,
             "remaining_time": 11678.08595,
             "test": [
              0.9207731981,
              0.2053777771
             ]
            },
            {
             "iteration": 647,
             "learn": [
              0.9919565257,
              0.0565931091
             ],
             "passed_time": 809.4025057,
             "remaining_time": 11681.3769,
             "test": [
              0.9211416756,
              0.2054044241
             ]
            },
            {
             "iteration": 648,
             "learn": [
              0.9919110921,
              0.05648321651
             ],
             "passed_time": 810.6632935,
             "remaining_time": 11680.29655,
             "test": [
              0.9213206188,
              0.2054159007
             ]
            },
            {
             "iteration": 649,
             "learn": [
              0.9918656371,
              0.05636632397
             ],
             "passed_time": 811.8881107,
             "remaining_time": 11678.69821,
             "test": [
              0.9215086282,
              0.2053960984
             ]
            },
            {
             "iteration": 650,
             "learn": [
              0.9918656371,
              0.056322838
             ],
             "passed_time": 813.0796636,
             "remaining_time": 11676.62331,
             "test": [
              0.9211411017,
              0.2053901847
             ]
            },
            {
             "iteration": 651,
             "learn": [
              0.9919564955,
              0.05616211421
             ],
             "passed_time": 814.2041513,
             "remaining_time": 11673.58958,
             "test": [
              0.9205899049,
              0.2054470539
             ]
            },
            {
             "iteration": 652,
             "learn": [
              0.9920473649,
              0.05603798741
             ],
             "passed_time": 815.7035096,
             "remaining_time": 11675.92757,
             "test": [
              0.9205831174,
              0.2055577159
             ]
            },
            {
             "iteration": 653,
             "learn": [
              0.9919565149,
              0.05591691678
             ],
             "passed_time": 816.9721195,
             "remaining_time": 11674.95631,
             "test": [
              0.9203956914,
              0.2056920906
             ]
            },
            {
             "iteration": 654,
             "learn": [
              0.991865609,
              0.05583431705
             ],
             "passed_time": 818.3352222,
             "remaining_time": 11675.33229,
             "test": [
              0.9205842812,
              0.2057327669
             ]
            },
            {
             "iteration": 655,
             "learn": [
              0.9920473549,
              0.05577661309
             ],
             "passed_time": 819.7862124,
             "remaining_time": 11676.95483,
             "test": [
              0.9205842812,
              0.2057621405
             ]
            },
            {
             "iteration": 656,
             "learn": [
              0.9920019166,
              0.05568013531
             ],
             "passed_time": 821.0857353,
             "remaining_time": 11676.41404,
             "test": [
              0.9207633165,
              0.2058558743
             ]
            },
            {
             "iteration": 657,
             "learn": [
              0.9919564835,
              0.0556373175
             ],
             "passed_time": 822.5828144,
             "remaining_time": 11678.67576,
             "test": [
              0.9207633165,
              0.2058891695
             ]
            },
            {
             "iteration": 658,
             "learn": [
              0.9920018998,
              0.05552030293
             ],
             "passed_time": 824.0577573,
             "remaining_time": 11680.61231,
             "test": [
              0.9207637651,
              0.205929018
             ]
            },
            {
             "iteration": 659,
             "learn": [
              0.9922291237,
              0.05534420807
             ],
             "passed_time": 825.4514896,
             "remaining_time": 11681.38926,
             "test": [
              0.920771191,
              0.2059138956
             ]
            },
            {
             "iteration": 660,
             "learn": [
              0.9921836962,
              0.05529942767
             ],
             "passed_time": 826.8156203,
             "remaining_time": 11681.74142,
             "test": [
              0.920771191,
              0.2059923126
             ]
            },
            {
             "iteration": 661,
             "learn": [
              0.9923199807,
              0.05515005879
             ],
             "passed_time": 828.0063066,
             "remaining_time": 11679.64183,
             "test": [
              0.9207633165,
              0.2060194661
             ]
            },
            {
             "iteration": 662,
             "learn": [
              0.9923654022,
              0.05499295947
             ],
             "passed_time": 829.2158176,
             "remaining_time": 11677.81009,
             "test": [
              0.9205765047,
              0.2061465846
             ]
            },
            {
             "iteration": 663,
             "learn": [
              0.9924109907,
              0.05494204766
             ],
             "passed_time": 830.6976615,
             "remaining_time": 11679.80929,
             "test": [
              0.9209452527,
              0.2061980509
             ]
            },
            {
             "iteration": 664,
             "learn": [
              0.992410953,
              0.05478929715
             ],
             "passed_time": 832.1189985,
             "remaining_time": 11680.94865,
             "test": [
              0.9207654169,
              0.2062965999
             ]
            },
            {
             "iteration": 665,
             "learn": [
              0.9924564113,
              0.05473892153
             ],
             "passed_time": 833.4918354,
             "remaining_time": 11681.40059,
             "test": [
              0.9203973883,
              0.2062807311
             ]
            },
            {
             "iteration": 666,
             "learn": [
              0.9924109408,
              0.05458495468
             ],
             "passed_time": 834.8679922,
             "remaining_time": 11681.89351,
             "test": [
              0.920578839,
              0.2062846964
             ]
            },
            {
             "iteration": 667,
             "learn": [
              0.9924563728,
              0.05452859924
             ],
             "passed_time": 836.0680994,
             "remaining_time": 11679.92141,
             "test": [
              0.9213138621,
              0.2062824532
             ]
            },
            {
             "iteration": 668,
             "learn": [
              0.9924563545,
              0.05434329219
             ],
             "passed_time": 837.7152932,
             "remaining_time": 11684.18744,
             "test": [
              0.9214936005,
              0.2063612703
             ]
            },
            {
             "iteration": 669,
             "learn": [
              0.9925017697,
              0.05430159863
             ],
             "passed_time": 839.0953622,
             "remaining_time": 11684.71601,
             "test": [
              0.9213138621,
              0.2064118958
             ]
            },
            {
             "iteration": 670,
             "learn": [
              0.992547228,
              0.05422693157
             ],
             "passed_time": 840.227879,
             "remaining_time": 11681.79714,
             "test": [
              0.9213145456,
              0.2064677005
             ]
            },
            {
             "iteration": 671,
             "learn": [
              0.992547228,
              0.05413697548
             ],
             "passed_time": 841.0763618,
             "remaining_time": 11674.94093,
             "test": [
              0.9213138621,
              0.2064285662
             ]
            },
            {
             "iteration": 672,
             "learn": [
              0.9925472133,
              0.0540591848
             ],
             "passed_time": 842.4698838,
             "remaining_time": 11675.65618,
             "test": [
              0.9211331132,
              0.2064509522
             ]
            },
            {
             "iteration": 673,
             "learn": [
              0.9925472133,
              0.05399261512
             ],
             "passed_time": 843.8037515,
             "remaining_time": 11675.53974,
             "test": [
              0.9214995733,
              0.2064963797
             ]
            },
            {
             "iteration": 674,
             "learn": [
              0.9925926425,
              0.05385563238
             ],
             "passed_time": 844.8668718,
             "remaining_time": 11671.67938,
             "test": [
              0.921498378,
              0.2064814486
             ]
            },
            {
             "iteration": 675,
             "learn": [
              0.9925926425,
              0.05376976225
             ],
             "passed_time": 846.0749032,
             "remaining_time": 11669.82603,
             "test": [
              0.9214992273,
              0.2064372238
             ]
            },
            {
             "iteration": 676,
             "learn": [
              0.9925926425,
              0.05367604902
             ],
             "passed_time": 847.3184404,
             "remaining_time": 11668.46354,
             "test": [
              0.9213185381,
              0.2063002891
             ]
            },
            {
             "iteration": 677,
             "learn": [
              0.9926380854,
              0.05354311784
             ],
             "passed_time": 848.5494904,
             "remaining_time": 11666.92972,
             "test": [
              0.9216815296,
              0.2064269547
             ]
            },
            {
             "iteration": 678,
             "learn": [
              0.9926835153,
              0.05349510255
             ],
             "passed_time": 849.9829052,
             "remaining_time": 11668.17476,
             "test": [
              0.9213138621,
              0.20641084
             ]
            },
            {
             "iteration": 679,
             "learn": [
              0.9927289753,
              0.05340946888
             ],
             "passed_time": 851.2499859,
             "remaining_time": 11667.13216,
             "test": [
              0.9209533307,
              0.206466939
             ]
            },
            {
             "iteration": 680,
             "learn": [
              0.9928198782,
              0.05333068221
             ],
             "passed_time": 852.6500015,
             "remaining_time": 11667.90802,
             "test": [
              0.9209533307,
              0.2064945515
             ]
            },
            {
             "iteration": 681,
             "learn": [
              0.9929107198,
              0.05317545835
             ],
             "passed_time": 854.0016663,
             "remaining_time": 11668.0169,
             "test": [
              0.9209533307,
              0.2064995252
             ]
            },
            {
             "iteration": 682,
             "learn": [
              0.9928652813,
              0.05309611516
             ],
             "passed_time": 855.446871,
             "remaining_time": 11669.39751,
             "test": [
              0.9211407793,
              0.206540144
             ]
            },
            {
             "iteration": 683,
             "learn": [
              0.9928652813,
              0.05296383493
             ],
             "passed_time": 856.5664014,
             "remaining_time": 11666.3342,
             "test": [
              0.9211407793,
              0.2065792282
             ]
            },
            {
             "iteration": 684,
             "learn": [
              0.9930015507,
              0.05284573935
             ],
             "passed_time": 857.5889837,
             "remaining_time": 11661.95822,
             "test": [
              0.92114013,
              0.2065359017
             ]
            },
            {
             "iteration": 685,
             "learn": [
              0.9930469694,
              0.05278473826
             ],
             "passed_time": 858.6914879,
             "remaining_time": 11658.67714,
             "test": [
              0.92114013,
              0.2065320362
             ]
            },
            {
             "iteration": 686,
             "learn": [
              0.9930015507,
              0.05270824021
             ],
             "passed_time": 860.0311804,
             "remaining_time": 11658.61773,
             "test": [
              0.92114013,
              0.2065470047
             ]
            },
            {
             "iteration": 687,
             "learn": [
              0.9930469694,
              0.0526106496
             ],
             "passed_time": 861.3324157,
             "remaining_time": 11658.03409,
             "test": [
              0.9211433293,
              0.2065410322
             ]
            },
            {
             "iteration": 688,
             "learn": [
              0.993228701,
              0.05244684616
             ],
             "passed_time": 862.6889901,
             "remaining_time": 11658.19621,
             "test": [
              0.9209638979,
              0.20651951
             ]
            },
            {
             "iteration": 689,
             "learn": [
              0.9932741672,
              0.05240236064
             ],
             "passed_time": 863.911593,
             "remaining_time": 11656.54628,
             "test": [
              0.9211433293,
              0.2065448731
             ]
            },
            {
             "iteration": 690,
             "learn": [
              0.9932741672,
              0.0523084693
             ],
             "passed_time": 864.8373012,
             "remaining_time": 11650.89788,
             "test": [
              0.9209625497,
              0.2065964323
             ]
            },
            {
             "iteration": 691,
             "learn": [
              0.9933195974,
              0.05223248504
             ],
             "passed_time": 866.0193818,
             "remaining_time": 11648.71157,
             "test": [
              0.9207831182,
              0.2066537399
             ]
            },
            {
             "iteration": 692,
             "learn": [
              0.9933195974,
              0.05205987809
             ],
             "passed_time": 867.4477574,
             "remaining_time": 11649.8359,
             "test": [
              0.9216858876,
              0.2065958817
             ]
            },
            {
             "iteration": 693,
             "learn": [
              0.9933649872,
              0.05175830093
             ],
             "passed_time": 869.2142276,
             "remaining_time": 11655.48646,
             "test": [
              0.9216858876,
              0.2064520555
             ]
            },
            {
             "iteration": 694,
             "learn": [
              0.9934104507,
              0.0516301458
             ],
             "passed_time": 870.7040048,
             "remaining_time": 11657.41117,
             "test": [
              0.9215051502,
              0.2063963762
             ]
            },
            {
             "iteration": 695,
             "learn": [
              0.9933649918,
              0.05154452028
             ],
             "passed_time": 872.0728051,
             "remaining_time": 11657.70888,
             "test": [
              0.9215051502,
              0.2064212729
             ]
            },
            {
             "iteration": 696,
             "learn": [
              0.9934104221,
              0.05149029046
             ],
             "passed_time": 873.3144352,
             "remaining_time": 11656.30443,
             "test": [
              0.9216849337,
              0.2064915399
             ]
            },
            {
             "iteration": 697,
             "learn": [
              0.9935013169,
              0.05134396411
             ],
             "passed_time": 874.7001599,
             "remaining_time": 11656.82076,
             "test": [
              0.9216849337,
              0.2065155516
             ]
            },
            {
             "iteration": 698,
             "learn": [
              0.9937284571,
              0.05115097673
             ],
             "passed_time": 875.820471,
             "remaining_time": 11653.8,
             "test": [
              0.9214972097,
              0.2065333673
             ]
            },
            {
             "iteration": 699,
             "learn": [
              0.9937284571,
              0.05111970781
             ],
             "passed_time": 877.1830634,
             "remaining_time": 11654.00356,
             "test": [
              0.9213174784,
              0.2065374835
             ]
            },
            {
             "iteration": 700,
             "learn": [
              0.9936830217,
              0.0510072789
             ],
             "passed_time": 878.4002761,
             "remaining_time": 11652.27413,
             "test": [
              0.9214556496,
              0.2064448992
             ]
            },
            {
             "iteration": 701,
             "learn": [
              0.9937739194,
              0.05094370393
             ],
             "passed_time": 879.6618848,
             "remaining_time": 11651.1342,
             "test": [
              0.9214556496,
              0.2065013096
             ]
            },
            {
             "iteration": 702,
             "learn": [
              0.9937739249,
              0.05086183016
             ],
             "passed_time": 880.8066274,
             "remaining_time": 11648.44839,
             "test": [
              0.9212742595,
              0.2065943955
             ]
            },
            {
             "iteration": 703,
             "learn": [
              0.9937739249,
              0.05078975178
             ],
             "passed_time": 881.9727581,
             "remaining_time": 11646.04937,
             "test": [
              0.921454043,
              0.2065794438
             ]
            },
            {
             "iteration": 704,
             "learn": [
              0.993819354,
              0.05075683911
             ],
             "passed_time": 883.4032032,
             "remaining_time": 11647.13869,
             "test": [
              0.9214972097,
              0.206606066
             ]
            },
            {
             "iteration": 705,
             "learn": [
              0.9938648208,
              0.0507333191
             ],
             "passed_time": 884.6397426,
             "remaining_time": 11645.66823,
             "test": [
              0.9212663189,
              0.206647474
             ]
            },
            {
             "iteration": 706,
             "learn": [
              0.993819354,
              0.0506368382
             ],
             "passed_time": 885.929839,
             "remaining_time": 11644.9024,
             "test": [
              0.9210865876,
              0.2067629273
             ]
            },
            {
             "iteration": 707,
             "learn": [
              0.993819354,
              0.05055536266
             ],
             "passed_time": 887.2239822,
             "remaining_time": 11644.1882,
             "test": [
              0.9209134195,
              0.2067588526
             ]
            },
            {
             "iteration": 708,
             "learn": [
              0.9938193471,
              0.05039090333
             ],
             "passed_time": 888.5856398,
             "remaining_time": 11644.35709,
             "test": [
              0.9209153355,
              0.2067855325
             ]
            },
            {
             "iteration": 709,
             "learn": [
              0.9939557007,
              0.0502962855
             ],
             "passed_time": 889.7354213,
             "remaining_time": 11641.74939,
             "test": [
              0.9210899887,
              0.2067282896
             ]
            },
            {
             "iteration": 710,
             "learn": [
              0.99395566,
              0.05019210745
             ],
             "passed_time": 890.9647525,
             "remaining_time": 11640.18507,
             "test": [
              0.9210899887,
              0.2067045758
             ]
            },
            {
             "iteration": 711,
             "learn": [
              0.9940010994,
              0.05012255403
             ],
             "passed_time": 892.3685532,
             "remaining_time": 11640.89764,
             "test": [
              0.9209102022,
              0.2065946837
             ]
            },
            {
             "iteration": 712,
             "learn": [
              0.9940465446,
              0.050021608
             ],
             "passed_time": 893.8043311,
             "remaining_time": 11642.02079,
             "test": [
              0.9207287515,
              0.2066955025
             ]
            },
            {
             "iteration": 713,
             "learn": [
              0.9940465446,
              0.04995104818
             ],
             "passed_time": 894.9874849,
             "remaining_time": 11639.85124,
             "test": [
              0.9207287515,
              0.2066707675
             ]
            },
            {
             "iteration": 714,
             "learn": [
              0.9940919655,
              0.04983359655
             ],
             "passed_time": 896.4291841,
             "remaining_time": 11641.04192,
             "test": [
              0.9207202907,
              0.2066913017
             ]
            },
            {
             "iteration": 715,
             "learn": [
              0.9942283214,
              0.04971414504
             ],
             "passed_time": 897.8000657,
             "remaining_time": 11641.307,
             "test": [
              0.920901688,
              0.2066486096
             ]
            },
            {
             "iteration": 716,
             "learn": [
              0.9941829005,
              0.04962487735
             ],
             "passed_time": 899.1287659,
             "remaining_time": 11641.02139,
             "test": [
              0.9207218973,
              0.2066680648
             ]
            },
            {
             "iteration": 717,
             "learn": [
              0.9941829005,
              0.04957583301
             ],
             "passed_time": 900.9127654,
             "remaining_time": 11646.61879,
             "test": [
              0.920901688,
              0.2066596699
             ]
            },
            {
             "iteration": 718,
             "learn": [
              0.9942283735,
              0.04939907
             ],
             "passed_time": 902.3648111,
             "remaining_time": 11647.91073,
             "test": [
              0.9212612816,
              0.2068453077
             ]
            },
            {
             "iteration": 719,
             "learn": [
              0.9942283384,
              0.04925777497
             ],
             "passed_time": 903.8162678,
             "remaining_time": 11649.18745,
             "test": [
              0.9214921724,
              0.2068473558
             ]
            },
            {
             "iteration": 720,
             "learn": [
              0.9942283384,
              0.0491215944
             ],
             "passed_time": 905.358797,
             "remaining_time": 11651.62868,
             "test": [
              0.9210798702,
              0.2068805405
             ]
            },
            {
             "iteration": 721,
             "learn": [
              0.9942283384,
              0.04895280061
             ],
             "passed_time": 906.5366095,
             "remaining_time": 11649.37211,
             "test": [
              0.9213123735,
              0.2068473821
             ]
            },
            {
             "iteration": 722,
             "learn": [
              0.9942737755,
              0.04884650987
             ],
             "passed_time": 908.0465741,
             "remaining_time": 11651.38045,
             "test": [
              0.9207202907,
              0.2068994575
             ]
            },
            {
             "iteration": 723,
             "learn": [
              0.9943646693,
              0.04866030548
             ],
             "passed_time": 909.2377783,
             "remaining_time": 11649.29507,
             "test": [
              0.9207202907,
              0.2068916599
             ]
            },
            {
             "iteration": 724,
             "learn": [
              0.9944101056,
              0.0485516
             ],
             "passed_time": 910.7620941,
             "remaining_time": 11651.47369,
             "test": [
              0.920901688,
              0.2068624383
             ]
            },
            {
             "iteration": 725,
             "learn": [
              0.9943646847,
              0.04846956569
             ],
             "passed_time": 911.9601152,
             "remaining_time": 11649.47398,
             "test": [
              0.921089104,
              0.20679192
             ]
            },
            {
             "iteration": 726,
             "learn": [
              0.9943646847,
              0.0483584617
             ],
             "passed_time": 913.2018126,
             "remaining_time": 11648.03357,
             "test": [
              0.9212768482,
              0.206902513
             ]
            },
            {
             "iteration": 727,
             "learn": [
              0.9943646847,
              0.04827707022
             ],
             "passed_time": 914.7692174,
             "remaining_time": 11650.74201,
             "test": [
              0.9212798864,
              0.2068907436
             ]
            },
            {
             "iteration": 728,
             "learn": [
              0.9944555975,
              0.04815037665
             ],
             "passed_time": 915.9328729,
             "remaining_time": 11648.30407,
             "test": [
              0.921089548,
              0.2070076707
             ]
            },
            {
             "iteration": 729,
             "learn": [
              0.9945010185,
              0.04810849698
             ],
             "passed_time": 917.1281081,
             "remaining_time": 11646.27063,
             "test": [
              0.9212720391,
              0.2070211885
             ]
            },
            {
             "iteration": 730,
             "learn": [
              0.9945465003,
              0.04799440696
             ],
             "passed_time": 918.4149868,
             "remaining_time": 11645.40152,
             "test": [
              0.9210906853,
              0.2070536269
             ]
            },
            {
             "iteration": 731,
             "learn": [
              0.9944555975,
              0.04791789563
             ],
             "passed_time": 919.8384335,
             "remaining_time": 11646.26038,
             "test": [
              0.9210880313,
              0.2070997007
             ]
            },
            {
             "iteration": 732,
             "learn": [
              0.9944555963,
              0.04777583494
             ],
             "passed_time": 921.1292106,
             "remaining_time": 11645.43574,
             "test": [
              0.9214442367,
              0.2071387118
             ]
            },
            {
             "iteration": 733,
             "learn": [
              0.9944555975,
              0.04766623243
             ],
             "passed_time": 922.2466556,
             "remaining_time": 11642.42168,
             "test": [
              0.9212644279,
              0.2070472075
             ]
            },
            {
             "iteration": 734,
             "learn": [
              0.9945464958,
              0.04759542581
             ],
             "passed_time": 923.634097,
             "remaining_time": 11642.8162,
             "test": [
              0.9214518439,
              0.20711866
             ]
            },
            {
             "iteration": 735,
             "learn": [
              0.9945010794,
              0.04754491324
             ],
             "passed_time": 925.0795901,
             "remaining_time": 11643.93658,
             "test": [
              0.9214518439,
              0.2070505175
             ]
            },
            {
             "iteration": 736,
             "learn": [
              0.994591916,
              0.04750310668
             ],
             "passed_time": 926.2984104,
             "remaining_time": 11642.20105,
             "test": [
              0.9214438554,
              0.207157034
             ]
            },
            {
             "iteration": 737,
             "learn": [
              0.9945464341,
              0.04743887433
             ],
             "passed_time": 927.6162511,
             "remaining_time": 11641.70964,
             "test": [
              0.9216762772,
              0.2070768554
             ]
            },
            {
             "iteration": 738,
             "learn": [
              0.9945464341,
              0.04739688299
             ],
             "passed_time": 928.850315,
             "remaining_time": 11640.16613,
             "test": [
              0.9214949414,
              0.2071241542
             ]
            },
            {
             "iteration": 739,
             "learn": [
              0.994546359,
              0.04723457092
             ],
             "passed_time": 930.3055845,
             "remaining_time": 11641.3915,
             "test": [
              0.9220435376,
              0.2071185575
             ]
            },
            {
             "iteration": 740,
             "learn": [
              0.994546359,
              0.04715307832
             ],
             "passed_time": 931.8091972,
             "remaining_time": 11643.21371,
             "test": [
              0.9218621948,
              0.2071560326
             ]
            },
            {
             "iteration": 741,
             "learn": [
              0.9945917973,
              0.0471063769
             ],
             "passed_time": 933.3122203,
             "remaining_time": 11645.01959,
             "test": [
              0.921679692,
              0.207097898
             ]
            },
            {
             "iteration": 742,
             "learn": [
              0.9946826679,
              0.04698187666
             ],
             "passed_time": 934.5899342,
             "remaining_time": 11644.00945,
             "test": [
              0.9218529109,
              0.2071632901
             ]
            },
            {
             "iteration": 743,
             "learn": [
              0.9948644211,
              0.04685225298
             ],
             "passed_time": 936.0536668,
             "remaining_time": 11645.31282,
             "test": [
              0.9220341934,
              0.2072039586
             ]
            },
            {
             "iteration": 744,
             "learn": [
              0.9948644211,
              0.04680268139
             ],
             "passed_time": 937.273957,
             "remaining_time": 11643.58453,
             "test": [
              0.9220341934,
              0.2071410699
             ]
            },
            {
             "iteration": 745,
             "learn": [
              0.9948644226,
              0.04670432319
             ],
             "passed_time": 938.3673712,
             "remaining_time": 11640.28372,
             "test": [
              0.9213120107,
              0.2070922888
             ]
            },
            {
             "iteration": 746,
             "learn": [
              0.9948644226,
              0.04661575724
             ],
             "passed_time": 939.6783139,
             "remaining_time": 11639.68332,
             "test": [
              0.9213120107,
              0.207107918
             ]
            },
            {
             "iteration": 747,
             "learn": [
              0.9948644226,
              0.04654652894
             ],
             "passed_time": 940.9248537,
             "remaining_time": 11638.28442,
             "test": [
              0.921313496,
              0.2071421554
             ]
            },
            {
             "iteration": 748,
             "learn": [
              0.9948644226,
              0.04647134278
             ],
             "passed_time": 942.1907237,
             "remaining_time": 11637.12468,
             "test": [
              0.921313496,
              0.2071592416
             ]
            },
            {
             "iteration": 749,
             "learn": [
              0.9948644226,
              0.04638040736
             ],
             "passed_time": 943.3301536,
             "remaining_time": 11634.40523,
             "test": [
              0.921313496,
              0.2071549689
             ]
            },
            {
             "iteration": 750,
             "learn": [
              0.9948644226,
              0.04625348218
             ],
             "passed_time": 944.6195081,
             "remaining_time": 11633.53639,
             "test": [
              0.9211294283,
              0.2071749914
             ]
            },
            {
             "iteration": 751,
             "learn": [
              0.9948644226,
              0.0461641619
             ],
             "passed_time": 945.7764674,
             "remaining_time": 11631.03826,
             "test": [
              0.9214937349,
              0.207163759
             ]
            },
            {
             "iteration": 752,
             "learn": [
              0.994909858,
              0.04604933844
             ],
             "passed_time": 946.6027948,
             "remaining_time": 11624.48346,
             "test": [
              0.9216720492,
              0.2071269969
             ]
            },
            {
             "iteration": 753,
             "learn": [
              0.994909858,
              0.04600573072
             ],
             "passed_time": 948.0758472,
             "remaining_time": 11625.87438,
             "test": [
              0.9214922433,
              0.2071924022
             ]
            },
            {
             "iteration": 754,
             "learn": [
              0.994909858,
              0.04590107691
             ],
             "passed_time": 949.6072381,
             "remaining_time": 11627.97207,
             "test": [
              0.9220331737,
              0.2071544392
             ]
            },
            {
             "iteration": 755,
             "learn": [
              0.9949098731,
              0.04585214726
             ],
             "passed_time": 951.0186503,
             "remaining_time": 11628.59313,
             "test": [
              0.9220331737,
              0.2071160024
             ]
            },
            {
             "iteration": 756,
             "learn": [
              0.9949099102,
              0.04579914059
             ],
             "passed_time": 952.514052,
             "remaining_time": 11630.23432,
             "test": [
              0.9222129949,
              0.2070876743
             ]
            },
            {
             "iteration": 757,
             "learn": [
              0.9949099102,
              0.04558864472
             ],
             "passed_time": 953.938641,
             "remaining_time": 11631.00385,
             "test": [
              0.9225741305,
              0.2070501945
             ]
            },
            {
             "iteration": 758,
             "learn": [
              0.9948644792,
              0.04553190767
             ],
             "passed_time": 954.9430316,
             "remaining_time": 11626.65159,
             "test": [
              0.9223928203,
              0.2071261948
             ]
            },
            {
             "iteration": 759,
             "learn": [
              0.9950008015,
              0.04541242344
             ],
             "passed_time": 956.4648014,
             "remaining_time": 11628.59838,
             "test": [
              0.922211492,
              0.2071557469
             ]
            },
            {
             "iteration": 760,
             "learn": [
              0.9950008209,
              0.04535025244
             ],
             "passed_time": 957.6743539,
             "remaining_time": 11626.74554,
             "test": [
              0.9220326631,
              0.2072204039
             ]
            },
            {
             "iteration": 761,
             "learn": [
              0.9950916632,
              0.04528153744
             ],
             "passed_time": 958.7559551,
             "remaining_time": 11623.34319,
             "test": [
              0.9220326631,
              0.2072470462
             ]
            },
            {
             "iteration": 762,
             "learn": [
              0.9951825064,
              0.04519105498
             ],
             "passed_time": 959.8305781,
             "remaining_time": 11619.86245,
             "test": [
              0.9216719627,
              0.2072476793
             ]
            },
            {
             "iteration": 763,
             "learn": [
              0.9951825064,
              0.045131832
             ],
             "passed_time": 961.1853778,
             "remaining_time": 11619.77506,
             "test": [
              0.9221642636,
              0.207270237
             ]
            },
            {
             "iteration": 764,
             "learn": [
              0.9952279433,
              0.04504816206
             ],
             "passed_time": 962.586869,
             "remaining_time": 11620.24802,
             "test": [
              0.9221642636,
              0.2072288384
             ]
            },
            {
             "iteration": 765,
             "learn": [
              0.9951825015,
              0.0449940691
             ],
             "passed_time": 964.1990322,
             "remaining_time": 11623.2557,
             "test": [
              0.9222246874,
              0.207219225
             ]
            },
            {
             "iteration": 766,
             "learn": [
              0.9951825064,
              0.04491654991
             ],
             "passed_time": 965.8715432,
             "remaining_time": 11626.97778,
             "test": [
              0.9223440756,
              0.207373044
             ]
            },
            {
             "iteration": 767,
             "learn": [
              0.995091654,
              0.04481168473
             ],
             "passed_time": 967.3157776,
             "remaining_time": 11627.94174,
             "test": [
              0.9218030377,
              0.2074974089
             ]
            },
            {
             "iteration": 768,
             "learn": [
              0.9950462114,
              0.04470856691
             ],
             "passed_time": 968.8397547,
             "remaining_time": 11629.85667,
             "test": [
              0.9221658563,
              0.2074919858
             ]
            },
            {
             "iteration": 769,
             "learn": [
              0.9952279433,
              0.04462962634
             ],
             "passed_time": 970.4044962,
             "remaining_time": 11632.2513,
             "test": [
              0.9223472381,
              0.2074980505
             ]
            },
            {
             "iteration": 770,
             "learn": [
              0.995273381,
              0.04448926115
             ],
             "passed_time": 971.6939802,
             "remaining_time": 11631.34078,
             "test": [
              0.9227063062,
              0.2076122652
             ]
            },
            {
             "iteration": 771,
             "learn": [
              0.9953187936,
              0.04443550879
             ],
             "passed_time": 972.695681,
             "remaining_time": 11626.98931,
             "test": [
              0.9223472381,
              0.2076572339
             ]
            },
            {
             "iteration": 772,
             "learn": [
              0.9954551218,
              0.04438148698
             ],
             "passed_time": 973.8673314,
             "remaining_time": 11624.67512,
             "test": [
              0.922167421,
              0.2077290093
             ]
            },
            {
             "iteration": 773,
             "learn": [
              0.9954551218,
              0.04426913402
             ],
             "passed_time": 975.1730995,
             "remaining_time": 11623.96255,
             "test": [
              0.922167421,
              0.2077668253
             ]
            },
            {
             "iteration": 774,
             "learn": [
              0.9954096784,
              0.04419517677
             ],
             "passed_time": 976.6047192,
             "remaining_time": 11624.7465,
             "test": [
              0.921804653,
              0.2077831394
             ]
            },
            {
             "iteration": 775,
             "learn": [
              0.9954096784,
              0.04413694441
             ],
             "passed_time": 977.4222741,
             "remaining_time": 11618.22559,
             "test": [
              0.9218041007,
              0.2078147462
             ]
            },
            {
             "iteration": 776,
             "learn": [
              0.9955005859,
              0.04397362971
             ],
             "passed_time": 978.8158215,
             "remaining_time": 11618.5564,
             "test": [
              0.9214412736,
              0.2078756149
             ]
            },
            {
             "iteration": 777,
             "learn": [
              0.9955460265,
              0.04388305652
             ],
             "passed_time": 980.2433392,
             "remaining_time": 11619.28544,
             "test": [
              0.9207900902,
              0.2078832805
             ]
            },
            {
             "iteration": 778,
             "learn": [
              0.995500563,
              0.04381420034
             ],
             "passed_time": 981.2351892,
             "remaining_time": 11614.85196,
             "test": [
              0.920976059,
              0.2079406111
             ]
            },
            {
             "iteration": 779,
             "learn": [
              0.9954551195,
              0.0437365732
             ],
             "passed_time": 982.3585984,
             "remaining_time": 11611.98241,
             "test": [
              0.921337285,
              0.2080146865
             ]
            },
            {
             "iteration": 780,
             "learn": [
              0.9955914669,
              0.04363220891
             ],
             "passed_time": 983.5014043,
             "remaining_time": 11609.34628,
             "test": [
              0.9216289031,
              0.2080375123
             ]
            },
            {
             "iteration": 781,
             "learn": [
              0.9955460034,
              0.04348089607
             ],
             "passed_time": 984.6054011,
             "remaining_time": 11606.25651,
             "test": [
              0.9212182407,
              0.2079122683
             ]
            },
            {
             "iteration": 782,
             "learn": [
              0.9955914477,
              0.04329885515
             ],
             "passed_time": 985.808813,
             "remaining_time": 11604.34206,
             "test": [
              0.9212182407,
              0.2079709176
             ]
            },
            {
             "iteration": 783,
             "learn": [
              0.9956368696,
              0.04321538781
             ],
             "passed_time": 987.2417239,
             "remaining_time": 11605.1272,
             "test": [
              0.9213996563,
              0.2079736885
             ]
            },
            {
             "iteration": 784,
             "learn": [
              0.9956368696,
              0.04315302885
             ],
             "passed_time": 988.1640752,
             "remaining_time": 11599.91332,
             "test": [
              0.9212182407,
              0.2079135675
             ]
            },
            {
             "iteration": 785,
             "learn": [
              0.9956368696,
              0.04310049858
             ],
             "passed_time": 989.5870958,
             "remaining_time": 11600.57952,
             "test": [
              0.9212693462,
              0.20790846
             ]
            },
            {
             "iteration": 786,
             "learn": [
              0.9956368696,
              0.04303193541
             ],
             "passed_time": 990.850847,
             "remaining_time": 11599.37593,
             "test": [
              0.9218181642,
              0.2079569785
             ]
            },
            {
             "iteration": 787,
             "learn": [
              0.9956368696,
              0.0429597185
             ],
             "passed_time": 992.100154,
             "remaining_time": 11598.00332,
             "test": [
              0.9212676886,
              0.208040566
             ]
            },
            {
             "iteration": 788,
             "learn": [
              0.9956368696,
              0.04286527386
             ],
             "passed_time": 993.325105,
             "remaining_time": 11596.3467,
             "test": [
              0.9212260902,
              0.2080936613
             ]
            },
            {
             "iteration": 789,
             "learn": [
              0.9957732568,
              0.04274631861
             ],
             "passed_time": 994.7930555,
             "remaining_time": 11597.5241,
             "test": [
              0.9212260902,
              0.2080455935
             ]
            },
            {
             "iteration": 790,
             "learn": [
              0.9957732568,
              0.04272696985
             ],
             "passed_time": 996.3257569,
             "remaining_time": 11599.44867,
             "test": [
              0.9209855692,
              0.2081186377
             ]
            },
            {
             "iteration": 791,
             "learn": [
              0.9957732568,
              0.04269109799
             ],
             "passed_time": 997.7861246,
             "remaining_time": 11600.52353,
             "test": [
              0.9206243772,
              0.2081542258
             ]
            },
            {
             "iteration": 792,
             "learn": [
              0.9957277953,
              0.04257945593
             ],
             "passed_time": 998.9957089,
             "remaining_time": 11598.68032,
             "test": [
              0.9208041423,
              0.2083236689
             ]
            },
            {
             "iteration": 793,
             "learn": [
              0.9957277953,
              0.04254746047
             ],
             "passed_time": 999.9902058,
             "remaining_time": 11594.34488,
             "test": [
              0.920984645,
              0.2082943863
             ]
            },
            {
             "iteration": 794,
             "learn": [
              0.9957277953,
              0.04248775576
             ],
             "passed_time": 1001.180516,
             "remaining_time": 11592.28509,
             "test": [
              0.920984645,
              0.2083080422
             ]
            },
            {
             "iteration": 795,
             "learn": [
              0.9958186998,
              0.04240184372
             ],
             "passed_time": 1002.541883,
             "remaining_time": 11592.20539,
             "test": [
              0.920804928,
              0.2082977499
             ]
            },
            {
             "iteration": 796,
             "learn": [
              0.995727776,
              0.0423450212
             ],
             "passed_time": 1003.946039,
             "remaining_time": 11592.61656,
             "test": [
              0.9211660748,
              0.2083503878
             ]
            },
            {
             "iteration": 797,
             "learn": [
              0.995727776,
              0.04231507672
             ],
             "passed_time": 1005.287067,
             "remaining_time": 11592.29522,
             "test": [
              0.9209863507,
              0.2084182611
             ]
            },
            {
             "iteration": 798,
             "learn": [
              0.9957732376,
              0.04219964593
             ],
             "passed_time": 1006.581559,
             "remaining_time": 11591.43545,
             "test": [
              0.9210455589,
              0.2084745267
             ]
            },
            {
             "iteration": 799,
             "learn": [
              0.9958641238,
              0.04207985075
             ],
             "passed_time": 1008.116282,
             "remaining_time": 11593.33724,
             "test": [
              0.9212269816,
              0.2084606137
             ]
            },
            {
             "iteration": 800,
             "learn": [
              0.9958641238,
              0.04205678422
             ],
             "passed_time": 1009.345004,
             "remaining_time": 11591.71622,
             "test": [
              0.9212269816,
              0.208475992
             ]
            },
            {
             "iteration": 801,
             "learn": [
              0.9960004654,
              0.04195801492
             ],
             "passed_time": 1010.77418,
             "remaining_time": 11592.39514,
             "test": [
              0.9214067057,
              0.2084526051
             ]
            },
            {
             "iteration": 802,
             "learn": [
              0.9960004654,
              0.0419456966
             ],
             "passed_time": 1012.169265,
             "remaining_time": 11592.67837,
             "test": [
              0.9214067057,
              0.2084339238
             ]
            },
            {
             "iteration": 803,
             "learn": [
              0.9960459108,
              0.04187071921
             ],
             "passed_time": 1013.611063,
             "remaining_time": 11593.49171,
             "test": [
              0.9214074987,
              0.2084843167
             ]
            },
            {
             "iteration": 804,
             "learn": [
              0.996000447,
              0.04170601156
             ],
             "passed_time": 1015.000035,
             "remaining_time": 11593.69605,
             "test": [
              0.9213312741,
              0.2085757404
             ]
            },
            {
             "iteration": 805,
             "learn": [
              0.996000447,
              0.04166024481
             ],
             "passed_time": 1016.29051,
             "remaining_time": 11592.77289,
             "test": [
              0.9215126855,
              0.2086027506
             ]
            },
            {
             "iteration": 806,
             "learn": [
              0.996000447,
              0.04162958696
             ],
             "passed_time": 1017.709699,
             "remaining_time": 11593.31507,
             "test": [
              0.9213312741,
              0.2086199132
             ]
            },
            {
             "iteration": 807,
             "learn": [
              0.996000447,
              0.04156380785
             ],
             "passed_time": 1019.068578,
             "remaining_time": 11593.1663,
             "test": [
              0.9209701272,
              0.2086711125
             ]
            },
            {
             "iteration": 808,
             "learn": [
              0.996000447,
              0.04154276028
             ],
             "passed_time": 1020.513731,
             "remaining_time": 11593.99469,
             "test": [
              0.9209701272,
              0.2086253411
             ]
            },
            {
             "iteration": 809,
             "learn": [
              0.9960459108,
              0.04148788397
             ],
             "passed_time": 1021.811263,
             "remaining_time": 11593.1426,
             "test": [
              0.9213339229,
              0.2086767483
             ]
            },
            {
             "iteration": 810,
             "learn": [
              0.9960004493,
              0.04141885065
             ],
             "passed_time": 1023.188832,
             "remaining_time": 11593.19627,
             "test": [
              0.9212230003,
              0.2086990154
             ]
            },
            {
             "iteration": 811,
             "learn": [
              0.9960004493,
              0.0413570952
             ],
             "passed_time": 1024.659746,
             "remaining_time": 11594.30265,
             "test": [
              0.9212222664,
              0.2088247779
             ]
            },
            {
             "iteration": 812,
             "learn": [
              0.9960004493,
              0.04122772897
             ],
             "passed_time": 1025.912327,
             "remaining_time": 11592.93548,
             "test": [
              0.9210408115,
              0.2087908751
             ]
            },
            {
             "iteration": 813,
             "learn": [
              0.9960458909,
              0.04109360657
             ],
             "passed_time": 1027.239828,
             "remaining_time": 11592.41408,
             "test": [
              0.9210391627,
              0.2088553878
             ]
            },
            {
             "iteration": 814,
             "learn": [
              0.9960913332,
              0.04101827357
             ],
             "passed_time": 1028.702931,
             "remaining_time": 11593.41893,
             "test": [
              0.9208593382,
              0.2088856077
             ]
            },
            {
             "iteration": 815,
             "learn": [
              0.9961367764,
              0.04091758112
             ],
             "passed_time": 1030.062576,
             "remaining_time": 11593.25331,
             "test": [
              0.9206795179,
              0.2089926908
             ]
            },
            {
             "iteration": 816,
             "learn": [
              0.9961367764,
              0.04088803335
             ],
             "passed_time": 1031.473588,
             "remaining_time": 11593.66213,
             "test": [
              0.9206795179,
              0.2090353353
             ]
            },
            {
             "iteration": 817,
             "learn": [
              0.996182221,
              0.04078918809
             ],
             "passed_time": 1032.910079,
             "remaining_time": 11594.3525,
             "test": [
              0.9204972077,
              0.2090288739
             ]
            },
            {
             "iteration": 818,
             "learn": [
              0.9962276649,
              0.0407469787
             ],
             "passed_time": 1034.330422,
             "remaining_time": 11594.85666,
             "test": [
              0.920856304,
              0.2089798291
             ]
            },
            {
             "iteration": 819,
             "learn": [
              0.9962731088,
              0.04061461207
             ],
             "passed_time": 1035.506829,
             "remaining_time": 11592.62523,
             "test": [
              0.9210439299,
              0.2089814913
             ]
            },
            {
             "iteration": 820,
             "learn": [
              0.996409446,
              0.04048736318
             ],
             "passed_time": 1036.889116,
             "remaining_time": 11592.69817,
             "test": [
              0.9208641125,
              0.208998038
             ]
            },
            {
             "iteration": 821,
             "learn": [
              0.9963185513,
              0.04040255948
             ],
             "passed_time": 1038.156292,
             "remaining_time": 11591.4823,
             "test": [
              0.9206764866,
              0.2090271641
             ]
            },
            {
             "iteration": 822,
             "learn": [
              0.9962731009,
              0.04024690157
             ],
             "passed_time": 1039.346314,
             "remaining_time": 11589.40598,
             "test": [
              0.9204940911,
              0.2090820811
             ]
            },
            {
             "iteration": 823,
             "learn": [
              0.9964094472,
              0.04013473623
             ],
             "passed_time": 1040.861578,
             "remaining_time": 11590.95368,
             "test": [
              0.9201265167,
              0.209040659
             ]
            },
            {
             "iteration": 824,
             "learn": [
              0.9963640013,
              0.0400767505
             ],
             "passed_time": 1042.09565,
             "remaining_time": 11589.36678,
             "test": [
              0.9203062748,
              0.2090507777
             ]
            },
            {
             "iteration": 825,
             "learn": [
              0.9964094472,
              0.04003345027
             ],
             "passed_time": 1043.241207,
             "remaining_time": 11586.79762,
             "test": [
              0.9206754728,
              0.2090533604
             ]
            },
            {
             "iteration": 826,
             "learn": [
              0.9964094472,
              0.0399549638
             ],
             "passed_time": 1044.635851,
             "remaining_time": 11586.99476,
             "test": [
              0.920488371,
              0.2090158915
             ]
            },
            {
             "iteration": 827,
             "learn": [
              0.9964094604,
              0.03986594775
             ],
             "passed_time": 1045.612319,
             "remaining_time": 11582.55578,
             "test": [
              0.9204957891,
              0.2090695597
             ]
            },
            {
             "iteration": 828,
             "learn": [
              0.9965003632,
              0.03983423731
             ],
             "passed_time": 1046.904679,
             "remaining_time": 11581.6198,
             "test": [
              0.9204957891,
              0.2090609885
             ]
            },
            {
             "iteration": 829,
             "learn": [
              0.9965003632,
              0.03979583561
             ],
             "passed_time": 1048.2007,
             "remaining_time": 11580.7234,
             "test": [
              0.9211564798,
              0.209026268
             ]
            },
            {
             "iteration": 830,
             "learn": [
              0.9965003632,
              0.03973909908
             ],
             "passed_time": 1049.644824,
             "remaining_time": 11581.46016,
             "test": [
              0.9211564798,
              0.2090837386
             ]
            },
            {
             "iteration": 831,
             "learn": [
              0.9965458245,
              0.03966152793
             ],
             "passed_time": 1051.016341,
             "remaining_time": 11581.3916,
             "test": [
              0.9209687042,
              0.209231294
             ]
            },
            {
             "iteration": 832,
             "learn": [
              0.9965003786,
              0.0395926074
             ],
             "passed_time": 1052.116673,
             "remaining_time": 11578.33559,
             "test": [
              0.9207872761,
              0.209247361
             ]
            },
            {
             "iteration": 833,
             "learn": [
              0.9965003786,
              0.03952661733
             ],
             "passed_time": 1053.086354,
             "remaining_time": 11573.84835,
             "test": [
              0.9209709553,
              0.2091931086
             ]
            },
            {
             "iteration": 834,
             "learn": [
              0.9965003786,
              0.03946993995
             ],
             "passed_time": 1054.262487,
             "remaining_time": 11571.63556,
             "test": [
              0.9207895456,
              0.2092144964
             ]
            },
            {
             "iteration": 835,
             "learn": [
              0.9966367371,
              0.03931610638
             ],
             "passed_time": 1055.616658,
             "remaining_time": 11571.37686,
             "test": [
              0.9209735857,
              0.2092817702
             ]
            },
            {
             "iteration": 836,
             "learn": [
              0.9965458176,
              0.03924725952
             ],
             "passed_time": 1056.85879,
             "remaining_time": 11569.889,
             "test": [
              0.9209720166,
              0.2094393656
             ]
            },
            {
             "iteration": 837,
             "learn": [
              0.9965458176,
              0.03916844317
             ],
             "passed_time": 1058.182884,
             "remaining_time": 11569.29783,
             "test": [
              0.9204228982,
              0.2094983116
             ]
            },
            {
             "iteration": 838,
             "learn": [
              0.9966367173,
              0.03906938769
             ],
             "passed_time": 1059.973141,
             "remaining_time": 11573.79493,
             "test": [
              0.9206124518,
              0.2095701834
             ]
            },
            {
             "iteration": 839,
             "learn": [
              0.9965912805,
              0.03899820161
             ],
             "passed_time": 1061.32002,
             "remaining_time": 11573.44212,
             "test": [
              0.9207922714,
              0.2095553918
             ]
            },
            {
             "iteration": 840,
             "learn": [
              0.9966821716,
              0.03892290424
             ],
             "passed_time": 1062.76812,
             "remaining_time": 11574.18931,
             "test": [
              0.9202366871,
              0.2096713145
             ]
            },
            {
             "iteration": 841,
             "learn": [
              0.9967276283,
              0.03879284959
             ],
             "passed_time": 1064.088493,
             "remaining_time": 11573.54206,
             "test": [
              0.9204245375,
              0.2096265802
             ]
            },
            {
             "iteration": 842,
             "learn": [
              0.996727639,
              0.03874680735
             ],
             "passed_time": 1065.401483,
             "remaining_time": 11572.81302,
             "test": [
              0.9206043571,
              0.2097843639
             ]
            },
            {
             "iteration": 843,
             "learn": [
              0.9968185053,
              0.03864155207
             ],
             "passed_time": 1066.596063,
             "remaining_time": 11570.79804,
             "test": [
              0.9202453357,
              0.2097711724
             ]
            },
            {
             "iteration": 844,
             "learn": [
              0.996773073,
              0.03846319726
             ],
             "passed_time": 1067.845063,
             "remaining_time": 11569.37461,
             "test": [
              0.9195204521,
              0.2099592814
             ]
            },
            {
             "iteration": 845,
             "learn": [
              0.9967276085,
              0.03838083094
             ],
             "passed_time": 1069.288925,
             "remaining_time": 11570.06007,
             "test": [
              0.9198801482,
              0.2100511083
             ]
            },
            {
             "iteration": 846,
             "learn": [
              0.9967276085,
              0.03829596075
             ],
             "passed_time": 1070.169369,
             "remaining_time": 11564.65199,
             "test": [
              0.9200616483,
              0.2100122367
             ]
            },
            {
             "iteration": 847,
             "learn": [
              0.9967276085,
              0.03825769116
             ],
             "passed_time": 1071.355341,
             "remaining_time": 11562.55198,
             "test": [
              0.9202431299,
              0.2099964183
             ]
            },
            {
             "iteration": 848,
             "learn": [
              0.9968185297,
              0.03815692388
             ],
             "passed_time": 1072.713295,
             "remaining_time": 11562.30785,
             "test": [
              0.9206027145,
              0.2099967263
             ]
            },
            {
             "iteration": 849,
             "learn": [
              0.996863962,
              0.03804826181
             ],
             "passed_time": 1073.711906,
             "remaining_time": 11558.19287,
             "test": [
              0.9202430858,
              0.2100094101
             ]
            },
            {
             "iteration": 850,
             "learn": [
              0.996863962,
              0.03793389366
             ],
             "passed_time": 1075.091245,
             "remaining_time": 11558.17837,
             "test": [
              0.9204230655,
              0.2100065651
             ]
            },
            {
             "iteration": 851,
             "learn": [
              0.996863962,
              0.0378625593
             ],
             "passed_time": 1076.163601,
             "remaining_time": 11554.86457,
             "test": [
              0.9202432574,
              0.2099984463
             ]
            },
            {
             "iteration": 852,
             "learn": [
              0.996863962,
              0.03777346879
             ],
             "passed_time": 1077.58511,
             "remaining_time": 11555.30012,
             "test": [
              0.9202415275,
              0.2100003158
             ]
            },
            {
             "iteration": 853,
             "learn": [
              0.996863962,
              0.03771410418
             ],
             "passed_time": 1078.937427,
             "remaining_time": 11554.99029,
             "test": [
              0.9204204726,
              0.2100695973
             ]
            },
            {
             "iteration": 854,
             "learn": [
              0.996863962,
              0.03764615138
             ],
             "passed_time": 1080.356715,
             "remaining_time": 11555.39434,
             "test": [
              0.9204204726,
              0.2100585254
             ]
            },
            {
             "iteration": 855,
             "learn": [
              0.9969094078,
              0.03749762603
             ],
             "passed_time": 1081.622044,
             "remaining_time": 11554.1495,
             "test": [
              0.9206020106,
              0.2101228323
             ]
            },
            {
             "iteration": 856,
             "learn": [
              0.9969094078,
              0.03745591768
             ],
             "passed_time": 1082.934067,
             "remaining_time": 11553.40277,
             "test": [
              0.9204204726,
              0.2102430689
             ]
            },
            {
             "iteration": 857,
             "learn": [
              0.9969094078,
              0.03738977364
             ],
             "passed_time": 1084.016869,
             "remaining_time": 11550.21238,
             "test": [
              0.9205993575,
              0.2103221173
             ]
            },
            {
             "iteration": 858,
             "learn": [
              0.996954855,
              0.03728206938
             ],
             "passed_time": 1085.394504,
             "remaining_time": 11550.16433,
             "test": [
              0.9204204726,
              0.2102701122
             ]
            },
            {
             "iteration": 859,
             "learn": [
              0.996954855,
              0.03721262538
             ],
             "passed_time": 1086.829093,
             "remaining_time": 11550.7185,
             "test": [
              0.920238916,
              0.2102482327
             ]
            },
            {
             "iteration": 860,
             "learn": [
              0.9970457499,
              0.03706325781
             ],
             "passed_time": 1088.026737,
             "remaining_time": 11548.75302,
             "test": [
              0.9199489702,
              0.2105069265
             ]
            },
            {
             "iteration": 861,
             "learn": [
              0.997091192,
              0.03697122392
             ],
             "passed_time": 1089.434341,
             "remaining_time": 11549.01509,
             "test": [
              0.9201287195,
              0.2105632618
             ]
            },
            {
             "iteration": 862,
             "learn": [
              0.997136631,
              0.0369233414
             ],
             "passed_time": 1091.04931,
             "remaining_time": 11551.46877,
             "test": [
              0.9201287195,
              0.2105376859
             ]
            },
            {
             "iteration": 863,
             "learn": [
              0.997136631,
              0.03679636799
             ],
             "passed_time": 1092.492505,
             "remaining_time": 11552.09668,
             "test": [
              0.9195902324,
              0.2105791449
             ]
            },
            {
             "iteration": 864,
             "learn": [
              0.997136631,
              0.036709571
             ],
             "passed_time": 1093.695659,
             "remaining_time": 11550.18479,
             "test": [
              0.9195894835,
              0.2106340007
             ]
            },
            {
             "iteration": 865,
             "learn": [
              0.997227511,
              0.0365744505
             ],
             "passed_time": 1095.18927,
             "remaining_time": 11551.3381,
             "test": [
              0.9194105746,
              0.2105823324
             ]
            },
            {
             "iteration": 866,
             "learn": [
              0.997227511,
              0.03653248798
             ],
             "passed_time": 1096.441202,
             "remaining_time": 11549.93944,
             "test": [
              0.9192237192,
              0.2106104103
             ]
            },
            {
             "iteration": 867,
             "learn": [
              0.997227511,
              0.03646496955
             ],
             "passed_time": 1097.668654,
             "remaining_time": 11548.28358,
             "test": [
              0.9188554592,
              0.2106134661
             ]
            },
            {
             "iteration": 868,
             "learn": [
              0.997227511,
              0.03636230481
             ],
             "passed_time": 1099.023074,
             "remaining_time": 11547.96282,
             "test": [
              0.9190421772,
              0.2106676982
             ]
            },
            {
             "iteration": 869,
             "learn": [
              0.997227511,
              0.03634693676
             ],
             "passed_time": 1100.321077,
             "remaining_time": 11547.04762,
             "test": [
              0.9192219668,
              0.2106621711
             ]
            },
            {
             "iteration": 870,
             "learn": [
              0.997227511,
              0.03628325651
             ],
             "passed_time": 1101.602238,
             "remaining_time": 11545.95503,
             "test": [
              0.9190403989,
              0.2107116926
             ]
            },
            {
             "iteration": 871,
             "learn": [
              0.997227511,
              0.0361927944
             ],
             "passed_time": 1103.024782,
             "remaining_time": 11546.34199,
             "test": [
              0.9190403989,
              0.2108166831
             ]
            },
            {
             "iteration": 872,
             "learn": [
              0.997318406,
              0.03609047036
             ],
             "passed_time": 1104.192721,
             "remaining_time": 11544.06297,
             "test": [
              0.9192282614,
              0.2107833311
             ]
            },
            {
             "iteration": 873,
             "learn": [
              0.997318406,
              0.03602496782
             ],
             "passed_time": 1105.548656,
             "remaining_time": 11543.74947,
             "test": [
              0.9195903681,
              0.2107974321
             ]
            },
            {
             "iteration": 874,
             "learn": [
              0.997318406,
              0.03599435009
             ],
             "passed_time": 1106.962359,
             "remaining_time": 11544.03603,
             "test": [
              0.9195903681,
              0.2108611117
             ]
            },
            {
             "iteration": 875,
             "learn": [
              0.997318406,
              0.03588533298
             ],
             "passed_time": 1108.31585,
             "remaining_time": 11543.69157,
             "test": [
              0.9201332748,
              0.2109048236
             ]
            },
            {
             "iteration": 876,
             "learn": [
              0.9974092756,
              0.03574185203
             ],
             "passed_time": 1109.727285,
             "remaining_time": 11543.94758,
             "test": [
              0.9203208352,
              0.2109565158
             ]
            },
            {
             "iteration": 877,
             "learn": [
              0.9974092756,
              0.03570152584
             ],
             "passed_time": 1110.811813,
             "remaining_time": 11540.80337,
             "test": [
              0.9203208352,
              0.2109814981
             ]
            },
            {
             "iteration": 878,
             "learn": [
              0.9974547025,
              0.03566657658
             ],
             "passed_time": 1112.240617,
             "remaining_time": 11541.23625,
             "test": [
              0.9203208352,
              0.2110580759
             ]
            },
            {
             "iteration": 879,
             "learn": [
              0.9974547025,
              0.03562240238
             ],
             "passed_time": 1113.476401,
             "remaining_time": 11539.66452,
             "test": [
              0.9203208352,
              0.2110248564
             ]
            },
            {
             "iteration": 880,
             "learn": [
              0.9974547025,
              0.03556649178
             ],
             "passed_time": 1114.673428,
             "remaining_time": 11537.69238,
             "test": [
              0.919961215,
              0.2110323168
             ]
            },
            {
             "iteration": 881,
             "learn": [
              0.9974547025,
              0.0354734556
             ],
             "passed_time": 1115.940701,
             "remaining_time": 11536.4482,
             "test": [
              0.9201410231,
              0.21108664
             ]
            },
            {
             "iteration": 882,
             "learn": [
              0.9974092756,
              0.03538408472
             ],
             "passed_time": 1116.76359,
             "remaining_time": 11530.61568,
             "test": [
              0.9201410231,
              0.2111020706
             ]
            },
            {
             "iteration": 883,
             "learn": [
              0.9974092756,
              0.03535535628
             ],
             "passed_time": 1118.046788,
             "remaining_time": 11529.54131,
             "test": [
              0.9203217382,
              0.2111588548
             ]
            },
            {
             "iteration": 884,
             "learn": [
              0.9974092756,
              0.03530621819
             ],
             "passed_time": 1119.450337,
             "remaining_time": 11529.70602,
             "test": [
              0.9205015536,
              0.211294415
             ]
            },
            {
             "iteration": 885,
             "learn": [
              0.9974092756,
              0.03526044512
             ],
             "passed_time": 1120.862148,
             "remaining_time": 11529.95216,
             "test": [
              0.920320034,
              0.2113263679
             ]
            },
            {
             "iteration": 886,
             "learn": [
              0.9973638434,
              0.03517294268
             ],
             "passed_time": 1122.332869,
             "remaining_time": 11530.79982,
             "test": [
              0.920320034,
              0.2112029765
             ]
            },
            {
             "iteration": 887,
             "learn": [
              0.9973638434,
              0.0351267163
             ],
             "passed_time": 1124.061684,
             "remaining_time": 11534.29061,
             "test": [
              0.9200796228,
              0.2112542095
             ]
            },
            {
             "iteration": 888,
             "learn": [
              0.9973638434,
              0.03508782969
             ],
             "passed_time": 1125.354877,
             "remaining_time": 11533.30516,
             "test": [
              0.9200796228,
              0.2112759501
             ]
            },
            {
             "iteration": 889,
             "learn": [
              0.9974092756,
              0.03506063734
             ],
             "passed_time": 1126.915272,
             "remaining_time": 11535.05408,
             "test": [
              0.9200796228,
              0.2112219833
             ]
            },
            {
             "iteration": 890,
             "learn": [
              0.9974092756,
              0.03500190385
             ],
             "passed_time": 1128.142283,
             "remaining_time": 11533.38727,
             "test": [
              0.9200796228,
              0.2112679957
             ]
            },
            {
             "iteration": 891,
             "learn": [
              0.9974092756,
              0.03496174632
             ],
             "passed_time": 1129.587766,
             "remaining_time": 11533.95221,
             "test": [
              0.919533853,
              0.2113129409
             ]
            },
            {
             "iteration": 892,
             "learn": [
              0.9973638434,
              0.03489423526
             ],
             "passed_time": 1130.768947,
             "remaining_time": 11531.81725,
             "test": [
              0.919533853,
              0.2112913918
             ]
            },
            {
             "iteration": 893,
             "learn": [
              0.9974092752,
              0.03479677364
             ],
             "passed_time": 1132.089119,
             "remaining_time": 11531.10013,
             "test": [
              0.9204511901,
              0.2113124411
             ]
            },
            {
             "iteration": 894,
             "learn": [
              0.9974547074,
              0.03469828886
             ],
             "passed_time": 1132.924278,
             "remaining_time": 11525.44754,
             "test": [
              0.9200752282,
              0.2113293949
             ]
            },
            {
             "iteration": 895,
             "learn": [
              0.9974547074,
              0.03464974304
             ],
             "passed_time": 1133.927187,
             "remaining_time": 11521.51017,
             "test": [
              0.920254146,
              0.2113476835
             ]
            },
            {
             "iteration": 896,
             "learn": [
              0.997500162,
              0.0346119061
             ],
             "passed_time": 1135.326224,
             "remaining_time": 11521.59935,
             "test": [
              0.9208039253,
              0.2112998309
             ]
            },
            {
             "iteration": 897,
             "learn": [
              0.997500162,
              0.03455543671
             ],
             "passed_time": 1136.375635,
             "remaining_time": 11518.14146,
             "test": [
              0.9206233759,
              0.2113652666
             ]
            },
            {
             "iteration": 898,
             "learn": [
              0.997500162,
              0.03450381537
             ],
             "passed_time": 1137.483289,
             "remaining_time": 11515.27854,
             "test": [
              0.920983759,
              0.2113493822
             ]
            },
            {
             "iteration": 899,
             "learn": [
              0.9975910731,
              0.03444251914
             ],
             "passed_time": 1138.618054,
             "remaining_time": 11512.69366,
             "test": [
              0.9209857252,
              0.2113572558
             ]
            },
            {
             "iteration": 900,
             "learn": [
              0.9975456225,
              0.03436920591
             ],
             "passed_time": 1139.861339,
             "remaining_time": 11511.20791,
             "test": [
              0.9209857252,
              0.2112902266
             ]
            },
            {
             "iteration": 901,
             "learn": [
              0.9975910731,
              0.03427842538
             ],
             "passed_time": 1141.175843,
             "remaining_time": 11510.44104,
             "test": [
              0.9209857252,
              0.2113643663
             ]
            },
            {
             "iteration": 902,
             "learn": [
              0.9975456126,
              0.03425110921
             ],
             "passed_time": 1142.227685,
             "remaining_time": 11507.02685,
             "test": [
              0.9209857252,
              0.2114187304
             ]
            },
            {
             "iteration": 903,
             "learn": [
              0.9975910432,
              0.03416572747
             ],
             "passed_time": 1143.766031,
             "remaining_time": 11508.51307,
             "test": [
              0.9207979189,
              0.2114801445
             ]
            },
            {
             "iteration": 904,
             "learn": [
              0.9975910432,
              0.03410858165
             ],
             "passed_time": 1144.690137,
             "remaining_time": 11503.81967,
             "test": [
              0.9207979189,
              0.2114460528
             ]
            },
            {
             "iteration": 905,
             "learn": [
              0.9975910432,
              0.03406777268
             ],
             "passed_time": 1145.774527,
             "remaining_time": 11500.74343,
             "test": [
              0.920436568,
              0.2114475215
             ]
            },
            {
             "iteration": 906,
             "learn": [
              0.9975910432,
              0.03398358674
             ],
             "passed_time": 1146.974612,
             "remaining_time": 11498.83148,
             "test": [
              0.9206180861,
              0.2114090939
             ]
            },
            {
             "iteration": 907,
             "learn": [
              0.9976365037,
              0.03387925137
             ],
             "passed_time": 1148.08661,
             "remaining_time": 11496.03905,
             "test": [
              0.920799586,
              0.2115175357
             ]
            },
            {
             "iteration": 908,
             "learn": [
              0.9976365037,
              0.03385300571
             ],
             "passed_time": 1149.632277,
             "remaining_time": 11497.58749,
             "test": [
              0.9209872109,
              0.2115955659
             ]
            },
            {
             "iteration": 909,
             "learn": [
              0.9976365037,
              0.03380731674
             ],
             "passed_time": 1150.804911,
             "remaining_time": 11495.4029,
             "test": [
              0.920805711,
              0.2116461946
             ]
            },
            {
             "iteration": 910,
             "learn": [
              0.9976365037,
              0.03374473526
             ],
             "passed_time": 1151.800241,
             "remaining_time": 11491.45158,
             "test": [
              0.9209862724,
              0.2116746873
             ]
            },
            {
             "iteration": 911,
             "learn": [
              0.9976365037,
              0.03366022336
             ],
             "passed_time": 1153.088787,
             "remaining_time": 11490.42862,
             "test": [
              0.9206089826,
              0.2117618339
             ]
            },
            {
             "iteration": 912,
             "learn": [
              0.9976365037,
              0.03360161062
             ],
             "passed_time": 1154.629086,
             "remaining_time": 11491.91074,
             "test": [
              0.9204300834,
              0.2117796499
             ]
            },
            {
             "iteration": 913,
             "learn": [
              0.9976365037,
              0.03355681612
             ],
             "passed_time": 1156.349581,
             "remaining_time": 11495.17756,
             "test": [
              0.9204284725,
              0.2118389273
             ]
            },
            {
             "iteration": 914,
             "learn": [
              0.9976819338,
              0.03350826188
             ],
             "passed_time": 1157.878609,
             "remaining_time": 11496.53242,
             "test": [
              0.9204348501,
              0.2119063135
             ]
            },
            {
             "iteration": 915,
             "learn": [
              0.9976819338,
              0.03347795376
             ],
             "passed_time": 1159.107074,
             "remaining_time": 11494.90029,
             "test": [
              0.9206153573,
              0.2119564049
             ]
            },
            {
             "iteration": 916,
             "learn": [
              0.9976819338,
              0.03343894122
             ],
             "passed_time": 1160.25054,
             "remaining_time": 11492.4271,
             "test": [
              0.920981872,
              0.2120388105
             ]
            },
            {
             "iteration": 917,
             "learn": [
              0.99772739,
              0.03333134033
             ],
             "passed_time": 1161.691747,
             "remaining_time": 11492.90244,
             "test": [
              0.9212250585,
              0.2121952092
             ]
            },
            {
             "iteration": 918,
             "learn": [
              0.99772739,
              0.03329912064
             ],
             "passed_time": 1162.961331,
             "remaining_time": 11491.67774,
             "test": [
              0.9212242682,
              0.212250331
             ]
            },
            {
             "iteration": 919,
             "learn": [
              0.99772739,
              0.03325887658
             ],
             "passed_time": 1164.479304,
             "remaining_time": 11492.90443,
             "test": [
              0.9210453183,
              0.2123115204
             ]
            },
            {
             "iteration": 920,
             "learn": [
              0.99772739,
              0.0332238922
             ],
             "passed_time": 1165.845682,
             "remaining_time": 11492.63078,
             "test": [
              0.9212329078,
              0.2123346464
             ]
            },
            {
             "iteration": 921,
             "learn": [
              0.9976819338,
              0.03315521098
             ],
             "passed_time": 1167.233679,
             "remaining_time": 11492.56761,
             "test": [
              0.9208740353,
              0.2123663186
             ]
            },
            {
             "iteration": 922,
             "learn": [
              0.9976819338,
              0.03313134792
             ],
             "passed_time": 1168.417761,
             "remaining_time": 11490.49623,
             "test": [
              0.9208740353,
              0.2122803345
             ]
            },
            {
             "iteration": 923,
             "learn": [
              0.9976819338,
              0.03309919827
             ],
             "passed_time": 1169.628973,
             "remaining_time": 11488.69324,
             "test": [
              0.9206864779,
              0.2122641059
             ]
            },
            {
             "iteration": 924,
             "learn": [
              0.997772819,
              0.03301458287
             ],
             "passed_time": 1170.844618,
             "remaining_time": 11486.93503,
             "test": [
              0.9208040185,
              0.2122870456
             ]
            },
            {
             "iteration": 925,
             "learn": [
              0.997681929,
              0.03294331094
             ],
             "passed_time": 1172.331971,
             "remaining_time": 11487.8405,
             "test": [
              0.9209855438,
              0.212335568
             ]
            },
            {
             "iteration": 926,
             "learn": [
              0.997681929,
              0.03291116211
             ],
             "passed_time": 1173.607644,
             "remaining_time": 11486.669,
             "test": [
              0.9207977896,
              0.2123136945
             ]
            },
            {
             "iteration": 927,
             "learn": [
              0.99772739,
              0.03280461584
             ],
             "passed_time": 1174.874984,
             "remaining_time": 11485.41579,
             "test": [
              0.9202513332,
              0.2124018479
             ]
            },
            {
             "iteration": 928,
             "learn": [
              0.9976819338,
              0.03273134825
             ],
             "passed_time": 1176.066159,
             "remaining_time": 11483.41887,
             "test": [
              0.921035515,
              0.2124993155
             ]
            },
            {
             "iteration": 929,
             "learn": [
              0.9976819338,
              0.0327007147
             ],
             "passed_time": 1177.209432,
             "remaining_time": 11480.9565,
             "test": [
              0.921037194,
              0.2125071176
             ]
            },
            {
             "iteration": 930,
             "learn": [
              0.9976819338,
              0.03260006439
             ],
             "passed_time": 1178.068606,
             "remaining_time": 11475.72952,
             "test": [
              0.921037194,
              0.2124604037
             ]
            },
            {
             "iteration": 931,
             "learn": [
              0.9976819338,
              0.03255998121
             ],
             "passed_time": 1179.466869,
             "remaining_time": 11475.75705,
             "test": [
              0.9210434876,
              0.2124808918
             ]
            },
            {
             "iteration": 932,
             "learn": [
              0.9977273595,
              0.03251205146
             ],
             "passed_time": 1180.739392,
             "remaining_time": 11474.55956,
             "test": [
              0.9208565834,
              0.212533061
             ]
            },
            {
             "iteration": 933,
             "learn": [
              0.9977273595,
              0.03242663822
             ],
             "passed_time": 1181.944905,
             "remaining_time": 11472.71147,
             "test": [
              0.9209765714,
              0.2125245516
             ]
            },
            {
             "iteration": 934,
             "learn": [
              0.9977273595,
              0.03238163125
             ],
             "passed_time": 1183.435158,
             "remaining_time": 11473.62535,
             "test": [
              0.9209765714,
              0.2125900746
             ]
            },
            {
             "iteration": 935,
             "learn": [
              0.9978182712,
              0.03230866364
             ],
             "passed_time": 1184.775984,
             "remaining_time": 11473.08709,
             "test": [
              0.9212169826,
              0.2126104439
             ]
            },
            {
             "iteration": 936,
             "learn": [
              0.9978637002,
              0.0322056024
             ],
             "passed_time": 1186.038908,
             "remaining_time": 11471.79362,
             "test": [
              0.9210380511,
              0.2127808376
             ]
            },
            {
             "iteration": 937,
             "learn": [
              0.9978637002,
              0.03208714054
             ],
             "passed_time": 1187.919729,
             "remaining_time": 11476.4697,
             "test": [
              0.9204299923,
              0.2130028306
             ]
            },
            {
             "iteration": 938,
             "learn": [
              0.9979546156,
              0.03200686742
             ],
             "passed_time": 1189.311228,
             "remaining_time": 11476.41005,
             "test": [
              0.9204299923,
              0.2129934605
             ]
            },
            {
             "iteration": 939,
             "learn": [
              0.9979091608,
              0.03192290397
             ],
             "passed_time": 1190.312424,
             "remaining_time": 11472.5857,
             "test": [
              0.9206756585,
              0.2128857893
             ]
            },
            {
             "iteration": 940,
             "learn": [
              0.9979546156,
              0.03176013009
             ],
             "passed_time": 1191.472915,
             "remaining_time": 11470.30089,
             "test": [
              0.9204878948,
              0.2129836802
             ]
            },
            {
             "iteration": 941,
             "learn": [
              0.9979546156,
              0.03171705038
             ],
             "passed_time": 1192.586974,
             "remaining_time": 11467.57199,
             "test": [
              0.9204878948,
              0.213057011
             ]
            },
            {
             "iteration": 942,
             "learn": [
              0.9979546156,
              0.03168974772
             ],
             "passed_time": 1193.684171,
             "remaining_time": 11464.68456,
             "test": [
              0.9206758057,
              0.2130546496
             ]
            },
            {
             "iteration": 943,
             "learn": [
              0.9979546156,
              0.03165627587
             ],
             "passed_time": 1194.934115,
             "remaining_time": 11463.26626,
             "test": [
              0.9206758057,
              0.2130311981
             ]
            },
            {
             "iteration": 944,
             "learn": [
              0.9979546156,
              0.03163883941
             ],
             "passed_time": 1196.196157,
             "remaining_time": 11461.96423,
             "test": [
              0.9204878948,
              0.2130576048
             ]
            },
            {
             "iteration": 945,
             "learn": [
              0.9979546156,
              0.03154828762
             ],
             "passed_time": 1197.351244,
             "remaining_time": 11459.63865,
             "test": [
              0.9203113261,
              0.2130990644
             ]
            },
            {
             "iteration": 946,
             "learn": [
              0.9979546156,
              0.03150686847
             ],
             "passed_time": 1198.750502,
             "remaining_time": 11459.64973,
             "test": [
              0.9203113261,
              0.2131792579
             ]
            },
            {
             "iteration": 947,
             "learn": [
              0.9979546156,
              0.03145365964
             ],
             "passed_time": 1200.135976,
             "remaining_time": 11459.52622,
             "test": [
              0.920859309,
              0.2131586441
             ]
            },
            {
             "iteration": 948,
             "learn": [
              0.9979546156,
              0.0313905042
             ],
             "passed_time": 1201.613761,
             "remaining_time": 11460.28045,
             "test": [
              0.9210379384,
              0.2131579306
             ]
            },
            {
             "iteration": 949,
             "learn": [
              0.9980000425,
              0.03132465076
             ],
             "passed_time": 1202.933054,
             "remaining_time": 11459.52014,
             "test": [
              0.9214082128,
              0.2131697911
             ]
            },
            {
             "iteration": 950,
             "learn": [
              0.9980455018,
              0.03124372206
             ],
             "passed_time": 1204.078364,
             "remaining_time": 11457.10317,
             "test": [
              0.9210407425,
              0.2131084097
             ]
            },
            {
             "iteration": 951,
             "learn": [
              0.9980455018,
              0.03119518427
             ],
             "passed_time": 1205.342693,
             "remaining_time": 11455.82005,
             "test": [
              0.920860964,
              0.2130602918
             ]
            },
            {
             "iteration": 952,
             "learn": [
              0.9980455018,
              0.03116964243
             ],
             "passed_time": 1206.796469,
             "remaining_time": 11456.33542,
             "test": [
              0.920860964,
              0.2130596078
             ]
            },
            {
             "iteration": 953,
             "learn": [
              0.998000044,
              0.03109593312
             ],
             "passed_time": 1208.19332,
             "remaining_time": 11456.30689,
             "test": [
              0.9210407425,
              0.2131344502
             ]
            },
            {
             "iteration": 954,
             "learn": [
              0.998000044,
              0.03104746381
             ],
             "passed_time": 1209.545533,
             "remaining_time": 11455.85272,
             "test": [
              0.9214082128,
              0.2132216591
             ]
            },
            {
             "iteration": 955,
             "learn": [
              0.998000044,
              0.03097488566
             ],
             "passed_time": 1210.915479,
             "remaining_time": 11455.56443,
             "test": [
              0.9214082128,
              0.2131913943
             ]
            },
            {
             "iteration": 956,
             "learn": [
              0.9981364147,
              0.03090184942
             ],
             "passed_time": 1212.341538,
             "remaining_time": 11455.80411,
             "test": [
              0.9214082128,
              0.2131689837
             ]
            },
            {
             "iteration": 957,
             "learn": [
              0.9981364147,
              0.03083063512
             ],
             "passed_time": 1213.298057,
             "remaining_time": 11451.60859,
             "test": [
              0.9214082128,
              0.2131230448
             ]
            },
            {
             "iteration": 958,
             "learn": [
              0.9981364147,
              0.03075470509
             ],
             "passed_time": 1214.532199,
             "remaining_time": 11450.03714,
             "test": [
              0.9214082128,
              0.2131718863
             ]
            },
            {
             "iteration": 959,
             "learn": [
              0.9981364147,
              0.03068691472
             ],
             "passed_time": 1216.052428,
             "remaining_time": 11451.16036,
             "test": [
              0.9214082128,
              0.2132217716
             ]
            },
            {
             "iteration": 960,
             "learn": [
              0.9980909586,
              0.0306319304
             ],
             "passed_time": 1217.287254,
             "remaining_time": 11449.59364,
             "test": [
              0.9210463199,
              0.2132539881
             ]
            },
            {
             "iteration": 961,
             "learn": [
              0.9980909586,
              0.03057828776
             ],
             "passed_time": 1218.759016,
             "remaining_time": 11450.25362,
             "test": [
              0.920872928,
              0.213290216
             ]
            },
            {
             "iteration": 962,
             "learn": [
              0.9980909586,
              0.03057036156
             ],
             "passed_time": 1220.278351,
             "remaining_time": 11451.35562,
             "test": [
              0.920872928,
              0.2132848486
             ]
            },
            {
             "iteration": 963,
             "learn": [
              0.9980455289,
              0.03050352127
             ],
             "passed_time": 1221.914928,
             "remaining_time": 11453.55113,
             "test": [
              0.920872928,
              0.2133043097
             ]
            },
            {
             "iteration": 964,
             "learn": [
              0.9980455289,
              0.03042891558
             ],
             "passed_time": 1223.427913,
             "remaining_time": 11454.58155,
             "test": [
              0.9210543336,
              0.2133600094
             ]
            },
            {
             "iteration": 965,
             "learn": [
              0.9980455289,
              0.03037893452
             ],
             "passed_time": 1224.434121,
             "remaining_time": 11450.86734,
             "test": [
              0.9210466658,
              0.2133713036
             ]
            },
            {
             "iteration": 966,
             "learn": [
              0.9980455289,
              0.03028588721
             ],
             "passed_time": 1225.83191,
             "remaining_time": 11450.81659,
             "test": [
              0.9206841504,
              0.2133576717
             ]
            },
            {
             "iteration": 967,
             "learn": [
              0.9980909821,
              0.03020605626
             ],
             "passed_time": 1227.242021,
             "remaining_time": 11450.87803,
             "test": [
              0.9205027913,
              0.2134157269
             ]
            },
            {
             "iteration": 968,
             "learn": [
              0.9980909821,
              0.03013831753
             ],
             "passed_time": 1228.362909,
             "remaining_time": 11448.2409,
             "test": [
              0.9205104168,
              0.2133866856
             ]
            },
            {
             "iteration": 969,
             "learn": [
              0.998227335,
              0.03005303691
             ],
             "passed_time": 1229.822537,
             "remaining_time": 11448.76032,
             "test": [
              0.9203261554,
              0.2135474625
             ]
            },
            {
             "iteration": 970,
             "learn": [
              0.998227335,
              0.03002882467
             ],
             "passed_time": 1231.156469,
             "remaining_time": 11448.10686,
             "test": [
              0.9203261554,
              0.2135166638
             ]
            }
           ],
           "meta": {
            "iteration_count": 10000,
            "launch_mode": "Train",
            "learn_metrics": [
             {
              "best_value": "Max",
              "name": "TotalF1"
             },
             {
              "best_value": "Min",
              "name": "MultiClass"
             }
            ],
            "learn_sets": [
             "learn"
            ],
            "name": "experiment",
            "parameters": "",
            "test_metrics": [
             {
              "best_value": "Max",
              "name": "TotalF1"
             },
             {
              "best_value": "Min",
              "name": "MultiClass"
             }
            ],
            "test_sets": [
             "test"
            ]
           }
          },
          "passed_iterations": 970,
          "total_iterations": 10000
         },
         "name": "catboost_info",
         "path": "catboost_info"
        }
       },
       "layout": "IPY_MODEL_691fce840e264c3f974ecfd76da44aac"
      }
     }
    },
    "version_major": 2,
    "version_minor": 0
   }
  }
 },
 "nbformat": 4,
 "nbformat_minor": 5
}
